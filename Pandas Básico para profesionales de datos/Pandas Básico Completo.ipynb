{
 "cells": [
  {
   "cell_type": "markdown",
   "metadata": {},
   "source": [
    "# Introducción a Pandas: Conceptos Clave y Operaciones Esenciales para Principiantes en Análisis de Datos\n",
    "\n",
    "> - Pandas es una librería de Python fundamental para manipulación y análisis de datos, basada en estructuras llamadas DataFrames y Series.\n",
    "> - DataFrames son tablas bidimensionales con filas y columnas etiquetadas, mientras que Series son arreglos unidimensionales indexados.\n",
    "> - Operaciones básicas incluyen creación de DataFrames, lectura/escritura de archivos CSV/Excel, selección y filtrado de datos, manipulación de columnas, y manejo de valores faltantes.\n",
    "> - Pandas permite aplicar funciones a datos, combinar DataFrames mediante merge y concat, y realizar agregaciones estadísticas con groupby y agg.\n",
    "> - La integración con Matplotlib facilita la visualización de datos para análisis exploratorio.\n",
    "\n",
    "---\n",
    "#### Video completo en: [El loco de los datos](https://www.youtube.com/@ellocodelosdatos)\n",
    "## Introducción\n",
    "\n",
    "Pandas es una librería de Python diseñada para la manipulación y análisis de datos estructurados, que ha devenido en una herramienta indispensable en el ecosistema de ciencia de datos. Para quienes se inician en el análisis y procesamiento de datos, entender qué es Pandas y dominar sus operaciones básicas es un paso crucial para avanzar en la ciencia de datos, el aprendizaje automático y la estadística aplicada.\n",
    "\n",
    "Este notebook está orientado a principiantes sin experiencia previa en Pandas, y tiene como objetivo explicar de manera clara y pedagógica qué es Pandas, sus conceptos fundamentales y las operaciones más esenciales, con ejemplos prácticos y enlaces a la documentación oficial."
   ]
  },
  {
   "cell_type": "markdown",
   "metadata": {},
   "source": [
    "## Conceptos Fundamentales de Pandas\n",
    "\n",
    "### ¿Qué es Pandas?\n",
    "\n",
    "Pandas es una librería de Python de código abierto, desarrollada para facilitar la manipulación y análisis de datos tabulares. Su nombre proviene de \"Panel Data\", un término econométrico para conjuntos de datos estructurados. Pandas proporciona estructuras de datos rápidas, flexibles y expresivas, diseñadas para que el trabajo con datos etiquetados o relacionales sea intuitivo y eficiente.\n",
    "\n",
    "Pandas está construido sobre NumPy, lo que le permite aprovechar las capacidades de cálculo numérico y manejo de arrays multidimensionales, y se integra con otras librerías como Matplotlib para visualización y SciPy para análisis estadístico.\n",
    "\n",
    "### Analogía para principiantes\n",
    "\n",
    "Para quienes no tienen experiencia previa, Pandas puede entenderse como una hoja de cálculo en Excel, pero con superpoderes para programadores. Mientras Excel permite manipular datos en filas y columnas de forma manual, Pandas automatiza estas operaciones mediante código, permitiendo análisis más complejos, manipulación de grandes volúmenes de datos y automatización de tareas repetitivas.\n",
    "\n",
    "### Estructuras de datos principales: DataFrame y Series\n",
    "\n",
    "- **Series**: Es una estructura unidimensional indexada, similar a un array o lista, pero con etiquetas asociadas a cada elemento. Puede contener distintos tipos de datos (numéricos, texto, fechas) y es la base para las columnas de un DataFrame.\n",
    "- **DataFrame**: Es una estructura bidimensional, similar a una tabla en una base de datos o una hoja de cálculo, compuesta por Series que representan sus columnas. Los DataFrames tienen índices para filas y columnas, lo que permite acceder a los datos de forma flexible.\n",
    "\n",
    "```mermaid\n",
    "graph TD\n",
    "    A[Pandas] --> B[Serie]\n",
    "    A --> C[DataFrame]\n",
    "\n",
    "    B -->|Estructura| D[Unidimensional]\n",
    "    B -->|Índices| E[Etiquetas]\n",
    "    B -->|Ejemplo| F[\"Series: [10, 20, 30, 40] con índices: ['a', 'b', 'c', 'd']\"]\n",
    "\n",
    "    C -->|Estructura| G[Bidimensional]\n",
    "    C -->|Filas| H[Índices]\n",
    "    C -->|Columnas| I[Etiquetas]\n",
    "    C -->|Ejemplo| J[\"DataFrame: Tabla con columnas 'Nombre', 'Edad', 'Ciudad' y filas etiquetadas\"]\n",
    "\n",
    "    style A fill:#f9f,stroke:#333\n",
    "    style B fill:#bbf,stroke:#333\n",
    "    style C fill:#bbf,stroke:#333\n",
    "    style D fill:#f96,stroke:#333\n",
    "    style E fill:#f96,stroke:#333\n",
    "    style F fill:#f96,stroke:#333\n",
    "    style G fill:#f96,stroke:#333\n",
    "    style H fill:#f96,stroke:#333\n",
    "    style I fill:#f96,stroke:#333\n",
    "    style J fill:#f96,stroke:#333\n",
    "```\n",
    "**Serie**\n",
    "| Index | Nombre      |\n",
    "|--------|-------------|\n",
    "| 1      | Laptop      |\n",
    "| 2      | Teléfono    |\n",
    "| 3      | Tablet      |\n",
    "| 4      | Monitor     |\n",
    "| 5      | Auriculares |\n",
    "\n",
    "**Dataframe**\n",
    "  Index | Código    | Nombre      | Precio   |\n",
    " |--------|-----------|-------------|----------|\n",
    " | 1      | PROD001   | Laptop      | \\$1200.50 |\n",
    " | 2      | PROD002   | Teléfono    | \\$899.99  |\n",
    " | 3      | PROD003   | Tablet      | \\$349.99  |\n",
    " | 4      | PROD004   | Monitor     | \\$249.99  |\n",
    " | 5      | PROD005   | Auriculares | \\$99.99   |\n",
    "\n",
    "Ambas estructuras están construidas sobre NumPy y permiten operaciones aritméticas, slicing, y manipulación de datos con métodos específicos.\n",
    "\n",
    "### Índices y etiquetas\n",
    "\n",
    "Pandas usa índices para identificar filas y columnas. El índice de filas se denomina `index` y el de columnas `columns`. Estos índices pueden ser numéricos (por defecto) o personalizados (etiquetas). Los índices son inmutables, lo que significa que no pueden modificarse directamente, aunque sí pueden reemplazarse por nuevos conjuntos de etiquetas.\n",
    "\n",
    "### Tipos de datos en Pandas\n",
    "\n",
    "Pandas soporta una amplia variedad de tipos de datos, entre ellos:\n",
    "- `int64`, `float64`: Números enteros y decimales.\n",
    "- `object`: Datos de texto o mixtos.\n",
    "- `datetime64`: Fechas y horas.\n",
    "- `bool`: Valores booleanos.\n",
    "\n",
    "El tipo de dato (`dtype`) es relevante porque determina qué operaciones pueden realizarse sobre los datos (por ejemplo, operaciones matemáticas en numéricos vs. manipulación de texto en objetos)."
   ]
  },
  {
   "cell_type": "markdown",
   "metadata": {},
   "source": [
    "## Operaciones Básicas Esenciales de Pandas"
   ]
  },
  {
   "cell_type": "markdown",
   "metadata": {},
   "source": [
    "### Instalación"
   ]
  },
  {
   "cell_type": "markdown",
   "metadata": {},
   "source": [
    "`pip install pandas`"
   ]
  },
  {
   "cell_type": "markdown",
   "metadata": {},
   "source": [
    "### Creación de DataFrames y Series\n",
    "\n",
    "Pandas permite crear DataFrames y Series a partir de diversas fuentes: diccionarios, listas, archivos CSV, Excel, JSON y bases de datos."
   ]
  },
  {
   "cell_type": "code",
   "execution_count": 11,
   "metadata": {},
   "outputs": [],
   "source": [
    "import pandas as pd"
   ]
  },
  {
   "cell_type": "markdown",
   "metadata": {},
   "source": [
    "- **Desde diccionarios**:"
   ]
  },
  {
   "cell_type": "code",
   "execution_count": 12,
   "metadata": {},
   "outputs": [
    {
     "data": {
      "text/html": [
       "<div><div id=a148d242-9bec-4d14-b8b8-e6b0e2373eb8 style=\"display:none; background-color:#9D6CFF; color:white; width:200px; height:30px; padding-left:5px; border-radius:4px; flex-direction:row; justify-content:space-around; align-items:center;\" onmouseover=\"this.style.backgroundColor='#BA9BF8'\" onmouseout=\"this.style.backgroundColor='#9D6CFF'\" onclick=\"window.commands?.execute('create-mitosheet-from-dataframe-output');\">See Full Dataframe in Mito</div> <script> if (window.commands?.hasCommand('create-mitosheet-from-dataframe-output')) document.getElementById('a148d242-9bec-4d14-b8b8-e6b0e2373eb8').style.display = 'flex' </script> <table border=\"1\" class=\"dataframe\">\n",
       "  <thead>\n",
       "    <tr style=\"text-align: right;\">\n",
       "      <th></th>\n",
       "      <th>Nombre</th>\n",
       "      <th>Edad</th>\n",
       "    </tr>\n",
       "  </thead>\n",
       "  <tbody>\n",
       "    <tr>\n",
       "      <th>0</th>\n",
       "      <td>Ana</td>\n",
       "      <td>28</td>\n",
       "    </tr>\n",
       "    <tr>\n",
       "      <th>1</th>\n",
       "      <td>Luis</td>\n",
       "      <td>34</td>\n",
       "    </tr>\n",
       "    <tr>\n",
       "      <th>2</th>\n",
       "      <td>Juan</td>\n",
       "      <td>29</td>\n",
       "    </tr>\n",
       "  </tbody>\n",
       "</table></div>"
      ],
      "text/plain": [
       "  Nombre  Edad\n",
       "0    Ana    28\n",
       "1   Luis    34\n",
       "2   Juan    29"
      ]
     },
     "execution_count": 12,
     "metadata": {},
     "output_type": "execute_result"
    }
   ],
   "source": [
    "data = {'Nombre': ['Ana', 'Luis', 'Juan'], \n",
    "        'Edad': [28, 34, 29]\n",
    "       }\n",
    "df = pd.DataFrame(data)\n",
    "df"
   ]
  },
  {
   "cell_type": "markdown",
   "metadata": {},
   "source": [
    "- **Desde listas de diccionarios**:"
   ]
  },
  {
   "cell_type": "code",
   "execution_count": 13,
   "metadata": {},
   "outputs": [
    {
     "data": {
      "text/html": [
       "<div><div id=cf5c3088-423e-45c6-bcd8-0e5fce9a40ec style=\"display:none; background-color:#9D6CFF; color:white; width:200px; height:30px; padding-left:5px; border-radius:4px; flex-direction:row; justify-content:space-around; align-items:center;\" onmouseover=\"this.style.backgroundColor='#BA9BF8'\" onmouseout=\"this.style.backgroundColor='#9D6CFF'\" onclick=\"window.commands?.execute('create-mitosheet-from-dataframe-output');\">See Full Dataframe in Mito</div> <script> if (window.commands?.hasCommand('create-mitosheet-from-dataframe-output')) document.getElementById('cf5c3088-423e-45c6-bcd8-0e5fce9a40ec').style.display = 'flex' </script> <table border=\"1\" class=\"dataframe\">\n",
       "  <thead>\n",
       "    <tr style=\"text-align: right;\">\n",
       "      <th></th>\n",
       "      <th>Nombre</th>\n",
       "      <th>Edad</th>\n",
       "    </tr>\n",
       "  </thead>\n",
       "  <tbody>\n",
       "    <tr>\n",
       "      <th>0</th>\n",
       "      <td>Ana</td>\n",
       "      <td>28</td>\n",
       "    </tr>\n",
       "    <tr>\n",
       "      <th>1</th>\n",
       "      <td>Luis</td>\n",
       "      <td>34</td>\n",
       "    </tr>\n",
       "  </tbody>\n",
       "</table></div>"
      ],
      "text/plain": [
       "  Nombre  Edad\n",
       "0    Ana    28\n",
       "1   Luis    34"
      ]
     },
     "execution_count": 13,
     "metadata": {},
     "output_type": "execute_result"
    }
   ],
   "source": [
    "# Desde listas de diccionarios:\n",
    "data = [{'Nombre': 'Ana', 'Edad': 28}, \n",
    "        {'Nombre': 'Luis', 'Edad': 34}]\n",
    "df = pd.DataFrame(data)\n",
    "df"
   ]
  },
  {
   "cell_type": "markdown",
   "metadata": {},
   "source": [
    "- **Desde archivos CSV**:"
   ]
  },
  {
   "cell_type": "markdown",
   "metadata": {},
   "source": [
    "Carga básica"
   ]
  },
  {
   "cell_type": "code",
   "execution_count": 14,
   "metadata": {},
   "outputs": [
    {
     "data": {
      "text/html": [
       "<div><div id=8f2e8b35-652d-4adc-b2e8-92911174ff1b style=\"display:none; background-color:#9D6CFF; color:white; width:200px; height:30px; padding-left:5px; border-radius:4px; flex-direction:row; justify-content:space-around; align-items:center;\" onmouseover=\"this.style.backgroundColor='#BA9BF8'\" onmouseout=\"this.style.backgroundColor='#9D6CFF'\" onclick=\"window.commands?.execute('create-mitosheet-from-dataframe-output');\">See Full Dataframe in Mito</div> <script> if (window.commands?.hasCommand('create-mitosheet-from-dataframe-output')) document.getElementById('8f2e8b35-652d-4adc-b2e8-92911174ff1b').style.display = 'flex' </script> <table border=\"1\" class=\"dataframe\">\n",
       "  <thead>\n",
       "    <tr style=\"text-align: right;\">\n",
       "      <th></th>\n",
       "      <th>Producto</th>\n",
       "      <th>Fecha</th>\n",
       "      <th>Valor</th>\n",
       "    </tr>\n",
       "  </thead>\n",
       "  <tbody>\n",
       "    <tr>\n",
       "      <th>0</th>\n",
       "      <td>Laptop</td>\n",
       "      <td>2025-01-15</td>\n",
       "      <td>1200.50</td>\n",
       "    </tr>\n",
       "    <tr>\n",
       "      <th>1</th>\n",
       "      <td>Teléfono</td>\n",
       "      <td>2025-02-20</td>\n",
       "      <td>899.99</td>\n",
       "    </tr>\n",
       "    <tr>\n",
       "      <th>2</th>\n",
       "      <td>Tablet</td>\n",
       "      <td>2025-03-10</td>\n",
       "      <td>349.99</td>\n",
       "    </tr>\n",
       "    <tr>\n",
       "      <th>3</th>\n",
       "      <td>Monitor</td>\n",
       "      <td>2025-04-05</td>\n",
       "      <td>249.99</td>\n",
       "    </tr>\n",
       "    <tr>\n",
       "      <th>4</th>\n",
       "      <td>Teclado</td>\n",
       "      <td>2025-05-12</td>\n",
       "      <td>59.99</td>\n",
       "    </tr>\n",
       "    <tr>\n",
       "      <th>5</th>\n",
       "      <td>Ratón</td>\n",
       "      <td>2025-06-18</td>\n",
       "      <td>25.50</td>\n",
       "    </tr>\n",
       "    <tr>\n",
       "      <th>6</th>\n",
       "      <td>Impresora</td>\n",
       "      <td>2025-07-22</td>\n",
       "      <td>149.99</td>\n",
       "    </tr>\n",
       "    <tr>\n",
       "      <th>7</th>\n",
       "      <td>Auriculares</td>\n",
       "      <td>2025-08-30</td>\n",
       "      <td>99.99</td>\n",
       "    </tr>\n",
       "  </tbody>\n",
       "</table></div>"
      ],
      "text/plain": [
       "      Producto       Fecha    Valor\n",
       "0       Laptop  2025-01-15  1200.50\n",
       "1     Teléfono  2025-02-20   899.99\n",
       "2       Tablet  2025-03-10   349.99\n",
       "3      Monitor  2025-04-05   249.99\n",
       "4      Teclado  2025-05-12    59.99\n",
       "5        Ratón  2025-06-18    25.50\n",
       "6    Impresora  2025-07-22   149.99\n",
       "7  Auriculares  2025-08-30    99.99"
      ]
     },
     "execution_count": 14,
     "metadata": {},
     "output_type": "execute_result"
    }
   ],
   "source": [
    "df = pd.read_csv('productos_ejemplo.csv')  # Lectura de CSV\n",
    "df"
   ]
  },
  {
   "cell_type": "markdown",
   "metadata": {},
   "source": [
    "Carga con separador diferente"
   ]
  },
  {
   "cell_type": "code",
   "execution_count": 16,
   "metadata": {},
   "outputs": [
    {
     "data": {
      "text/html": [
       "<div><div id=1bd05774-1dec-482f-9fd7-ba57b105780b style=\"display:none; background-color:#9D6CFF; color:white; width:200px; height:30px; padding-left:5px; border-radius:4px; flex-direction:row; justify-content:space-around; align-items:center;\" onmouseover=\"this.style.backgroundColor='#BA9BF8'\" onmouseout=\"this.style.backgroundColor='#9D6CFF'\" onclick=\"window.commands?.execute('create-mitosheet-from-dataframe-output');\">See Full Dataframe in Mito</div> <script> if (window.commands?.hasCommand('create-mitosheet-from-dataframe-output')) document.getElementById('1bd05774-1dec-482f-9fd7-ba57b105780b').style.display = 'flex' </script> <table border=\"1\" class=\"dataframe\">\n",
       "  <thead>\n",
       "    <tr style=\"text-align: right;\">\n",
       "      <th></th>\n",
       "      <th>Producto</th>\n",
       "      <th>Fecha</th>\n",
       "      <th>Valor</th>\n",
       "    </tr>\n",
       "  </thead>\n",
       "  <tbody>\n",
       "    <tr>\n",
       "      <th>0</th>\n",
       "      <td>Laptop</td>\n",
       "      <td>2025-01-15</td>\n",
       "      <td>1200.50</td>\n",
       "    </tr>\n",
       "    <tr>\n",
       "      <th>1</th>\n",
       "      <td>Teléfono</td>\n",
       "      <td>2025-02-20</td>\n",
       "      <td>899.99</td>\n",
       "    </tr>\n",
       "    <tr>\n",
       "      <th>2</th>\n",
       "      <td>Tablet</td>\n",
       "      <td>2025-03-10</td>\n",
       "      <td>349.99</td>\n",
       "    </tr>\n",
       "    <tr>\n",
       "      <th>3</th>\n",
       "      <td>Monitor</td>\n",
       "      <td>2025-04-05</td>\n",
       "      <td>249.99</td>\n",
       "    </tr>\n",
       "    <tr>\n",
       "      <th>4</th>\n",
       "      <td>Teclado</td>\n",
       "      <td>2025-05-12</td>\n",
       "      <td>59.99</td>\n",
       "    </tr>\n",
       "    <tr>\n",
       "      <th>5</th>\n",
       "      <td>Ratón</td>\n",
       "      <td>2025-06-18</td>\n",
       "      <td>25.50</td>\n",
       "    </tr>\n",
       "    <tr>\n",
       "      <th>6</th>\n",
       "      <td>Impresora</td>\n",
       "      <td>2025-07-22</td>\n",
       "      <td>149.99</td>\n",
       "    </tr>\n",
       "    <tr>\n",
       "      <th>7</th>\n",
       "      <td>Auriculares</td>\n",
       "      <td>2025-08-30</td>\n",
       "      <td>99.99</td>\n",
       "    </tr>\n",
       "  </tbody>\n",
       "</table></div>"
      ],
      "text/plain": [
       "      Producto       Fecha    Valor\n",
       "0       Laptop  2025-01-15  1200.50\n",
       "1     Teléfono  2025-02-20   899.99\n",
       "2       Tablet  2025-03-10   349.99\n",
       "3      Monitor  2025-04-05   249.99\n",
       "4      Teclado  2025-05-12    59.99\n",
       "5        Ratón  2025-06-18    25.50\n",
       "6    Impresora  2025-07-22   149.99\n",
       "7  Auriculares  2025-08-30    99.99"
      ]
     },
     "execution_count": 16,
     "metadata": {},
     "output_type": "execute_result"
    }
   ],
   "source": [
    "df = pd.read_csv('productos_ejemplo_punto_coma.csv',sep=\";\")  # Lectura de CSV\n",
    "df"
   ]
  },
  {
   "cell_type": "markdown",
   "metadata": {},
   "source": [
    "Carga ignorando filas **Aplica para todos los eventos de carga**"
   ]
  },
  {
   "cell_type": "code",
   "execution_count": 17,
   "metadata": {},
   "outputs": [
    {
     "name": "stdout",
     "output_type": "stream",
     "text": [
      "                       Reporte de ventas\n",
      "Producto    Fecha                  Valor\n",
      "Laptop      2025-01-15            1200.5\n",
      "Teléfono    2025-02-20            899.99\n",
      "Tablet      2025-03-10            349.99\n",
      "Monitor     2025-04-05            249.99\n",
      "Teclado     2025-05-12             59.99\n",
      "Ratón       2025-06-18              25.5\n",
      "Impresora   2025-07-22            149.99\n",
      "Auriculares 2025-08-30             99.99\n"
     ]
    },
    {
     "data": {
      "text/html": [
       "<div><div id=f6c1b0e0-46b8-4f39-b50f-783a48578139 style=\"display:none; background-color:#9D6CFF; color:white; width:200px; height:30px; padding-left:5px; border-radius:4px; flex-direction:row; justify-content:space-around; align-items:center;\" onmouseover=\"this.style.backgroundColor='#BA9BF8'\" onmouseout=\"this.style.backgroundColor='#9D6CFF'\" onclick=\"window.commands?.execute('create-mitosheet-from-dataframe-output');\">See Full Dataframe in Mito</div> <script> if (window.commands?.hasCommand('create-mitosheet-from-dataframe-output')) document.getElementById('f6c1b0e0-46b8-4f39-b50f-783a48578139').style.display = 'flex' </script> <table border=\"1\" class=\"dataframe\">\n",
       "  <thead>\n",
       "    <tr style=\"text-align: right;\">\n",
       "      <th></th>\n",
       "      <th>Producto</th>\n",
       "      <th>Fecha</th>\n",
       "      <th>Valor</th>\n",
       "    </tr>\n",
       "  </thead>\n",
       "  <tbody>\n",
       "    <tr>\n",
       "      <th>0</th>\n",
       "      <td>Laptop</td>\n",
       "      <td>2025-01-15</td>\n",
       "      <td>1200.50</td>\n",
       "    </tr>\n",
       "    <tr>\n",
       "      <th>1</th>\n",
       "      <td>Teléfono</td>\n",
       "      <td>2025-02-20</td>\n",
       "      <td>899.99</td>\n",
       "    </tr>\n",
       "    <tr>\n",
       "      <th>2</th>\n",
       "      <td>Tablet</td>\n",
       "      <td>2025-03-10</td>\n",
       "      <td>349.99</td>\n",
       "    </tr>\n",
       "    <tr>\n",
       "      <th>3</th>\n",
       "      <td>Monitor</td>\n",
       "      <td>2025-04-05</td>\n",
       "      <td>249.99</td>\n",
       "    </tr>\n",
       "    <tr>\n",
       "      <th>4</th>\n",
       "      <td>Teclado</td>\n",
       "      <td>2025-05-12</td>\n",
       "      <td>59.99</td>\n",
       "    </tr>\n",
       "    <tr>\n",
       "      <th>5</th>\n",
       "      <td>Ratón</td>\n",
       "      <td>2025-06-18</td>\n",
       "      <td>25.50</td>\n",
       "    </tr>\n",
       "    <tr>\n",
       "      <th>6</th>\n",
       "      <td>Impresora</td>\n",
       "      <td>2025-07-22</td>\n",
       "      <td>149.99</td>\n",
       "    </tr>\n",
       "    <tr>\n",
       "      <th>7</th>\n",
       "      <td>Auriculares</td>\n",
       "      <td>2025-08-30</td>\n",
       "      <td>99.99</td>\n",
       "    </tr>\n",
       "  </tbody>\n",
       "</table></div>"
      ],
      "text/plain": [
       "      Producto       Fecha    Valor\n",
       "0       Laptop  2025-01-15  1200.50\n",
       "1     Teléfono  2025-02-20   899.99\n",
       "2       Tablet  2025-03-10   349.99\n",
       "3      Monitor  2025-04-05   249.99\n",
       "4      Teclado  2025-05-12    59.99\n",
       "5        Ratón  2025-06-18    25.50\n",
       "6    Impresora  2025-07-22   149.99\n",
       "7  Auriculares  2025-08-30    99.99"
      ]
     },
     "execution_count": 17,
     "metadata": {},
     "output_type": "execute_result"
    }
   ],
   "source": [
    "df = pd.read_csv('productos_ejemplo_reporte.csv')  # Lectura de CSV\n",
    "print(df)\n",
    "df = pd.read_csv('productos_ejemplo_reporte.csv',skiprows=1)  # Lectura de CSV\n",
    "df"
   ]
  },
  {
   "cell_type": "markdown",
   "metadata": {},
   "source": [
    "Carga solo algunas columnas con tipos de datos específicos"
   ]
  },
  {
   "cell_type": "code",
   "execution_count": 19,
   "metadata": {},
   "outputs": [
    {
     "name": "stdout",
     "output_type": "stream",
     "text": [
      "<class 'pandas.core.frame.DataFrame'>\n",
      "RangeIndex: 8 entries, 0 to 7\n",
      "Data columns (total 2 columns):\n",
      " #   Column    Non-Null Count  Dtype  \n",
      "---  ------    --------------  -----  \n",
      " 0   Producto  8 non-null      object \n",
      " 1   Valor     8 non-null      float64\n",
      "dtypes: float64(1), object(1)\n",
      "memory usage: 256.0+ bytes\n",
      "None\n",
      "      Producto   Valor\n",
      "0       Laptop  1200.5\n",
      "1     Teléfono  899.99\n",
      "2       Tablet  349.99\n",
      "3      Monitor  249.99\n",
      "4      Teclado   59.99\n",
      "5        Ratón    25.5\n",
      "6    Impresora  149.99\n",
      "7  Auriculares   99.99\n",
      "<class 'pandas.core.frame.DataFrame'>\n",
      "RangeIndex: 8 entries, 0 to 7\n",
      "Data columns (total 2 columns):\n",
      " #   Column    Non-Null Count  Dtype \n",
      "---  ------    --------------  ----- \n",
      " 0   Producto  8 non-null      object\n",
      " 1   Valor     8 non-null      object\n",
      "dtypes: object(2)\n",
      "memory usage: 256.0+ bytes\n",
      "None\n"
     ]
    }
   ],
   "source": [
    "dfDatos = pd.read_csv('productos_ejemplo.csv',usecols=[\"Producto\",\"Valor\"])  # Lectura de CSV\n",
    "print(dfDatos.info())\n",
    "dfDatos = pd.read_csv('productos_ejemplo.csv',usecols=[\"Producto\",\"Valor\"],dtype={\"Valor\":str})  # Lectura de CSV\n",
    "print(dfDatos)\n",
    "print(dfDatos.info())"
   ]
  },
  {
   "cell_type": "markdown",
   "metadata": {},
   "source": [
    "- **Desde archivos Excel**:"
   ]
  },
  {
   "cell_type": "markdown",
   "metadata": {},
   "source": [
    "    Carga básica, carga la primera hoja del archivo"
   ]
  },
  {
   "cell_type": "code",
   "execution_count": 20,
   "metadata": {},
   "outputs": [
    {
     "data": {
      "text/html": [
       "<div><div id=6f2379c6-0ed4-456f-acfa-5b992fd92097 style=\"display:none; background-color:#9D6CFF; color:white; width:200px; height:30px; padding-left:5px; border-radius:4px; flex-direction:row; justify-content:space-around; align-items:center;\" onmouseover=\"this.style.backgroundColor='#BA9BF8'\" onmouseout=\"this.style.backgroundColor='#9D6CFF'\" onclick=\"window.commands?.execute('create-mitosheet-from-dataframe-output');\">See Full Dataframe in Mito</div> <script> if (window.commands?.hasCommand('create-mitosheet-from-dataframe-output')) document.getElementById('6f2379c6-0ed4-456f-acfa-5b992fd92097').style.display = 'flex' </script> <table border=\"1\" class=\"dataframe\">\n",
       "  <thead>\n",
       "    <tr style=\"text-align: right;\">\n",
       "      <th></th>\n",
       "      <th>Producto</th>\n",
       "      <th>Fecha</th>\n",
       "      <th>Valor</th>\n",
       "    </tr>\n",
       "  </thead>\n",
       "  <tbody>\n",
       "    <tr>\n",
       "      <th>0</th>\n",
       "      <td>Laptop</td>\n",
       "      <td>2025-01-15</td>\n",
       "      <td>1200.50</td>\n",
       "    </tr>\n",
       "    <tr>\n",
       "      <th>1</th>\n",
       "      <td>Teléfono</td>\n",
       "      <td>2025-02-20</td>\n",
       "      <td>899.99</td>\n",
       "    </tr>\n",
       "    <tr>\n",
       "      <th>2</th>\n",
       "      <td>Tablet</td>\n",
       "      <td>2025-03-10</td>\n",
       "      <td>349.99</td>\n",
       "    </tr>\n",
       "    <tr>\n",
       "      <th>3</th>\n",
       "      <td>Monitor</td>\n",
       "      <td>2025-04-05</td>\n",
       "      <td>249.99</td>\n",
       "    </tr>\n",
       "    <tr>\n",
       "      <th>4</th>\n",
       "      <td>Teclado</td>\n",
       "      <td>2025-05-12</td>\n",
       "      <td>59.99</td>\n",
       "    </tr>\n",
       "    <tr>\n",
       "      <th>5</th>\n",
       "      <td>Ratón</td>\n",
       "      <td>2025-06-18</td>\n",
       "      <td>25.50</td>\n",
       "    </tr>\n",
       "    <tr>\n",
       "      <th>6</th>\n",
       "      <td>Impresora</td>\n",
       "      <td>2025-07-22</td>\n",
       "      <td>149.99</td>\n",
       "    </tr>\n",
       "    <tr>\n",
       "      <th>7</th>\n",
       "      <td>Auriculares</td>\n",
       "      <td>2025-08-30</td>\n",
       "      <td>99.99</td>\n",
       "    </tr>\n",
       "  </tbody>\n",
       "</table></div>"
      ],
      "text/plain": [
       "      Producto      Fecha    Valor\n",
       "0       Laptop 2025-01-15  1200.50\n",
       "1     Teléfono 2025-02-20   899.99\n",
       "2       Tablet 2025-03-10   349.99\n",
       "3      Monitor 2025-04-05   249.99\n",
       "4      Teclado 2025-05-12    59.99\n",
       "5        Ratón 2025-06-18    25.50\n",
       "6    Impresora 2025-07-22   149.99\n",
       "7  Auriculares 2025-08-30    99.99"
      ]
     },
     "execution_count": 20,
     "metadata": {},
     "output_type": "execute_result"
    }
   ],
   "source": [
    "df = pd.read_excel('productos_ejemplo.xlsx')  # Lectura de Excel\n",
    "df"
   ]
  },
  {
   "cell_type": "markdown",
   "metadata": {},
   "source": [
    "    Carga hoja específica del archivo"
   ]
  },
  {
   "cell_type": "code",
   "execution_count": 21,
   "metadata": {},
   "outputs": [
    {
     "data": {
      "text/html": [
       "<div><div id=cfa1363f-3279-4a55-8d26-acb3fd504728 style=\"display:none; background-color:#9D6CFF; color:white; width:200px; height:30px; padding-left:5px; border-radius:4px; flex-direction:row; justify-content:space-around; align-items:center;\" onmouseover=\"this.style.backgroundColor='#BA9BF8'\" onmouseout=\"this.style.backgroundColor='#9D6CFF'\" onclick=\"window.commands?.execute('create-mitosheet-from-dataframe-output');\">See Full Dataframe in Mito</div> <script> if (window.commands?.hasCommand('create-mitosheet-from-dataframe-output')) document.getElementById('cfa1363f-3279-4a55-8d26-acb3fd504728').style.display = 'flex' </script> <table border=\"1\" class=\"dataframe\">\n",
       "  <thead>\n",
       "    <tr style=\"text-align: right;\">\n",
       "      <th></th>\n",
       "      <th>Categoria</th>\n",
       "      <th>Producto</th>\n",
       "      <th>Fecha</th>\n",
       "      <th>Valor</th>\n",
       "      <th>Utilidad</th>\n",
       "    </tr>\n",
       "  </thead>\n",
       "  <tbody>\n",
       "    <tr>\n",
       "      <th>0</th>\n",
       "      <td>Computadores</td>\n",
       "      <td>Laptop</td>\n",
       "      <td>2025-01-15</td>\n",
       "      <td>1200.50</td>\n",
       "      <td>300</td>\n",
       "    </tr>\n",
       "    <tr>\n",
       "      <th>1</th>\n",
       "      <td>Móviles</td>\n",
       "      <td>Teléfono</td>\n",
       "      <td>2025-02-20</td>\n",
       "      <td>899.99</td>\n",
       "      <td>100</td>\n",
       "    </tr>\n",
       "    <tr>\n",
       "      <th>2</th>\n",
       "      <td>Móviles</td>\n",
       "      <td>Tablet</td>\n",
       "      <td>2025-03-10</td>\n",
       "      <td>349.99</td>\n",
       "      <td>20</td>\n",
       "    </tr>\n",
       "    <tr>\n",
       "      <th>3</th>\n",
       "      <td>Accesorios</td>\n",
       "      <td>Monitor</td>\n",
       "      <td>2025-04-05</td>\n",
       "      <td>249.99</td>\n",
       "      <td>30</td>\n",
       "    </tr>\n",
       "    <tr>\n",
       "      <th>4</th>\n",
       "      <td>Accesorios</td>\n",
       "      <td>Teclado</td>\n",
       "      <td>2025-05-12</td>\n",
       "      <td>59.99</td>\n",
       "      <td>5</td>\n",
       "    </tr>\n",
       "    <tr>\n",
       "      <th>5</th>\n",
       "      <td>Accesorios</td>\n",
       "      <td>Ratón</td>\n",
       "      <td>2025-06-18</td>\n",
       "      <td>25.50</td>\n",
       "      <td>5</td>\n",
       "    </tr>\n",
       "    <tr>\n",
       "      <th>6</th>\n",
       "      <td>Impresión</td>\n",
       "      <td>Impresora</td>\n",
       "      <td>2025-07-22</td>\n",
       "      <td>149.99</td>\n",
       "      <td>15</td>\n",
       "    </tr>\n",
       "    <tr>\n",
       "      <th>7</th>\n",
       "      <td>Accesorios</td>\n",
       "      <td>Auriculares</td>\n",
       "      <td>2025-08-30</td>\n",
       "      <td>99.99</td>\n",
       "      <td>10</td>\n",
       "    </tr>\n",
       "  </tbody>\n",
       "</table></div>"
      ],
      "text/plain": [
       "      Categoria     Producto      Fecha    Valor  Utilidad\n",
       "0  Computadores       Laptop 2025-01-15  1200.50       300\n",
       "1       Móviles     Teléfono 2025-02-20   899.99       100\n",
       "2       Móviles       Tablet 2025-03-10   349.99        20\n",
       "3    Accesorios      Monitor 2025-04-05   249.99        30\n",
       "4    Accesorios      Teclado 2025-05-12    59.99         5\n",
       "5    Accesorios        Ratón 2025-06-18    25.50         5\n",
       "6     Impresión    Impresora 2025-07-22   149.99        15\n",
       "7    Accesorios  Auriculares 2025-08-30    99.99        10"
      ]
     },
     "execution_count": 21,
     "metadata": {},
     "output_type": "execute_result"
    }
   ],
   "source": [
    "dfCategorias = pd.read_excel('productos_ejemplo.xlsx', sheet_name=\"Productos2\")  # Lectura de Excel\n",
    "dfCategorias"
   ]
  },
  {
   "cell_type": "markdown",
   "metadata": {},
   "source": [
    "- **Desde JSON**:"
   ]
  },
  {
   "cell_type": "code",
   "execution_count": 22,
   "metadata": {},
   "outputs": [
    {
     "data": {
      "text/html": [
       "<div><div id=5d1c08b7-cf5d-4dba-9f9b-2aa0b1517ac0 style=\"display:none; background-color:#9D6CFF; color:white; width:200px; height:30px; padding-left:5px; border-radius:4px; flex-direction:row; justify-content:space-around; align-items:center;\" onmouseover=\"this.style.backgroundColor='#BA9BF8'\" onmouseout=\"this.style.backgroundColor='#9D6CFF'\" onclick=\"window.commands?.execute('create-mitosheet-from-dataframe-output');\">See Full Dataframe in Mito</div> <script> if (window.commands?.hasCommand('create-mitosheet-from-dataframe-output')) document.getElementById('5d1c08b7-cf5d-4dba-9f9b-2aa0b1517ac0').style.display = 'flex' </script> <table border=\"1\" class=\"dataframe\">\n",
       "  <thead>\n",
       "    <tr style=\"text-align: right;\">\n",
       "      <th></th>\n",
       "      <th>Producto</th>\n",
       "      <th>Fecha</th>\n",
       "      <th>Valor</th>\n",
       "    </tr>\n",
       "  </thead>\n",
       "  <tbody>\n",
       "    <tr>\n",
       "      <th>0</th>\n",
       "      <td>Laptop</td>\n",
       "      <td>2025-01-15</td>\n",
       "      <td>1200.50</td>\n",
       "    </tr>\n",
       "    <tr>\n",
       "      <th>1</th>\n",
       "      <td>Teléfono</td>\n",
       "      <td>2025-02-20</td>\n",
       "      <td>899.99</td>\n",
       "    </tr>\n",
       "    <tr>\n",
       "      <th>2</th>\n",
       "      <td>Tablet</td>\n",
       "      <td>2025-03-10</td>\n",
       "      <td>349.99</td>\n",
       "    </tr>\n",
       "    <tr>\n",
       "      <th>3</th>\n",
       "      <td>Monitor</td>\n",
       "      <td>2025-04-05</td>\n",
       "      <td>249.99</td>\n",
       "    </tr>\n",
       "    <tr>\n",
       "      <th>4</th>\n",
       "      <td>Teclado</td>\n",
       "      <td>2025-05-12</td>\n",
       "      <td>59.99</td>\n",
       "    </tr>\n",
       "    <tr>\n",
       "      <th>5</th>\n",
       "      <td>Ratón</td>\n",
       "      <td>2025-06-18</td>\n",
       "      <td>25.50</td>\n",
       "    </tr>\n",
       "    <tr>\n",
       "      <th>6</th>\n",
       "      <td>Impresora</td>\n",
       "      <td>2025-07-22</td>\n",
       "      <td>149.99</td>\n",
       "    </tr>\n",
       "    <tr>\n",
       "      <th>7</th>\n",
       "      <td>Auriculares</td>\n",
       "      <td>2025-08-30</td>\n",
       "      <td>99.99</td>\n",
       "    </tr>\n",
       "  </tbody>\n",
       "</table></div>"
      ],
      "text/plain": [
       "      Producto       Fecha    Valor\n",
       "0       Laptop  2025-01-15  1200.50\n",
       "1     Teléfono  2025-02-20   899.99\n",
       "2       Tablet  2025-03-10   349.99\n",
       "3      Monitor  2025-04-05   249.99\n",
       "4      Teclado  2025-05-12    59.99\n",
       "5        Ratón  2025-06-18    25.50\n",
       "6    Impresora  2025-07-22   149.99\n",
       "7  Auriculares  2025-08-30    99.99"
      ]
     },
     "execution_count": 22,
     "metadata": {},
     "output_type": "execute_result"
    }
   ],
   "source": [
    "df = pd.read_json('productos_ejemplo.json')\n",
    "df"
   ]
  },
  {
   "cell_type": "markdown",
   "metadata": {},
   "source": [
    "- **Desde Base de datos**:"
   ]
  },
  {
   "cell_type": "code",
   "execution_count": 23,
   "metadata": {},
   "outputs": [
    {
     "data": {
      "text/html": [
       "<div><div id=0e747ced-b683-45d2-9abb-36a488a51b9f style=\"display:none; background-color:#9D6CFF; color:white; width:200px; height:30px; padding-left:5px; border-radius:4px; flex-direction:row; justify-content:space-around; align-items:center;\" onmouseover=\"this.style.backgroundColor='#BA9BF8'\" onmouseout=\"this.style.backgroundColor='#9D6CFF'\" onclick=\"window.commands?.execute('create-mitosheet-from-dataframe-output');\">See Full Dataframe in Mito</div> <script> if (window.commands?.hasCommand('create-mitosheet-from-dataframe-output')) document.getElementById('0e747ced-b683-45d2-9abb-36a488a51b9f').style.display = 'flex' </script> <table border=\"1\" class=\"dataframe\">\n",
       "  <thead>\n",
       "    <tr style=\"text-align: right;\">\n",
       "      <th></th>\n",
       "      <th>id</th>\n",
       "      <th>producto</th>\n",
       "      <th>fecha</th>\n",
       "      <th>valor</th>\n",
       "    </tr>\n",
       "  </thead>\n",
       "  <tbody>\n",
       "    <tr>\n",
       "      <th>0</th>\n",
       "      <td>1</td>\n",
       "      <td>Laptop</td>\n",
       "      <td>2025-01-15</td>\n",
       "      <td>1200.50</td>\n",
       "    </tr>\n",
       "    <tr>\n",
       "      <th>1</th>\n",
       "      <td>2</td>\n",
       "      <td>Teléfono</td>\n",
       "      <td>2025-02-20</td>\n",
       "      <td>899.99</td>\n",
       "    </tr>\n",
       "    <tr>\n",
       "      <th>2</th>\n",
       "      <td>3</td>\n",
       "      <td>Tablet</td>\n",
       "      <td>2025-03-10</td>\n",
       "      <td>349.99</td>\n",
       "    </tr>\n",
       "    <tr>\n",
       "      <th>3</th>\n",
       "      <td>4</td>\n",
       "      <td>Monitor</td>\n",
       "      <td>2025-04-05</td>\n",
       "      <td>249.99</td>\n",
       "    </tr>\n",
       "    <tr>\n",
       "      <th>4</th>\n",
       "      <td>5</td>\n",
       "      <td>Teclado</td>\n",
       "      <td>2025-05-12</td>\n",
       "      <td>59.99</td>\n",
       "    </tr>\n",
       "    <tr>\n",
       "      <th>5</th>\n",
       "      <td>6</td>\n",
       "      <td>Ratón</td>\n",
       "      <td>2025-06-18</td>\n",
       "      <td>25.50</td>\n",
       "    </tr>\n",
       "    <tr>\n",
       "      <th>6</th>\n",
       "      <td>7</td>\n",
       "      <td>Impresora</td>\n",
       "      <td>2025-07-22</td>\n",
       "      <td>149.99</td>\n",
       "    </tr>\n",
       "    <tr>\n",
       "      <th>7</th>\n",
       "      <td>8</td>\n",
       "      <td>Auriculares</td>\n",
       "      <td>2025-08-30</td>\n",
       "      <td>99.99</td>\n",
       "    </tr>\n",
       "  </tbody>\n",
       "</table></div>"
      ],
      "text/plain": [
       "   id     producto       fecha    valor\n",
       "0   1       Laptop  2025-01-15  1200.50\n",
       "1   2     Teléfono  2025-02-20   899.99\n",
       "2   3       Tablet  2025-03-10   349.99\n",
       "3   4      Monitor  2025-04-05   249.99\n",
       "4   5      Teclado  2025-05-12    59.99\n",
       "5   6        Ratón  2025-06-18    25.50\n",
       "6   7    Impresora  2025-07-22   149.99\n",
       "7   8  Auriculares  2025-08-30    99.99"
      ]
     },
     "execution_count": 23,
     "metadata": {},
     "output_type": "execute_result"
    }
   ],
   "source": [
    "import sqlite3\n",
    "conn = sqlite3.connect('productos.db')\n",
    "df = pd.read_sql('SELECT * FROM productos', conn)\n",
    "df"
   ]
  },
  {
   "cell_type": "markdown",
   "metadata": {},
   "source": [
    "Documentación: [Creación de DataFrames](https://pandas.pydata.org/docs/user_guide/dsintro.html#dataframe), [Lectura de CSV](https://pandas.pydata.org/docs/reference/api/pandas.read_csv.html), [Lectura de Excel](https://pandas.pydata.org/docs/reference/api/pandas.read_excel.html), [Lectura de JSON](https://pandas.pydata.org/docs/reference/api/pandas.read_json.html), [Lectura de SQL](https://pandas.pydata.org/docs/reference/api/pandas.read_sql.html)."
   ]
  },
  {
   "cell_type": "markdown",
   "metadata": {
    "jp-MarkdownHeadingCollapsed": true
   },
   "source": [
    "### Lectura y escritura de datos\n",
    "\n",
    "Pandas facilita la carga y guardado de datos en diversos formatos:\n",
    "\n",
    "- **Escritura a CSV**: `df.to_csv('nuevo_archivo.csv', index=False)`\n",
    "- **Escritura a Excel**: `df.to_excel('nuevo_archivo.xlsx', index=False)`\n",
    "- **Escritura a JSON**: `df.to_json('data.json')`\n",
    "\n",
    "Documentación: [Lectura y escritura de CSV](https://pandas.pydata.org/docs/user_guide/io.html#io-read-csv-table), [Lectura y escritura de Excel](https://pandas.pydata.org/docs/user_guide/io.html#excel-files), [Lectura y escritura de JSON](https://pandas.pydata.org/docs/user_guide/io.html#json)."
   ]
  },
  {
   "cell_type": "markdown",
   "metadata": {},
   "source": [
    "### Inspección de datos\n",
    "\n",
    "Para explorar un DataFrame, Pandas ofrece métodos que permiten visualizar y resumir los datos:"
   ]
  },
  {
   "cell_type": "code",
   "execution_count": 24,
   "metadata": {},
   "outputs": [
    {
     "data": {
      "text/html": [
       "<div><div id=977189de-6ae9-4aac-bd67-15eb21f3d2e0 style=\"display:none; background-color:#9D6CFF; color:white; width:200px; height:30px; padding-left:5px; border-radius:4px; flex-direction:row; justify-content:space-around; align-items:center;\" onmouseover=\"this.style.backgroundColor='#BA9BF8'\" onmouseout=\"this.style.backgroundColor='#9D6CFF'\" onclick=\"window.commands?.execute('create-mitosheet-from-dataframe-output');\">See Full Dataframe in Mito</div> <script> if (window.commands?.hasCommand('create-mitosheet-from-dataframe-output')) document.getElementById('977189de-6ae9-4aac-bd67-15eb21f3d2e0').style.display = 'flex' </script> <table border=\"1\" class=\"dataframe\">\n",
       "  <thead>\n",
       "    <tr style=\"text-align: right;\">\n",
       "      <th></th>\n",
       "      <th>id</th>\n",
       "      <th>producto</th>\n",
       "      <th>fecha</th>\n",
       "      <th>valor</th>\n",
       "    </tr>\n",
       "  </thead>\n",
       "  <tbody>\n",
       "    <tr>\n",
       "      <th>0</th>\n",
       "      <td>1</td>\n",
       "      <td>Laptop</td>\n",
       "      <td>2025-01-15</td>\n",
       "      <td>1200.50</td>\n",
       "    </tr>\n",
       "    <tr>\n",
       "      <th>1</th>\n",
       "      <td>2</td>\n",
       "      <td>Teléfono</td>\n",
       "      <td>2025-02-20</td>\n",
       "      <td>899.99</td>\n",
       "    </tr>\n",
       "    <tr>\n",
       "      <th>2</th>\n",
       "      <td>3</td>\n",
       "      <td>Tablet</td>\n",
       "      <td>2025-03-10</td>\n",
       "      <td>349.99</td>\n",
       "    </tr>\n",
       "    <tr>\n",
       "      <th>3</th>\n",
       "      <td>4</td>\n",
       "      <td>Monitor</td>\n",
       "      <td>2025-04-05</td>\n",
       "      <td>249.99</td>\n",
       "    </tr>\n",
       "    <tr>\n",
       "      <th>4</th>\n",
       "      <td>5</td>\n",
       "      <td>Teclado</td>\n",
       "      <td>2025-05-12</td>\n",
       "      <td>59.99</td>\n",
       "    </tr>\n",
       "  </tbody>\n",
       "</table></div>"
      ],
      "text/plain": [
       "   id  producto       fecha    valor\n",
       "0   1    Laptop  2025-01-15  1200.50\n",
       "1   2  Teléfono  2025-02-20   899.99\n",
       "2   3    Tablet  2025-03-10   349.99\n",
       "3   4   Monitor  2025-04-05   249.99\n",
       "4   5   Teclado  2025-05-12    59.99"
      ]
     },
     "execution_count": 24,
     "metadata": {},
     "output_type": "execute_result"
    }
   ],
   "source": [
    "n=5\n",
    "df.head(n) # Muestra las primeras n filas."
   ]
  },
  {
   "cell_type": "code",
   "execution_count": 25,
   "metadata": {},
   "outputs": [
    {
     "data": {
      "text/html": [
       "<div><div id=4fb30b1f-7b60-4eed-ae95-d4e64f94cdf5 style=\"display:none; background-color:#9D6CFF; color:white; width:200px; height:30px; padding-left:5px; border-radius:4px; flex-direction:row; justify-content:space-around; align-items:center;\" onmouseover=\"this.style.backgroundColor='#BA9BF8'\" onmouseout=\"this.style.backgroundColor='#9D6CFF'\" onclick=\"window.commands?.execute('create-mitosheet-from-dataframe-output');\">See Full Dataframe in Mito</div> <script> if (window.commands?.hasCommand('create-mitosheet-from-dataframe-output')) document.getElementById('4fb30b1f-7b60-4eed-ae95-d4e64f94cdf5').style.display = 'flex' </script> <table border=\"1\" class=\"dataframe\">\n",
       "  <thead>\n",
       "    <tr style=\"text-align: right;\">\n",
       "      <th></th>\n",
       "      <th>id</th>\n",
       "      <th>producto</th>\n",
       "      <th>fecha</th>\n",
       "      <th>valor</th>\n",
       "    </tr>\n",
       "  </thead>\n",
       "  <tbody>\n",
       "    <tr>\n",
       "      <th>3</th>\n",
       "      <td>4</td>\n",
       "      <td>Monitor</td>\n",
       "      <td>2025-04-05</td>\n",
       "      <td>249.99</td>\n",
       "    </tr>\n",
       "    <tr>\n",
       "      <th>4</th>\n",
       "      <td>5</td>\n",
       "      <td>Teclado</td>\n",
       "      <td>2025-05-12</td>\n",
       "      <td>59.99</td>\n",
       "    </tr>\n",
       "    <tr>\n",
       "      <th>5</th>\n",
       "      <td>6</td>\n",
       "      <td>Ratón</td>\n",
       "      <td>2025-06-18</td>\n",
       "      <td>25.50</td>\n",
       "    </tr>\n",
       "    <tr>\n",
       "      <th>6</th>\n",
       "      <td>7</td>\n",
       "      <td>Impresora</td>\n",
       "      <td>2025-07-22</td>\n",
       "      <td>149.99</td>\n",
       "    </tr>\n",
       "    <tr>\n",
       "      <th>7</th>\n",
       "      <td>8</td>\n",
       "      <td>Auriculares</td>\n",
       "      <td>2025-08-30</td>\n",
       "      <td>99.99</td>\n",
       "    </tr>\n",
       "  </tbody>\n",
       "</table></div>"
      ],
      "text/plain": [
       "   id     producto       fecha   valor\n",
       "3   4      Monitor  2025-04-05  249.99\n",
       "4   5      Teclado  2025-05-12   59.99\n",
       "5   6        Ratón  2025-06-18   25.50\n",
       "6   7    Impresora  2025-07-22  149.99\n",
       "7   8  Auriculares  2025-08-30   99.99"
      ]
     },
     "execution_count": 25,
     "metadata": {},
     "output_type": "execute_result"
    }
   ],
   "source": [
    "df.tail(n) # Muestra las últimas n filas."
   ]
  },
  {
   "cell_type": "code",
   "execution_count": 26,
   "metadata": {},
   "outputs": [
    {
     "name": "stdout",
     "output_type": "stream",
     "text": [
      "<class 'pandas.core.frame.DataFrame'>\n",
      "RangeIndex: 8 entries, 0 to 7\n",
      "Data columns (total 4 columns):\n",
      " #   Column    Non-Null Count  Dtype  \n",
      "---  ------    --------------  -----  \n",
      " 0   id        8 non-null      int64  \n",
      " 1   producto  8 non-null      object \n",
      " 2   fecha     8 non-null      object \n",
      " 3   valor     8 non-null      float64\n",
      "dtypes: float64(1), int64(1), object(2)\n",
      "memory usage: 384.0+ bytes\n"
     ]
    }
   ],
   "source": [
    "df.info() # Resumen de columnas, tipos de datos y memoria."
   ]
  },
  {
   "cell_type": "code",
   "execution_count": 27,
   "metadata": {},
   "outputs": [
    {
     "name": "stdout",
     "output_type": "stream",
     "text": [
      "Solo campos numéricos\n",
      "            id        valor\n",
      "count  8.00000     8.000000\n",
      "mean   4.50000   379.492500\n",
      "std    2.44949   434.379334\n",
      "min    1.00000    25.500000\n",
      "25%    2.75000    89.990000\n",
      "50%    4.50000   199.990000\n",
      "75%    6.25000   487.490000\n",
      "max    8.00000  1200.500000\n",
      "\n",
      "Solo campos no numéricos\n",
      "       producto       fecha\n",
      "count         8           8\n",
      "unique        8           8\n",
      "top      Laptop  2025-01-15\n",
      "freq          1           1\n",
      "\n",
      "Todos los campos\n",
      "             id producto       fecha        valor\n",
      "count   8.00000        8           8     8.000000\n",
      "unique      NaN        8           8          NaN\n",
      "top         NaN   Laptop  2025-01-15          NaN\n",
      "freq        NaN        1           1          NaN\n",
      "mean    4.50000      NaN         NaN   379.492500\n",
      "std     2.44949      NaN         NaN   434.379334\n",
      "min     1.00000      NaN         NaN    25.500000\n",
      "25%     2.75000      NaN         NaN    89.990000\n",
      "50%     4.50000      NaN         NaN   199.990000\n",
      "75%     6.25000      NaN         NaN   487.490000\n",
      "max     8.00000      NaN         NaN  1200.500000\n"
     ]
    }
   ],
   "source": [
    "print(\"Solo campos numéricos\")\n",
    "print(df.describe()) # Estadísticas descriptivas (media, desviación estándar, percentiles).\n",
    "print(\"\")\n",
    "print(\"Solo campos no numéricos\")\n",
    "print(df.describe(include='object')) # Estadísticas descriptivas (media, desviación estándar, percentiles).\n",
    "print(\"\")\n",
    "print(\"Todos los campos\")\n",
    "print(df.describe(include='all')) # Estadísticas descriptivas (media, desviación estándar, percentiles)."
   ]
  },
  {
   "cell_type": "code",
   "execution_count": 28,
   "metadata": {},
   "outputs": [
    {
     "data": {
      "text/plain": [
       "(8, 4)"
      ]
     },
     "execution_count": 28,
     "metadata": {},
     "output_type": "execute_result"
    }
   ],
   "source": [
    "df.shape # Dimensiones del DataFrame (filas, columnas)."
   ]
  },
  {
   "cell_type": "code",
   "execution_count": 29,
   "metadata": {},
   "outputs": [
    {
     "data": {
      "text/plain": [
       "Index(['id', 'producto', 'fecha', 'valor'], dtype='object')"
      ]
     },
     "execution_count": 29,
     "metadata": {},
     "output_type": "execute_result"
    }
   ],
   "source": [
    "df.columns # Nombres de las columnas."
   ]
  },
  {
   "cell_type": "code",
   "execution_count": 30,
   "metadata": {},
   "outputs": [
    {
     "data": {
      "text/plain": [
       "id            int64\n",
       "producto     object\n",
       "fecha        object\n",
       "valor       float64\n",
       "dtype: object"
      ]
     },
     "execution_count": 30,
     "metadata": {},
     "output_type": "execute_result"
    }
   ],
   "source": [
    "df.dtypes # Tipos de datos de cada columna."
   ]
  },
  {
   "cell_type": "markdown",
   "metadata": {},
   "source": [
    "Documentación: [Inspección de datos](https://pandas.pydata.org/docs/user_guide/basics.html#basics-df-info)."
   ]
  },
  {
   "cell_type": "markdown",
   "metadata": {},
   "source": [
    "### Selección de datos\n",
    "\n",
    "Pandas permite seleccionar datos por etiqueta, posición y condiciones booleanas:"
   ]
  },
  {
   "cell_type": "code",
   "execution_count": 31,
   "metadata": {
    "scrolled": true
   },
   "outputs": [
    {
     "data": {
      "text/html": [
       "<div><div id=ba879e85-38d6-4e63-b86d-6fb2c5d264ff style=\"display:none; background-color:#9D6CFF; color:white; width:200px; height:30px; padding-left:5px; border-radius:4px; flex-direction:row; justify-content:space-around; align-items:center;\" onmouseover=\"this.style.backgroundColor='#BA9BF8'\" onmouseout=\"this.style.backgroundColor='#9D6CFF'\" onclick=\"window.commands?.execute('create-mitosheet-from-dataframe-output');\">See Full Dataframe in Mito</div> <script> if (window.commands?.hasCommand('create-mitosheet-from-dataframe-output')) document.getElementById('ba879e85-38d6-4e63-b86d-6fb2c5d264ff').style.display = 'flex' </script> <table border=\"1\" class=\"dataframe\">\n",
       "  <thead>\n",
       "    <tr style=\"text-align: right;\">\n",
       "      <th></th>\n",
       "      <th>id</th>\n",
       "      <th>producto</th>\n",
       "      <th>fecha</th>\n",
       "      <th>valor</th>\n",
       "    </tr>\n",
       "  </thead>\n",
       "  <tbody>\n",
       "    <tr>\n",
       "      <th>0</th>\n",
       "      <td>1</td>\n",
       "      <td>Laptop</td>\n",
       "      <td>2025-01-15</td>\n",
       "      <td>1200.50</td>\n",
       "    </tr>\n",
       "    <tr>\n",
       "      <th>1</th>\n",
       "      <td>2</td>\n",
       "      <td>Teléfono</td>\n",
       "      <td>2025-02-20</td>\n",
       "      <td>899.99</td>\n",
       "    </tr>\n",
       "    <tr>\n",
       "      <th>2</th>\n",
       "      <td>3</td>\n",
       "      <td>Tablet</td>\n",
       "      <td>2025-03-10</td>\n",
       "      <td>349.99</td>\n",
       "    </tr>\n",
       "    <tr>\n",
       "      <th>3</th>\n",
       "      <td>4</td>\n",
       "      <td>Monitor</td>\n",
       "      <td>2025-04-05</td>\n",
       "      <td>249.99</td>\n",
       "    </tr>\n",
       "    <tr>\n",
       "      <th>4</th>\n",
       "      <td>5</td>\n",
       "      <td>Teclado</td>\n",
       "      <td>2025-05-12</td>\n",
       "      <td>59.99</td>\n",
       "    </tr>\n",
       "    <tr>\n",
       "      <th>5</th>\n",
       "      <td>6</td>\n",
       "      <td>Ratón</td>\n",
       "      <td>2025-06-18</td>\n",
       "      <td>25.50</td>\n",
       "    </tr>\n",
       "    <tr>\n",
       "      <th>6</th>\n",
       "      <td>7</td>\n",
       "      <td>Impresora</td>\n",
       "      <td>2025-07-22</td>\n",
       "      <td>149.99</td>\n",
       "    </tr>\n",
       "    <tr>\n",
       "      <th>7</th>\n",
       "      <td>8</td>\n",
       "      <td>Auriculares</td>\n",
       "      <td>2025-08-30</td>\n",
       "      <td>99.99</td>\n",
       "    </tr>\n",
       "  </tbody>\n",
       "</table></div>"
      ],
      "text/plain": [
       "   id     producto       fecha    valor\n",
       "0   1       Laptop  2025-01-15  1200.50\n",
       "1   2     Teléfono  2025-02-20   899.99\n",
       "2   3       Tablet  2025-03-10   349.99\n",
       "3   4      Monitor  2025-04-05   249.99\n",
       "4   5      Teclado  2025-05-12    59.99\n",
       "5   6        Ratón  2025-06-18    25.50\n",
       "6   7    Impresora  2025-07-22   149.99\n",
       "7   8  Auriculares  2025-08-30    99.99"
      ]
     },
     "execution_count": 31,
     "metadata": {},
     "output_type": "execute_result"
    }
   ],
   "source": [
    "df"
   ]
  },
  {
   "cell_type": "markdown",
   "metadata": {},
   "source": [
    "- **Usando loc**"
   ]
  },
  {
   "cell_type": "code",
   "execution_count": 32,
   "metadata": {},
   "outputs": [
    {
     "name": "stdout",
     "output_type": "stream",
     "text": [
      "id                   4\n",
      "producto       Monitor\n",
      "fecha       2025-04-05\n",
      "valor           249.99\n",
      "Name: 3, dtype: object\n"
     ]
    }
   ],
   "source": [
    "# Seleccionar la fila con índice 3\n",
    "fila = df.loc[3]\n",
    "print(fila)"
   ]
  },
  {
   "cell_type": "code",
   "execution_count": 34,
   "metadata": {},
   "outputs": [
    {
     "name": "stdout",
     "output_type": "stream",
     "text": [
      "Monitor\n"
     ]
    }
   ],
   "source": [
    "# Seleccionar el producto de la fila con índice 2\n",
    "producto = df.loc[3, 'producto']\n",
    "print(producto)"
   ]
  },
  {
   "cell_type": "code",
   "execution_count": 35,
   "metadata": {
    "scrolled": true
   },
   "outputs": [
    {
     "name": "stdout",
     "output_type": "stream",
     "text": [
      "   producto   valor\n",
      "1  Teléfono  899.99\n",
      "2    Tablet  349.99\n",
      "3   Monitor  249.99\n",
      "4   Teclado   59.99\n"
     ]
    }
   ],
   "source": [
    "# Seleccionar las filas de índice 1 a 4 y las columnas 'producto' y 'valor'\n",
    "sub_df = df.loc[1:4, ['producto', 'valor']]\n",
    "print(sub_df)"
   ]
  },
  {
   "cell_type": "code",
   "execution_count": 38,
   "metadata": {},
   "outputs": [
    {
     "data": {
      "text/plain": [
       "0     True\n",
       "1     True\n",
       "2     True\n",
       "3     True\n",
       "4    False\n",
       "5    False\n",
       "6     True\n",
       "7    False\n",
       "Name: valor, dtype: bool"
      ]
     },
     "execution_count": 38,
     "metadata": {},
     "output_type": "execute_result"
    }
   ],
   "source": [
    "df['valor']>100"
   ]
  },
  {
   "cell_type": "code",
   "execution_count": 39,
   "metadata": {},
   "outputs": [
    {
     "name": "stdout",
     "output_type": "stream",
     "text": [
      "   id   producto       fecha    valor\n",
      "0   1     Laptop  2025-01-15  1200.50\n",
      "1   2   Teléfono  2025-02-20   899.99\n",
      "2   3     Tablet  2025-03-10   349.99\n",
      "3   4    Monitor  2025-04-05   249.99\n",
      "6   7  Impresora  2025-07-22   149.99\n"
     ]
    }
   ],
   "source": [
    "# Seleccionar filas donde el valor sea mayor a 100\n",
    "filas_mayor_100 = df.loc[df['valor'] > 100]\n",
    "print(filas_mayor_100)"
   ]
  },
  {
   "cell_type": "code",
   "execution_count": 40,
   "metadata": {},
   "outputs": [
    {
     "name": "stdout",
     "output_type": "stream",
     "text": [
      "      producto  valor\n",
      "4      Teclado  59.99\n",
      "5        Ratón  25.50\n",
      "7  Auriculares  99.99\n"
     ]
    }
   ],
   "source": [
    "# Seleccionar las columnas 'producto' y 'valor' donde el valor sea menor a 100\n",
    "sub_df_cond = df.loc[df['valor'] < 100, ['producto', 'valor']]\n",
    "print(sub_df_cond)"
   ]
  },
  {
   "cell_type": "code",
   "execution_count": 41,
   "metadata": {},
   "outputs": [
    {
     "data": {
      "text/plain": [
       "1200.5"
      ]
     },
     "execution_count": 41,
     "metadata": {},
     "output_type": "execute_result"
    }
   ],
   "source": [
    "df.loc[0, 'valor'] # Por etiqueta df.loc['etiqueta_fila', 'nombre_columna']"
   ]
  },
  {
   "cell_type": "markdown",
   "metadata": {},
   "source": [
    "- **Usando iloc** Por índices de filas y columnas"
   ]
  },
  {
   "cell_type": "code",
   "execution_count": 42,
   "metadata": {},
   "outputs": [
    {
     "name": "stdout",
     "output_type": "stream",
     "text": [
      "2025-01-15\n"
     ]
    }
   ],
   "source": [
    "# Seleccionar el valor de la primera fila y la tercera columna (posición 2)\n",
    "valor = df.iloc[0, 2]\n",
    "print(valor)"
   ]
  },
  {
   "cell_type": "code",
   "execution_count": 45,
   "metadata": {},
   "outputs": [
    {
     "name": "stdout",
     "output_type": "stream",
     "text": [
      "   producto       fecha\n",
      "0    Laptop  2025-01-15\n",
      "1  Teléfono  2025-02-20\n",
      "2    Tablet  2025-03-10\n",
      "3   Monitor  2025-04-05\n"
     ]
    }
   ],
   "source": [
    "# Seleccionar las primeras tres filas y las primeras dos columnas\n",
    "sub_df = df.iloc[0:4, 1:3]\n",
    "print(sub_df)"
   ]
  },
  {
   "cell_type": "code",
   "execution_count": 46,
   "metadata": {},
   "outputs": [
    {
     "name": "stdout",
     "output_type": "stream",
     "text": [
      "   id producto       fecha    valor\n",
      "0   1   Laptop  2025-01-15  1200.50\n",
      "2   3   Tablet  2025-03-10   349.99\n",
      "4   5  Teclado  2025-05-12    59.99\n"
     ]
    }
   ],
   "source": [
    "# Seleccionar las filas en las posiciones 0, 2 y 4\n",
    "filas_no_consecutivas = df.iloc[[0, 2, 4]]\n",
    "print(filas_no_consecutivas)"
   ]
  },
  {
   "cell_type": "code",
   "execution_count": 49,
   "metadata": {
    "scrolled": true
   },
   "outputs": [
    {
     "name": "stdout",
     "output_type": "stream",
     "text": [
      "      producto    valor\n",
      "0       Laptop  1200.50\n",
      "1     Teléfono   899.99\n",
      "2       Tablet   349.99\n",
      "3      Monitor   249.99\n",
      "4      Teclado    59.99\n",
      "5        Ratón    25.50\n",
      "6    Impresora   149.99\n",
      "7  Auriculares    99.99\n"
     ]
    }
   ],
   "source": [
    "# Seleccionar todas las filas y las columnas en las posiciones 1 y 3\n",
    "sub_df_columnas = df.iloc[:, [1, 3]]\n",
    "print(sub_df_columnas)"
   ]
  },
  {
   "cell_type": "code",
   "execution_count": 50,
   "metadata": {},
   "outputs": [
    {
     "name": "stdout",
     "output_type": "stream",
     "text": [
      "  producto       fecha   valor\n",
      "2   Tablet  2025-03-10  349.99\n",
      "3  Monitor  2025-04-05  249.99\n",
      "4  Teclado  2025-05-12   59.99\n"
     ]
    }
   ],
   "source": [
    "# Seleccionar las filas de la posición 2 a 4 y las columnas de la posición 1 a 3\n",
    "rango_filas_columnas = df.iloc[2:5, 1:4]\n",
    "print(rango_filas_columnas)"
   ]
  },
  {
   "cell_type": "markdown",
   "metadata": {},
   "source": [
    "- **Usando dataframes**"
   ]
  },
  {
   "cell_type": "code",
   "execution_count": 60,
   "metadata": {},
   "outputs": [
    {
     "data": {
      "text/html": [
       "<div><div id=f667bbf4-b9f0-4ef6-b6fb-44bb946954d1 style=\"display:none; background-color:#9D6CFF; color:white; width:200px; height:30px; padding-left:5px; border-radius:4px; flex-direction:row; justify-content:space-around; align-items:center;\" onmouseover=\"this.style.backgroundColor='#BA9BF8'\" onmouseout=\"this.style.backgroundColor='#9D6CFF'\" onclick=\"window.commands?.execute('create-mitosheet-from-dataframe-output');\">See Full Dataframe in Mito</div> <script> if (window.commands?.hasCommand('create-mitosheet-from-dataframe-output')) document.getElementById('f667bbf4-b9f0-4ef6-b6fb-44bb946954d1').style.display = 'flex' </script> <table border=\"1\" class=\"dataframe\">\n",
       "  <thead>\n",
       "    <tr style=\"text-align: right;\">\n",
       "      <th></th>\n",
       "      <th>id</th>\n",
       "      <th>producto</th>\n",
       "      <th>fecha</th>\n",
       "      <th>valor</th>\n",
       "    </tr>\n",
       "  </thead>\n",
       "  <tbody>\n",
       "    <tr>\n",
       "      <th>0</th>\n",
       "      <td>1</td>\n",
       "      <td>Laptop</td>\n",
       "      <td>2025-01-15</td>\n",
       "      <td>1200.50</td>\n",
       "    </tr>\n",
       "    <tr>\n",
       "      <th>1</th>\n",
       "      <td>2</td>\n",
       "      <td>Teléfono</td>\n",
       "      <td>2025-02-20</td>\n",
       "      <td>899.99</td>\n",
       "    </tr>\n",
       "    <tr>\n",
       "      <th>2</th>\n",
       "      <td>3</td>\n",
       "      <td>Tablet</td>\n",
       "      <td>2025-03-10</td>\n",
       "      <td>349.99</td>\n",
       "    </tr>\n",
       "    <tr>\n",
       "      <th>3</th>\n",
       "      <td>4</td>\n",
       "      <td>Monitor</td>\n",
       "      <td>2025-04-05</td>\n",
       "      <td>249.99</td>\n",
       "    </tr>\n",
       "    <tr>\n",
       "      <th>6</th>\n",
       "      <td>7</td>\n",
       "      <td>Impresora</td>\n",
       "      <td>2025-07-22</td>\n",
       "      <td>149.99</td>\n",
       "    </tr>\n",
       "  </tbody>\n",
       "</table></div>"
      ],
      "text/plain": [
       "   id   producto       fecha    valor\n",
       "0   1     Laptop  2025-01-15  1200.50\n",
       "1   2   Teléfono  2025-02-20   899.99\n",
       "2   3     Tablet  2025-03-10   349.99\n",
       "3   4    Monitor  2025-04-05   249.99\n",
       "6   7  Impresora  2025-07-22   149.99"
      ]
     },
     "execution_count": 60,
     "metadata": {},
     "output_type": "execute_result"
    }
   ],
   "source": [
    "df[df['valor'] > 100] # Filtrado booleano"
   ]
  },
  {
   "cell_type": "code",
   "execution_count": 54,
   "metadata": {},
   "outputs": [
    {
     "data": {
      "text/html": [
       "<div><div id=c56228f7-d761-47bc-a508-a951694ea8f3 style=\"display:none; background-color:#9D6CFF; color:white; width:200px; height:30px; padding-left:5px; border-radius:4px; flex-direction:row; justify-content:space-around; align-items:center;\" onmouseover=\"this.style.backgroundColor='#BA9BF8'\" onmouseout=\"this.style.backgroundColor='#9D6CFF'\" onclick=\"window.commands?.execute('create-mitosheet-from-dataframe-output');\">See Full Dataframe in Mito</div> <script> if (window.commands?.hasCommand('create-mitosheet-from-dataframe-output')) document.getElementById('c56228f7-d761-47bc-a508-a951694ea8f3').style.display = 'flex' </script> <table border=\"1\" class=\"dataframe\">\n",
       "  <thead>\n",
       "    <tr style=\"text-align: right;\">\n",
       "      <th></th>\n",
       "      <th>id</th>\n",
       "      <th>producto</th>\n",
       "      <th>fecha</th>\n",
       "      <th>valor</th>\n",
       "    </tr>\n",
       "  </thead>\n",
       "  <tbody>\n",
       "    <tr>\n",
       "      <th>2</th>\n",
       "      <td>3</td>\n",
       "      <td>Tablet</td>\n",
       "      <td>2025-03-10</td>\n",
       "      <td>349.99</td>\n",
       "    </tr>\n",
       "    <tr>\n",
       "      <th>3</th>\n",
       "      <td>4</td>\n",
       "      <td>Monitor</td>\n",
       "      <td>2025-04-05</td>\n",
       "      <td>249.99</td>\n",
       "    </tr>\n",
       "    <tr>\n",
       "      <th>6</th>\n",
       "      <td>7</td>\n",
       "      <td>Impresora</td>\n",
       "      <td>2025-07-22</td>\n",
       "      <td>149.99</td>\n",
       "    </tr>\n",
       "  </tbody>\n",
       "</table></div>"
      ],
      "text/plain": [
       "   id   producto       fecha   valor\n",
       "2   3     Tablet  2025-03-10  349.99\n",
       "3   4    Monitor  2025-04-05  249.99\n",
       "6   7  Impresora  2025-07-22  149.99"
      ]
     },
     "execution_count": 54,
     "metadata": {},
     "output_type": "execute_result"
    }
   ],
   "source": [
    "df[(df['valor'] > 100) & (df['fecha'] >= '2025-03-01')] # Combinación de condiciones AND"
   ]
  },
  {
   "cell_type": "code",
   "execution_count": 55,
   "metadata": {},
   "outputs": [
    {
     "data": {
      "text/html": [
       "<div><div id=c7f69895-4013-401f-b767-509671d0c1f0 style=\"display:none; background-color:#9D6CFF; color:white; width:200px; height:30px; padding-left:5px; border-radius:4px; flex-direction:row; justify-content:space-around; align-items:center;\" onmouseover=\"this.style.backgroundColor='#BA9BF8'\" onmouseout=\"this.style.backgroundColor='#9D6CFF'\" onclick=\"window.commands?.execute('create-mitosheet-from-dataframe-output');\">See Full Dataframe in Mito</div> <script> if (window.commands?.hasCommand('create-mitosheet-from-dataframe-output')) document.getElementById('c7f69895-4013-401f-b767-509671d0c1f0').style.display = 'flex' </script> <table border=\"1\" class=\"dataframe\">\n",
       "  <thead>\n",
       "    <tr style=\"text-align: right;\">\n",
       "      <th></th>\n",
       "      <th>id</th>\n",
       "      <th>producto</th>\n",
       "      <th>fecha</th>\n",
       "      <th>valor</th>\n",
       "    </tr>\n",
       "  </thead>\n",
       "  <tbody>\n",
       "    <tr>\n",
       "      <th>0</th>\n",
       "      <td>1</td>\n",
       "      <td>Laptop</td>\n",
       "      <td>2025-01-15</td>\n",
       "      <td>1200.50</td>\n",
       "    </tr>\n",
       "    <tr>\n",
       "      <th>3</th>\n",
       "      <td>4</td>\n",
       "      <td>Monitor</td>\n",
       "      <td>2025-04-05</td>\n",
       "      <td>249.99</td>\n",
       "    </tr>\n",
       "    <tr>\n",
       "      <th>4</th>\n",
       "      <td>5</td>\n",
       "      <td>Teclado</td>\n",
       "      <td>2025-05-12</td>\n",
       "      <td>59.99</td>\n",
       "    </tr>\n",
       "    <tr>\n",
       "      <th>5</th>\n",
       "      <td>6</td>\n",
       "      <td>Ratón</td>\n",
       "      <td>2025-06-18</td>\n",
       "      <td>25.50</td>\n",
       "    </tr>\n",
       "    <tr>\n",
       "      <th>6</th>\n",
       "      <td>7</td>\n",
       "      <td>Impresora</td>\n",
       "      <td>2025-07-22</td>\n",
       "      <td>149.99</td>\n",
       "    </tr>\n",
       "    <tr>\n",
       "      <th>7</th>\n",
       "      <td>8</td>\n",
       "      <td>Auriculares</td>\n",
       "      <td>2025-08-30</td>\n",
       "      <td>99.99</td>\n",
       "    </tr>\n",
       "  </tbody>\n",
       "</table></div>"
      ],
      "text/plain": [
       "   id     producto       fecha    valor\n",
       "0   1       Laptop  2025-01-15  1200.50\n",
       "3   4      Monitor  2025-04-05   249.99\n",
       "4   5      Teclado  2025-05-12    59.99\n",
       "5   6        Ratón  2025-06-18    25.50\n",
       "6   7    Impresora  2025-07-22   149.99\n",
       "7   8  Auriculares  2025-08-30    99.99"
      ]
     },
     "execution_count": 55,
     "metadata": {},
     "output_type": "execute_result"
    }
   ],
   "source": [
    "df[(df['valor'] > 1000) | (df['fecha'] >= '2025-04-01')] # Combinación de condiciones OR"
   ]
  },
  {
   "cell_type": "code",
   "execution_count": 56,
   "metadata": {},
   "outputs": [
    {
     "data": {
      "text/html": [
       "<div><div id=42c0c060-cce4-4e91-bbb5-94b873c8ef92 style=\"display:none; background-color:#9D6CFF; color:white; width:200px; height:30px; padding-left:5px; border-radius:4px; flex-direction:row; justify-content:space-around; align-items:center;\" onmouseover=\"this.style.backgroundColor='#BA9BF8'\" onmouseout=\"this.style.backgroundColor='#9D6CFF'\" onclick=\"window.commands?.execute('create-mitosheet-from-dataframe-output');\">See Full Dataframe in Mito</div> <script> if (window.commands?.hasCommand('create-mitosheet-from-dataframe-output')) document.getElementById('42c0c060-cce4-4e91-bbb5-94b873c8ef92').style.display = 'flex' </script> <table border=\"1\" class=\"dataframe\">\n",
       "  <thead>\n",
       "    <tr style=\"text-align: right;\">\n",
       "      <th></th>\n",
       "      <th>id</th>\n",
       "      <th>producto</th>\n",
       "      <th>fecha</th>\n",
       "      <th>valor</th>\n",
       "    </tr>\n",
       "  </thead>\n",
       "  <tbody>\n",
       "    <tr>\n",
       "      <th>1</th>\n",
       "      <td>2</td>\n",
       "      <td>Teléfono</td>\n",
       "      <td>2025-02-20</td>\n",
       "      <td>899.99</td>\n",
       "    </tr>\n",
       "    <tr>\n",
       "      <th>2</th>\n",
       "      <td>3</td>\n",
       "      <td>Tablet</td>\n",
       "      <td>2025-03-10</td>\n",
       "      <td>349.99</td>\n",
       "    </tr>\n",
       "    <tr>\n",
       "      <th>4</th>\n",
       "      <td>5</td>\n",
       "      <td>Teclado</td>\n",
       "      <td>2025-05-12</td>\n",
       "      <td>59.99</td>\n",
       "    </tr>\n",
       "    <tr>\n",
       "      <th>7</th>\n",
       "      <td>8</td>\n",
       "      <td>Auriculares</td>\n",
       "      <td>2025-08-30</td>\n",
       "      <td>99.99</td>\n",
       "    </tr>\n",
       "  </tbody>\n",
       "</table></div>"
      ],
      "text/plain": [
       "   id     producto       fecha   valor\n",
       "1   2     Teléfono  2025-02-20  899.99\n",
       "2   3       Tablet  2025-03-10  349.99\n",
       "4   5      Teclado  2025-05-12   59.99\n",
       "7   8  Auriculares  2025-08-30   99.99"
      ]
     },
     "execution_count": 56,
     "metadata": {},
     "output_type": "execute_result"
    }
   ],
   "source": [
    "df[df[\"producto\"].str.contains('l')] # Elementos que contengan la letra l. Puede ser cualquier cadena de texto"
   ]
  },
  {
   "cell_type": "markdown",
   "metadata": {},
   "source": [
    "Usando el método query"
   ]
  },
  {
   "cell_type": "code",
   "execution_count": 58,
   "metadata": {},
   "outputs": [
    {
     "name": "stdout",
     "output_type": "stream",
     "text": [
      "   id   producto       fecha    valor\n",
      "0   1     Laptop  2025-01-15  1200.50\n",
      "1   2   Teléfono  2025-02-20   899.99\n",
      "2   3     Tablet  2025-03-10   349.99\n",
      "3   4    Monitor  2025-04-05   249.99\n",
      "6   7  Impresora  2025-07-22   149.99\n"
     ]
    }
   ],
   "source": [
    "query_1 = df.query('valor > 100')\n",
    "print(query_1)"
   ]
  },
  {
   "cell_type": "code",
   "execution_count": 61,
   "metadata": {},
   "outputs": [
    {
     "name": "stdout",
     "output_type": "stream",
     "text": [
      "   id   producto       fecha   valor\n",
      "2   3     Tablet  2025-03-10  349.99\n",
      "3   4    Monitor  2025-04-05  249.99\n",
      "6   7  Impresora  2025-07-22  149.99\n"
     ]
    }
   ],
   "source": [
    "query_3 = df.query('100 < valor < 500') # Seleccionar productos con un valor entre 100 y 500:\n",
    "print(query_3)"
   ]
  },
  {
   "cell_type": "code",
   "execution_count": 62,
   "metadata": {},
   "outputs": [
    {
     "name": "stdout",
     "output_type": "stream",
     "text": [
      "   id  producto       fecha    valor\n",
      "0   1    Laptop  2025-01-15  1200.50\n",
      "1   2  Teléfono  2025-02-20   899.99\n"
     ]
    }
   ],
   "source": [
    "# Seleccionar productos con un valor mayor a 100 y que sean 'Laptop' o 'Teléfono' or:\n",
    "query_5 = df.query('valor > 100 & (producto == \"Laptop\" | producto == \"Teléfono\")')\n",
    "print(query_5)"
   ]
  },
  {
   "cell_type": "markdown",
   "metadata": {},
   "source": [
    "Documentación: [Selección de datos](https://pandas.pydata.org/docs/user_guide/indexing.html#indexing), [Filtrado booleano](https://pandas.pydata.org/docs/user_guide/boolean_indexing.html)."
   ]
  },
  {
   "cell_type": "markdown",
   "metadata": {},
   "source": [
    "### Manipulación de datos"
   ]
  },
  {
   "cell_type": "markdown",
   "metadata": {},
   "source": [
    "**Modificando datos**"
   ]
  },
  {
   "cell_type": "code",
   "execution_count": 63,
   "metadata": {},
   "outputs": [
    {
     "name": "stdout",
     "output_type": "stream",
     "text": [
      "   id     producto       fecha    valor\n",
      "0   1       Laptop  2025-01-15  1200.50\n",
      "1   2     Teléfono  2025-02-20   899.99\n",
      "2   3       Tablet  2025-03-10   349.99\n",
      "3   4      Monitor  2025-04-05   249.99\n",
      "4   5      Teclado  2025-05-12    59.99\n",
      "5   6        Ratón  2025-06-18    25.50\n",
      "6   7    Impresora  2025-07-22   149.99\n",
      "7   8  Auriculares  2025-08-30    99.99\n",
      "   id     producto       fecha    valor\n",
      "0   1       Laptop  2025-01-15  1200.50\n",
      "1   2     Teléfono  2025-02-20   899.99\n",
      "2   3       Tablet  2025-03-10   349.99\n",
      "3   4      Monitor  2025-04-05   249.99\n",
      "4   5      Teclado  2025-05-12    59.99\n",
      "5   6        Ratón  2025-06-18    30.00\n",
      "6   7    Impresora  2025-07-22   149.99\n",
      "7   8  Auriculares  2025-08-30    99.99\n"
     ]
    }
   ],
   "source": [
    "# Cambiar el valor del producto 'Ratón' a 30.00\n",
    "print(df)\n",
    "df.loc[df['producto'] == 'Ratón', 'valor'] = 30.00\n",
    "print(df)"
   ]
  },
  {
   "cell_type": "code",
   "execution_count": 64,
   "metadata": {},
   "outputs": [
    {
     "name": "stdout",
     "output_type": "stream",
     "text": [
      "   id     producto       fecha    valor\n",
      "0   1       Laptop  2025-01-15  1200.50\n",
      "1   2     Teléfono  2025-02-20   899.99\n",
      "2   3       Tablet  2025-03-10   349.99\n",
      "3   4      Monitor  2025-04-05   249.99\n",
      "4   5      Teclado  2025-05-12    59.99\n",
      "5   6        Ratón  2025-06-18    30.00\n",
      "6   7    Impresora  2025-07-22   149.99\n",
      "7   8  Auriculares  2025-08-30    99.99\n",
      "   id     producto       fecha    valor\n",
      "0   1       Laptop  2025-01-15  1200.50\n",
      "1   2     Teléfono  2025-02-20  1000.00\n",
      "2   3       Tablet  2025-03-10   349.99\n",
      "3   4      Monitor  2025-04-05   249.99\n",
      "4   5      Teclado  2025-05-12    59.99\n",
      "5   6        Ratón  2025-06-18    30.00\n",
      "6   7    Impresora  2025-07-22   149.99\n",
      "7   8  Auriculares  2025-08-30    99.99\n"
     ]
    }
   ],
   "source": [
    "# Cambiar el valor en la fila 1, columna 3 a 1000.00 no es posible\n",
    "print(df)\n",
    "df.iloc[1, 3] = 1000.00\n",
    "print(df)"
   ]
  },
  {
   "cell_type": "markdown",
   "metadata": {},
   "source": [
    "**Insertando datos**"
   ]
  },
  {
   "cell_type": "code",
   "execution_count": 67,
   "metadata": {},
   "outputs": [
    {
     "data": {
      "text/plain": [
       "8"
      ]
     },
     "execution_count": 67,
     "metadata": {},
     "output_type": "execute_result"
    }
   ],
   "source": [
    "len(df)"
   ]
  },
  {
   "cell_type": "code",
   "execution_count": 68,
   "metadata": {
    "scrolled": true
   },
   "outputs": [
    {
     "name": "stdout",
     "output_type": "stream",
     "text": [
      "   id     producto       fecha    valor\n",
      "0   1       Laptop  2025-01-15  1200.50\n",
      "1   2     Teléfono  2025-02-20  1000.00\n",
      "2   3       Tablet  2025-03-10   349.99\n",
      "3   4      Monitor  2025-04-05   249.99\n",
      "4   5      Teclado  2025-05-12    59.99\n",
      "5   6        Ratón  2025-06-18    30.00\n",
      "6   7    Impresora  2025-07-22   149.99\n",
      "7   8  Auriculares  2025-08-30    99.99\n",
      "8   9       Cámara  2025-09-10   499.99\n"
     ]
    }
   ],
   "source": [
    "# Agregar un nuevo registro con un índice específico\n",
    "df.loc[len(df)] = [9, 'Cámara', '2025-09-10', 499.99]\n",
    "print(df)"
   ]
  },
  {
   "cell_type": "code",
   "execution_count": 69,
   "metadata": {},
   "outputs": [
    {
     "name": "stdout",
     "output_type": "stream",
     "text": [
      "   id     producto       fecha    valor\n",
      "0   1       Laptop  2025-01-15  1200.50\n",
      "1   2     Teléfono  2025-02-20  1000.00\n",
      "2   3       Tablet  2025-03-10   349.99\n",
      "3   4      Monitor  2025-04-05   249.99\n",
      "4   5      Teclado  2025-05-12    59.99\n",
      "5   6        Ratón  2025-06-18    30.00\n",
      "6   7    Impresora  2025-07-22   149.99\n",
      "7   8  Auriculares  2025-08-30    99.99\n",
      "8   9       Cámara  2025-09-10   499.99\n",
      "9  10     Cargador  2025-09-10   199.99\n"
     ]
    }
   ],
   "source": [
    "# Crear un nuevo DataFrame con el registro a agregar\n",
    "nuevo_registro = pd.DataFrame({\n",
    "    'id': [10],\n",
    "    'producto': ['Cargador'],\n",
    "    'fecha': ['2025-09-10'],\n",
    "    'valor': [199.99]\n",
    "})\n",
    "\n",
    "# Concatenar el nuevo registro al DataFrame original\n",
    "df = pd.concat([df, nuevo_registro], ignore_index=True)\n",
    "print(df)"
   ]
  },
  {
   "cell_type": "markdown",
   "metadata": {},
   "source": [
    "**Adición de columnas**"
   ]
  },
  {
   "cell_type": "code",
   "execution_count": 70,
   "metadata": {},
   "outputs": [
    {
     "data": {
      "text/html": [
       "<div><div id=ade09c2e-c0f7-47c4-a299-15dd25d3ba50 style=\"display:none; background-color:#9D6CFF; color:white; width:200px; height:30px; padding-left:5px; border-radius:4px; flex-direction:row; justify-content:space-around; align-items:center;\" onmouseover=\"this.style.backgroundColor='#BA9BF8'\" onmouseout=\"this.style.backgroundColor='#9D6CFF'\" onclick=\"window.commands?.execute('create-mitosheet-from-dataframe-output');\">See Full Dataframe in Mito</div> <script> if (window.commands?.hasCommand('create-mitosheet-from-dataframe-output')) document.getElementById('ade09c2e-c0f7-47c4-a299-15dd25d3ba50').style.display = 'flex' </script> <table border=\"1\" class=\"dataframe\">\n",
       "  <thead>\n",
       "    <tr style=\"text-align: right;\">\n",
       "      <th></th>\n",
       "      <th>id</th>\n",
       "      <th>producto</th>\n",
       "      <th>fecha</th>\n",
       "      <th>valor</th>\n",
       "      <th>utilidad</th>\n",
       "    </tr>\n",
       "  </thead>\n",
       "  <tbody>\n",
       "    <tr>\n",
       "      <th>0</th>\n",
       "      <td>1</td>\n",
       "      <td>Laptop</td>\n",
       "      <td>2025-01-15</td>\n",
       "      <td>1200.50</td>\n",
       "      <td>360.150</td>\n",
       "    </tr>\n",
       "    <tr>\n",
       "      <th>1</th>\n",
       "      <td>2</td>\n",
       "      <td>Teléfono</td>\n",
       "      <td>2025-02-20</td>\n",
       "      <td>1000.00</td>\n",
       "      <td>300.000</td>\n",
       "    </tr>\n",
       "    <tr>\n",
       "      <th>2</th>\n",
       "      <td>3</td>\n",
       "      <td>Tablet</td>\n",
       "      <td>2025-03-10</td>\n",
       "      <td>349.99</td>\n",
       "      <td>104.997</td>\n",
       "    </tr>\n",
       "    <tr>\n",
       "      <th>3</th>\n",
       "      <td>4</td>\n",
       "      <td>Monitor</td>\n",
       "      <td>2025-04-05</td>\n",
       "      <td>249.99</td>\n",
       "      <td>74.997</td>\n",
       "    </tr>\n",
       "    <tr>\n",
       "      <th>4</th>\n",
       "      <td>5</td>\n",
       "      <td>Teclado</td>\n",
       "      <td>2025-05-12</td>\n",
       "      <td>59.99</td>\n",
       "      <td>17.997</td>\n",
       "    </tr>\n",
       "    <tr>\n",
       "      <th>5</th>\n",
       "      <td>6</td>\n",
       "      <td>Ratón</td>\n",
       "      <td>2025-06-18</td>\n",
       "      <td>30.00</td>\n",
       "      <td>9.000</td>\n",
       "    </tr>\n",
       "    <tr>\n",
       "      <th>6</th>\n",
       "      <td>7</td>\n",
       "      <td>Impresora</td>\n",
       "      <td>2025-07-22</td>\n",
       "      <td>149.99</td>\n",
       "      <td>44.997</td>\n",
       "    </tr>\n",
       "    <tr>\n",
       "      <th>7</th>\n",
       "      <td>8</td>\n",
       "      <td>Auriculares</td>\n",
       "      <td>2025-08-30</td>\n",
       "      <td>99.99</td>\n",
       "      <td>29.997</td>\n",
       "    </tr>\n",
       "    <tr>\n",
       "      <th>8</th>\n",
       "      <td>9</td>\n",
       "      <td>Cámara</td>\n",
       "      <td>2025-09-10</td>\n",
       "      <td>499.99</td>\n",
       "      <td>149.997</td>\n",
       "    </tr>\n",
       "    <tr>\n",
       "      <th>9</th>\n",
       "      <td>10</td>\n",
       "      <td>Cargador</td>\n",
       "      <td>2025-09-10</td>\n",
       "      <td>199.99</td>\n",
       "      <td>59.997</td>\n",
       "    </tr>\n",
       "  </tbody>\n",
       "</table></div>"
      ],
      "text/plain": [
       "   id     producto       fecha    valor  utilidad\n",
       "0   1       Laptop  2025-01-15  1200.50   360.150\n",
       "1   2     Teléfono  2025-02-20  1000.00   300.000\n",
       "2   3       Tablet  2025-03-10   349.99   104.997\n",
       "3   4      Monitor  2025-04-05   249.99    74.997\n",
       "4   5      Teclado  2025-05-12    59.99    17.997\n",
       "5   6        Ratón  2025-06-18    30.00     9.000\n",
       "6   7    Impresora  2025-07-22   149.99    44.997\n",
       "7   8  Auriculares  2025-08-30    99.99    29.997\n",
       "8   9       Cámara  2025-09-10   499.99   149.997\n",
       "9  10     Cargador  2025-09-10   199.99    59.997"
      ]
     },
     "execution_count": 70,
     "metadata": {},
     "output_type": "execute_result"
    }
   ],
   "source": [
    "df['utilidad'] = df['valor'] * 0.3  # Crear columna\n",
    "df"
   ]
  },
  {
   "cell_type": "code",
   "execution_count": 74,
   "metadata": {},
   "outputs": [
    {
     "data": {
      "text/html": [
       "<div><div id=c573cafc-4027-4d29-b268-09bea021afe9 style=\"display:none; background-color:#9D6CFF; color:white; width:200px; height:30px; padding-left:5px; border-radius:4px; flex-direction:row; justify-content:space-around; align-items:center;\" onmouseover=\"this.style.backgroundColor='#BA9BF8'\" onmouseout=\"this.style.backgroundColor='#9D6CFF'\" onclick=\"window.commands?.execute('create-mitosheet-from-dataframe-output');\">See Full Dataframe in Mito</div> <script> if (window.commands?.hasCommand('create-mitosheet-from-dataframe-output')) document.getElementById('c573cafc-4027-4d29-b268-09bea021afe9').style.display = 'flex' </script> <table border=\"1\" class=\"dataframe\">\n",
       "  <thead>\n",
       "    <tr style=\"text-align: right;\">\n",
       "      <th></th>\n",
       "      <th>id</th>\n",
       "      <th>producto</th>\n",
       "      <th>fecha</th>\n",
       "      <th>valor</th>\n",
       "    </tr>\n",
       "  </thead>\n",
       "  <tbody>\n",
       "    <tr>\n",
       "      <th>0</th>\n",
       "      <td>1</td>\n",
       "      <td>Laptop</td>\n",
       "      <td>2025-01-15</td>\n",
       "      <td>1200.50</td>\n",
       "    </tr>\n",
       "    <tr>\n",
       "      <th>1</th>\n",
       "      <td>2</td>\n",
       "      <td>Teléfono</td>\n",
       "      <td>2025-02-20</td>\n",
       "      <td>1000.00</td>\n",
       "    </tr>\n",
       "    <tr>\n",
       "      <th>2</th>\n",
       "      <td>3</td>\n",
       "      <td>Tablet</td>\n",
       "      <td>2025-03-10</td>\n",
       "      <td>349.99</td>\n",
       "    </tr>\n",
       "    <tr>\n",
       "      <th>3</th>\n",
       "      <td>4</td>\n",
       "      <td>Monitor</td>\n",
       "      <td>2025-04-05</td>\n",
       "      <td>249.99</td>\n",
       "    </tr>\n",
       "    <tr>\n",
       "      <th>4</th>\n",
       "      <td>5</td>\n",
       "      <td>Teclado</td>\n",
       "      <td>2025-05-12</td>\n",
       "      <td>59.99</td>\n",
       "    </tr>\n",
       "    <tr>\n",
       "      <th>5</th>\n",
       "      <td>6</td>\n",
       "      <td>Ratón</td>\n",
       "      <td>2025-06-18</td>\n",
       "      <td>30.00</td>\n",
       "    </tr>\n",
       "    <tr>\n",
       "      <th>6</th>\n",
       "      <td>7</td>\n",
       "      <td>Impresora</td>\n",
       "      <td>2025-07-22</td>\n",
       "      <td>149.99</td>\n",
       "    </tr>\n",
       "    <tr>\n",
       "      <th>7</th>\n",
       "      <td>8</td>\n",
       "      <td>Auriculares</td>\n",
       "      <td>2025-08-30</td>\n",
       "      <td>99.99</td>\n",
       "    </tr>\n",
       "    <tr>\n",
       "      <th>8</th>\n",
       "      <td>9</td>\n",
       "      <td>Cámara</td>\n",
       "      <td>2025-09-10</td>\n",
       "      <td>499.99</td>\n",
       "    </tr>\n",
       "    <tr>\n",
       "      <th>9</th>\n",
       "      <td>10</td>\n",
       "      <td>Cargador</td>\n",
       "      <td>2025-09-10</td>\n",
       "      <td>199.99</td>\n",
       "    </tr>\n",
       "  </tbody>\n",
       "</table></div>"
      ],
      "text/plain": [
       "   id     producto       fecha    valor\n",
       "0   1       Laptop  2025-01-15  1200.50\n",
       "1   2     Teléfono  2025-02-20  1000.00\n",
       "2   3       Tablet  2025-03-10   349.99\n",
       "3   4      Monitor  2025-04-05   249.99\n",
       "4   5      Teclado  2025-05-12    59.99\n",
       "5   6        Ratón  2025-06-18    30.00\n",
       "6   7    Impresora  2025-07-22   149.99\n",
       "7   8  Auriculares  2025-08-30    99.99\n",
       "8   9       Cámara  2025-09-10   499.99\n",
       "9  10     Cargador  2025-09-10   199.99"
      ]
     },
     "execution_count": 74,
     "metadata": {},
     "output_type": "execute_result"
    }
   ],
   "source": [
    "df.drop('utilidad', axis=1, inplace=True)  # Eliminar columna\n",
    "df"
   ]
  },
  {
   "cell_type": "code",
   "execution_count": 75,
   "metadata": {},
   "outputs": [
    {
     "data": {
      "text/html": [
       "<div><div id=bfb03741-a23d-4340-b9fc-53be326b896d style=\"display:none; background-color:#9D6CFF; color:white; width:200px; height:30px; padding-left:5px; border-radius:4px; flex-direction:row; justify-content:space-around; align-items:center;\" onmouseover=\"this.style.backgroundColor='#BA9BF8'\" onmouseout=\"this.style.backgroundColor='#9D6CFF'\" onclick=\"window.commands?.execute('create-mitosheet-from-dataframe-output');\">See Full Dataframe in Mito</div> <script> if (window.commands?.hasCommand('create-mitosheet-from-dataframe-output')) document.getElementById('bfb03741-a23d-4340-b9fc-53be326b896d').style.display = 'flex' </script> <table border=\"1\" class=\"dataframe\">\n",
       "  <thead>\n",
       "    <tr style=\"text-align: right;\">\n",
       "      <th></th>\n",
       "      <th>id</th>\n",
       "      <th>producto</th>\n",
       "      <th>fecha</th>\n",
       "      <th>precio</th>\n",
       "    </tr>\n",
       "  </thead>\n",
       "  <tbody>\n",
       "    <tr>\n",
       "      <th>0</th>\n",
       "      <td>1</td>\n",
       "      <td>Laptop</td>\n",
       "      <td>2025-01-15</td>\n",
       "      <td>1200.50</td>\n",
       "    </tr>\n",
       "    <tr>\n",
       "      <th>1</th>\n",
       "      <td>2</td>\n",
       "      <td>Teléfono</td>\n",
       "      <td>2025-02-20</td>\n",
       "      <td>1000.00</td>\n",
       "    </tr>\n",
       "    <tr>\n",
       "      <th>2</th>\n",
       "      <td>3</td>\n",
       "      <td>Tablet</td>\n",
       "      <td>2025-03-10</td>\n",
       "      <td>349.99</td>\n",
       "    </tr>\n",
       "    <tr>\n",
       "      <th>3</th>\n",
       "      <td>4</td>\n",
       "      <td>Monitor</td>\n",
       "      <td>2025-04-05</td>\n",
       "      <td>249.99</td>\n",
       "    </tr>\n",
       "    <tr>\n",
       "      <th>4</th>\n",
       "      <td>5</td>\n",
       "      <td>Teclado</td>\n",
       "      <td>2025-05-12</td>\n",
       "      <td>59.99</td>\n",
       "    </tr>\n",
       "    <tr>\n",
       "      <th>5</th>\n",
       "      <td>6</td>\n",
       "      <td>Ratón</td>\n",
       "      <td>2025-06-18</td>\n",
       "      <td>30.00</td>\n",
       "    </tr>\n",
       "    <tr>\n",
       "      <th>6</th>\n",
       "      <td>7</td>\n",
       "      <td>Impresora</td>\n",
       "      <td>2025-07-22</td>\n",
       "      <td>149.99</td>\n",
       "    </tr>\n",
       "    <tr>\n",
       "      <th>7</th>\n",
       "      <td>8</td>\n",
       "      <td>Auriculares</td>\n",
       "      <td>2025-08-30</td>\n",
       "      <td>99.99</td>\n",
       "    </tr>\n",
       "    <tr>\n",
       "      <th>8</th>\n",
       "      <td>9</td>\n",
       "      <td>Cámara</td>\n",
       "      <td>2025-09-10</td>\n",
       "      <td>499.99</td>\n",
       "    </tr>\n",
       "    <tr>\n",
       "      <th>9</th>\n",
       "      <td>10</td>\n",
       "      <td>Cargador</td>\n",
       "      <td>2025-09-10</td>\n",
       "      <td>199.99</td>\n",
       "    </tr>\n",
       "  </tbody>\n",
       "</table></div>"
      ],
      "text/plain": [
       "   id     producto       fecha   precio\n",
       "0   1       Laptop  2025-01-15  1200.50\n",
       "1   2     Teléfono  2025-02-20  1000.00\n",
       "2   3       Tablet  2025-03-10   349.99\n",
       "3   4      Monitor  2025-04-05   249.99\n",
       "4   5      Teclado  2025-05-12    59.99\n",
       "5   6        Ratón  2025-06-18    30.00\n",
       "6   7    Impresora  2025-07-22   149.99\n",
       "7   8  Auriculares  2025-08-30    99.99\n",
       "8   9       Cámara  2025-09-10   499.99\n",
       "9  10     Cargador  2025-09-10   199.99"
      ]
     },
     "execution_count": 75,
     "metadata": {},
     "output_type": "execute_result"
    }
   ],
   "source": [
    "df.rename(columns={'valor': 'precio'}, inplace=True) # Renombrar columna\n",
    "df"
   ]
  },
  {
   "cell_type": "code",
   "execution_count": 78,
   "metadata": {},
   "outputs": [
    {
     "data": {
      "text/html": [
       "<div><div id=9bbe9e0b-63d4-44ee-8cef-c0a78ade9477 style=\"display:none; background-color:#9D6CFF; color:white; width:200px; height:30px; padding-left:5px; border-radius:4px; flex-direction:row; justify-content:space-around; align-items:center;\" onmouseover=\"this.style.backgroundColor='#BA9BF8'\" onmouseout=\"this.style.backgroundColor='#9D6CFF'\" onclick=\"window.commands?.execute('create-mitosheet-from-dataframe-output');\">See Full Dataframe in Mito</div> <script> if (window.commands?.hasCommand('create-mitosheet-from-dataframe-output')) document.getElementById('9bbe9e0b-63d4-44ee-8cef-c0a78ade9477').style.display = 'flex' </script> <table border=\"1\" class=\"dataframe\">\n",
       "  <thead>\n",
       "    <tr style=\"text-align: right;\">\n",
       "      <th></th>\n",
       "      <th>Categoria</th>\n",
       "      <th>Producto</th>\n",
       "      <th>Fecha</th>\n",
       "      <th>Valor</th>\n",
       "      <th>Utilidad</th>\n",
       "    </tr>\n",
       "  </thead>\n",
       "  <tbody>\n",
       "    <tr>\n",
       "      <th>0</th>\n",
       "      <td>Computadores</td>\n",
       "      <td>Laptop</td>\n",
       "      <td>2025-01-15</td>\n",
       "      <td>1200.50</td>\n",
       "      <td>300</td>\n",
       "    </tr>\n",
       "    <tr>\n",
       "      <th>1</th>\n",
       "      <td>Móviles</td>\n",
       "      <td>Teléfono</td>\n",
       "      <td>2025-02-20</td>\n",
       "      <td>899.99</td>\n",
       "      <td>100</td>\n",
       "    </tr>\n",
       "    <tr>\n",
       "      <th>2</th>\n",
       "      <td>Móviles</td>\n",
       "      <td>Tablet</td>\n",
       "      <td>2025-03-10</td>\n",
       "      <td>349.99</td>\n",
       "      <td>20</td>\n",
       "    </tr>\n",
       "    <tr>\n",
       "      <th>3</th>\n",
       "      <td>Accesorios</td>\n",
       "      <td>Monitor</td>\n",
       "      <td>2025-04-05</td>\n",
       "      <td>249.99</td>\n",
       "      <td>30</td>\n",
       "    </tr>\n",
       "    <tr>\n",
       "      <th>6</th>\n",
       "      <td>Impresión</td>\n",
       "      <td>Impresora</td>\n",
       "      <td>2025-07-22</td>\n",
       "      <td>149.99</td>\n",
       "      <td>15</td>\n",
       "    </tr>\n",
       "    <tr>\n",
       "      <th>7</th>\n",
       "      <td>Accesorios</td>\n",
       "      <td>Auriculares</td>\n",
       "      <td>2025-08-30</td>\n",
       "      <td>99.99</td>\n",
       "      <td>10</td>\n",
       "    </tr>\n",
       "    <tr>\n",
       "      <th>4</th>\n",
       "      <td>Accesorios</td>\n",
       "      <td>Teclado</td>\n",
       "      <td>2025-05-12</td>\n",
       "      <td>59.99</td>\n",
       "      <td>5</td>\n",
       "    </tr>\n",
       "    <tr>\n",
       "      <th>5</th>\n",
       "      <td>Accesorios</td>\n",
       "      <td>Ratón</td>\n",
       "      <td>2025-06-18</td>\n",
       "      <td>25.50</td>\n",
       "      <td>5</td>\n",
       "    </tr>\n",
       "  </tbody>\n",
       "</table></div>"
      ],
      "text/plain": [
       "      Categoria     Producto      Fecha    Valor  Utilidad\n",
       "0  Computadores       Laptop 2025-01-15  1200.50       300\n",
       "1       Móviles     Teléfono 2025-02-20   899.99       100\n",
       "2       Móviles       Tablet 2025-03-10   349.99        20\n",
       "3    Accesorios      Monitor 2025-04-05   249.99        30\n",
       "6     Impresión    Impresora 2025-07-22   149.99        15\n",
       "7    Accesorios  Auriculares 2025-08-30    99.99        10\n",
       "4    Accesorios      Teclado 2025-05-12    59.99         5\n",
       "5    Accesorios        Ratón 2025-06-18    25.50         5"
      ]
     },
     "execution_count": 78,
     "metadata": {},
     "output_type": "execute_result"
    }
   ],
   "source": [
    "dfCategorias.sort_values(by='Valor', ascending=False)  # Ordenar por columna  ascending=True Asencendente ascending=False descendente"
   ]
  },
  {
   "cell_type": "code",
   "execution_count": 81,
   "metadata": {},
   "outputs": [
    {
     "data": {
      "text/html": [
       "<div><div id=7dddd193-4906-48c0-812e-d63409ba980b style=\"display:none; background-color:#9D6CFF; color:white; width:200px; height:30px; padding-left:5px; border-radius:4px; flex-direction:row; justify-content:space-around; align-items:center;\" onmouseover=\"this.style.backgroundColor='#BA9BF8'\" onmouseout=\"this.style.backgroundColor='#9D6CFF'\" onclick=\"window.commands?.execute('create-mitosheet-from-dataframe-output');\">See Full Dataframe in Mito</div> <script> if (window.commands?.hasCommand('create-mitosheet-from-dataframe-output')) document.getElementById('7dddd193-4906-48c0-812e-d63409ba980b').style.display = 'flex' </script> <table border=\"1\" class=\"dataframe\">\n",
       "  <thead>\n",
       "    <tr style=\"text-align: right;\">\n",
       "      <th></th>\n",
       "      <th>Categoria</th>\n",
       "      <th>Producto</th>\n",
       "      <th>Fecha</th>\n",
       "      <th>Valor</th>\n",
       "      <th>Utilidad</th>\n",
       "    </tr>\n",
       "  </thead>\n",
       "  <tbody>\n",
       "    <tr>\n",
       "      <th>3</th>\n",
       "      <td>Accesorios</td>\n",
       "      <td>Monitor</td>\n",
       "      <td>2025-04-05</td>\n",
       "      <td>249.99</td>\n",
       "      <td>30</td>\n",
       "    </tr>\n",
       "    <tr>\n",
       "      <th>7</th>\n",
       "      <td>Accesorios</td>\n",
       "      <td>Auriculares</td>\n",
       "      <td>2025-08-30</td>\n",
       "      <td>99.99</td>\n",
       "      <td>10</td>\n",
       "    </tr>\n",
       "    <tr>\n",
       "      <th>4</th>\n",
       "      <td>Accesorios</td>\n",
       "      <td>Teclado</td>\n",
       "      <td>2025-05-12</td>\n",
       "      <td>59.99</td>\n",
       "      <td>5</td>\n",
       "    </tr>\n",
       "    <tr>\n",
       "      <th>5</th>\n",
       "      <td>Accesorios</td>\n",
       "      <td>Ratón</td>\n",
       "      <td>2025-06-18</td>\n",
       "      <td>25.50</td>\n",
       "      <td>5</td>\n",
       "    </tr>\n",
       "    <tr>\n",
       "      <th>0</th>\n",
       "      <td>Computadores</td>\n",
       "      <td>Laptop</td>\n",
       "      <td>2025-01-15</td>\n",
       "      <td>1200.50</td>\n",
       "      <td>300</td>\n",
       "    </tr>\n",
       "    <tr>\n",
       "      <th>6</th>\n",
       "      <td>Impresión</td>\n",
       "      <td>Impresora</td>\n",
       "      <td>2025-07-22</td>\n",
       "      <td>149.99</td>\n",
       "      <td>15</td>\n",
       "    </tr>\n",
       "    <tr>\n",
       "      <th>1</th>\n",
       "      <td>Móviles</td>\n",
       "      <td>Teléfono</td>\n",
       "      <td>2025-02-20</td>\n",
       "      <td>899.99</td>\n",
       "      <td>100</td>\n",
       "    </tr>\n",
       "    <tr>\n",
       "      <th>2</th>\n",
       "      <td>Móviles</td>\n",
       "      <td>Tablet</td>\n",
       "      <td>2025-03-10</td>\n",
       "      <td>349.99</td>\n",
       "      <td>20</td>\n",
       "    </tr>\n",
       "  </tbody>\n",
       "</table></div>"
      ],
      "text/plain": [
       "      Categoria     Producto      Fecha    Valor  Utilidad\n",
       "3    Accesorios      Monitor 2025-04-05   249.99        30\n",
       "7    Accesorios  Auriculares 2025-08-30    99.99        10\n",
       "4    Accesorios      Teclado 2025-05-12    59.99         5\n",
       "5    Accesorios        Ratón 2025-06-18    25.50         5\n",
       "0  Computadores       Laptop 2025-01-15  1200.50       300\n",
       "6     Impresión    Impresora 2025-07-22   149.99        15\n",
       "1       Móviles     Teléfono 2025-02-20   899.99       100\n",
       "2       Móviles       Tablet 2025-03-10   349.99        20"
      ]
     },
     "execution_count": 81,
     "metadata": {},
     "output_type": "execute_result"
    }
   ],
   "source": [
    "dfCategorias.sort_values(by=['Categoria','Valor'], ascending=[True,False])  # Ordenar por varias columnas  ascending=True Asencendente ascending=False descendente"
   ]
  },
  {
   "cell_type": "code",
   "execution_count": 84,
   "metadata": {},
   "outputs": [
    {
     "data": {
      "text/html": [
       "<div><div id=d7c92889-2f16-4aae-8bad-d1e5a1817e5d style=\"display:none; background-color:#9D6CFF; color:white; width:200px; height:30px; padding-left:5px; border-radius:4px; flex-direction:row; justify-content:space-around; align-items:center;\" onmouseover=\"this.style.backgroundColor='#BA9BF8'\" onmouseout=\"this.style.backgroundColor='#9D6CFF'\" onclick=\"window.commands?.execute('create-mitosheet-from-dataframe-output');\">See Full Dataframe in Mito</div> <script> if (window.commands?.hasCommand('create-mitosheet-from-dataframe-output')) document.getElementById('d7c92889-2f16-4aae-8bad-d1e5a1817e5d').style.display = 'flex' </script> <table border=\"1\" class=\"dataframe\">\n",
       "  <thead>\n",
       "    <tr style=\"text-align: right;\">\n",
       "      <th></th>\n",
       "      <th>Categoria</th>\n",
       "      <th>Producto</th>\n",
       "      <th>Fecha</th>\n",
       "      <th>Valor</th>\n",
       "      <th>Utilidad</th>\n",
       "    </tr>\n",
       "  </thead>\n",
       "  <tbody>\n",
       "    <tr>\n",
       "      <th>0</th>\n",
       "      <td>Computadores</td>\n",
       "      <td>Laptop</td>\n",
       "      <td>2025-01-15</td>\n",
       "      <td>1200.50</td>\n",
       "      <td>300</td>\n",
       "    </tr>\n",
       "    <tr>\n",
       "      <th>1</th>\n",
       "      <td>Móviles</td>\n",
       "      <td>Teléfono</td>\n",
       "      <td>2025-02-20</td>\n",
       "      <td>899.99</td>\n",
       "      <td>100</td>\n",
       "    </tr>\n",
       "    <tr>\n",
       "      <th>2</th>\n",
       "      <td>Móviles</td>\n",
       "      <td>Tablet</td>\n",
       "      <td>2025-03-10</td>\n",
       "      <td>349.99</td>\n",
       "      <td>20</td>\n",
       "    </tr>\n",
       "    <tr>\n",
       "      <th>3</th>\n",
       "      <td>Accesorios</td>\n",
       "      <td>Monitor</td>\n",
       "      <td>2025-04-05</td>\n",
       "      <td>249.99</td>\n",
       "      <td>30</td>\n",
       "    </tr>\n",
       "    <tr>\n",
       "      <th>4</th>\n",
       "      <td>Accesorios</td>\n",
       "      <td>Teclado</td>\n",
       "      <td>2025-05-12</td>\n",
       "      <td>59.99</td>\n",
       "      <td>5</td>\n",
       "    </tr>\n",
       "    <tr>\n",
       "      <th>5</th>\n",
       "      <td>Accesorios</td>\n",
       "      <td>Ratón</td>\n",
       "      <td>2025-06-18</td>\n",
       "      <td>25.50</td>\n",
       "      <td>5</td>\n",
       "    </tr>\n",
       "    <tr>\n",
       "      <th>6</th>\n",
       "      <td>Impresión</td>\n",
       "      <td>Impresora</td>\n",
       "      <td>2025-07-22</td>\n",
       "      <td>149.99</td>\n",
       "      <td>15</td>\n",
       "    </tr>\n",
       "    <tr>\n",
       "      <th>7</th>\n",
       "      <td>Accesorios</td>\n",
       "      <td>Auriculares</td>\n",
       "      <td>2025-08-30</td>\n",
       "      <td>99.99</td>\n",
       "      <td>10</td>\n",
       "    </tr>\n",
       "  </tbody>\n",
       "</table></div>"
      ],
      "text/plain": [
       "      Categoria     Producto      Fecha    Valor  Utilidad\n",
       "0  Computadores       Laptop 2025-01-15  1200.50       300\n",
       "1       Móviles     Teléfono 2025-02-20   899.99       100\n",
       "2       Móviles       Tablet 2025-03-10   349.99        20\n",
       "3    Accesorios      Monitor 2025-04-05   249.99        30\n",
       "4    Accesorios      Teclado 2025-05-12    59.99         5\n",
       "5    Accesorios        Ratón 2025-06-18    25.50         5\n",
       "6     Impresión    Impresora 2025-07-22   149.99        15\n",
       "7    Accesorios  Auriculares 2025-08-30    99.99        10"
      ]
     },
     "execution_count": 84,
     "metadata": {},
     "output_type": "execute_result"
    }
   ],
   "source": [
    "dfCategorias.sort_index(ascending=True)  # Ordenar por índice"
   ]
  },
  {
   "cell_type": "code",
   "execution_count": 85,
   "metadata": {},
   "outputs": [
    {
     "name": "stdout",
     "output_type": "stream",
     "text": [
      "     id     producto       fecha   precio\n",
      "0   1.0       Laptop  2025-01-15  1200.50\n",
      "1   2.0     Teléfono  2025-02-20      NaN\n",
      "2   3.0       Tablet  2025-03-10      NaN\n",
      "3   4.0      Monitor  2025-04-05      NaN\n",
      "4   5.0      Teclado  2025-05-12    59.99\n",
      "5   NaN        Ratón  2025-06-18    30.00\n",
      "6   7.0    Impresora  2025-07-22   149.99\n",
      "7   8.0  Auriculares  2025-08-30    99.99\n",
      "8   9.0       Cámara  2025-09-10   499.99\n",
      "9  10.0     Cargador  2025-09-10   199.99\n"
     ]
    },
    {
     "data": {
      "text/html": [
       "<div><div id=c39ffe39-62ba-40da-bf2d-7a17becdd79b style=\"display:none; background-color:#9D6CFF; color:white; width:200px; height:30px; padding-left:5px; border-radius:4px; flex-direction:row; justify-content:space-around; align-items:center;\" onmouseover=\"this.style.backgroundColor='#BA9BF8'\" onmouseout=\"this.style.backgroundColor='#9D6CFF'\" onclick=\"window.commands?.execute('create-mitosheet-from-dataframe-output');\">See Full Dataframe in Mito</div> <script> if (window.commands?.hasCommand('create-mitosheet-from-dataframe-output')) document.getElementById('c39ffe39-62ba-40da-bf2d-7a17becdd79b').style.display = 'flex' </script> <table border=\"1\" class=\"dataframe\">\n",
       "  <thead>\n",
       "    <tr style=\"text-align: right;\">\n",
       "      <th></th>\n",
       "      <th>id</th>\n",
       "      <th>producto</th>\n",
       "      <th>fecha</th>\n",
       "      <th>precio</th>\n",
       "    </tr>\n",
       "  </thead>\n",
       "  <tbody>\n",
       "    <tr>\n",
       "      <th>0</th>\n",
       "      <td>False</td>\n",
       "      <td>False</td>\n",
       "      <td>False</td>\n",
       "      <td>False</td>\n",
       "    </tr>\n",
       "    <tr>\n",
       "      <th>1</th>\n",
       "      <td>False</td>\n",
       "      <td>False</td>\n",
       "      <td>False</td>\n",
       "      <td>True</td>\n",
       "    </tr>\n",
       "    <tr>\n",
       "      <th>2</th>\n",
       "      <td>False</td>\n",
       "      <td>False</td>\n",
       "      <td>False</td>\n",
       "      <td>True</td>\n",
       "    </tr>\n",
       "    <tr>\n",
       "      <th>3</th>\n",
       "      <td>False</td>\n",
       "      <td>False</td>\n",
       "      <td>False</td>\n",
       "      <td>True</td>\n",
       "    </tr>\n",
       "    <tr>\n",
       "      <th>4</th>\n",
       "      <td>False</td>\n",
       "      <td>False</td>\n",
       "      <td>False</td>\n",
       "      <td>False</td>\n",
       "    </tr>\n",
       "    <tr>\n",
       "      <th>5</th>\n",
       "      <td>True</td>\n",
       "      <td>False</td>\n",
       "      <td>False</td>\n",
       "      <td>False</td>\n",
       "    </tr>\n",
       "    <tr>\n",
       "      <th>6</th>\n",
       "      <td>False</td>\n",
       "      <td>False</td>\n",
       "      <td>False</td>\n",
       "      <td>False</td>\n",
       "    </tr>\n",
       "    <tr>\n",
       "      <th>7</th>\n",
       "      <td>False</td>\n",
       "      <td>False</td>\n",
       "      <td>False</td>\n",
       "      <td>False</td>\n",
       "    </tr>\n",
       "    <tr>\n",
       "      <th>8</th>\n",
       "      <td>False</td>\n",
       "      <td>False</td>\n",
       "      <td>False</td>\n",
       "      <td>False</td>\n",
       "    </tr>\n",
       "    <tr>\n",
       "      <th>9</th>\n",
       "      <td>False</td>\n",
       "      <td>False</td>\n",
       "      <td>False</td>\n",
       "      <td>False</td>\n",
       "    </tr>\n",
       "  </tbody>\n",
       "</table></div>"
      ],
      "text/plain": [
       "      id  producto  fecha  precio\n",
       "0  False     False  False   False\n",
       "1  False     False  False    True\n",
       "2  False     False  False    True\n",
       "3  False     False  False    True\n",
       "4  False     False  False   False\n",
       "5   True     False  False   False\n",
       "6  False     False  False   False\n",
       "7  False     False  False   False\n",
       "8  False     False  False   False\n",
       "9  False     False  False   False"
      ]
     },
     "execution_count": 85,
     "metadata": {},
     "output_type": "execute_result"
    }
   ],
   "source": [
    "df.loc[1:3,\"precio\"]=None\n",
    "df.loc[5,\"id\"]=None\n",
    "print(df)\n",
    "df.isna()  # Detectar valores faltantes"
   ]
  },
  {
   "cell_type": "code",
   "execution_count": 86,
   "metadata": {},
   "outputs": [
    {
     "data": {
      "text/plain": [
       "id          1\n",
       "producto    0\n",
       "fecha       0\n",
       "precio      3\n",
       "dtype: int64"
      ]
     },
     "execution_count": 86,
     "metadata": {},
     "output_type": "execute_result"
    }
   ],
   "source": [
    "df.isna().sum() # Detectar cantidad de valores faltantes"
   ]
  },
  {
   "cell_type": "code",
   "execution_count": 87,
   "metadata": {},
   "outputs": [
    {
     "data": {
      "text/html": [
       "<div><div id=05c2b6a0-b6a6-47fb-97f7-8f18d6267def style=\"display:none; background-color:#9D6CFF; color:white; width:200px; height:30px; padding-left:5px; border-radius:4px; flex-direction:row; justify-content:space-around; align-items:center;\" onmouseover=\"this.style.backgroundColor='#BA9BF8'\" onmouseout=\"this.style.backgroundColor='#9D6CFF'\" onclick=\"window.commands?.execute('create-mitosheet-from-dataframe-output');\">See Full Dataframe in Mito</div> <script> if (window.commands?.hasCommand('create-mitosheet-from-dataframe-output')) document.getElementById('05c2b6a0-b6a6-47fb-97f7-8f18d6267def').style.display = 'flex' </script> <table border=\"1\" class=\"dataframe\">\n",
       "  <thead>\n",
       "    <tr style=\"text-align: right;\">\n",
       "      <th></th>\n",
       "      <th>id</th>\n",
       "      <th>producto</th>\n",
       "      <th>fecha</th>\n",
       "      <th>precio</th>\n",
       "    </tr>\n",
       "  </thead>\n",
       "  <tbody>\n",
       "    <tr>\n",
       "      <th>0</th>\n",
       "      <td>1.0</td>\n",
       "      <td>Laptop</td>\n",
       "      <td>2025-01-15</td>\n",
       "      <td>1200.50</td>\n",
       "    </tr>\n",
       "    <tr>\n",
       "      <th>4</th>\n",
       "      <td>5.0</td>\n",
       "      <td>Teclado</td>\n",
       "      <td>2025-05-12</td>\n",
       "      <td>59.99</td>\n",
       "    </tr>\n",
       "    <tr>\n",
       "      <th>6</th>\n",
       "      <td>7.0</td>\n",
       "      <td>Impresora</td>\n",
       "      <td>2025-07-22</td>\n",
       "      <td>149.99</td>\n",
       "    </tr>\n",
       "    <tr>\n",
       "      <th>7</th>\n",
       "      <td>8.0</td>\n",
       "      <td>Auriculares</td>\n",
       "      <td>2025-08-30</td>\n",
       "      <td>99.99</td>\n",
       "    </tr>\n",
       "    <tr>\n",
       "      <th>8</th>\n",
       "      <td>9.0</td>\n",
       "      <td>Cámara</td>\n",
       "      <td>2025-09-10</td>\n",
       "      <td>499.99</td>\n",
       "    </tr>\n",
       "    <tr>\n",
       "      <th>9</th>\n",
       "      <td>10.0</td>\n",
       "      <td>Cargador</td>\n",
       "      <td>2025-09-10</td>\n",
       "      <td>199.99</td>\n",
       "    </tr>\n",
       "  </tbody>\n",
       "</table></div>"
      ],
      "text/plain": [
       "     id     producto       fecha   precio\n",
       "0   1.0       Laptop  2025-01-15  1200.50\n",
       "4   5.0      Teclado  2025-05-12    59.99\n",
       "6   7.0    Impresora  2025-07-22   149.99\n",
       "7   8.0  Auriculares  2025-08-30    99.99\n",
       "8   9.0       Cámara  2025-09-10   499.99\n",
       "9  10.0     Cargador  2025-09-10   199.99"
      ]
     },
     "execution_count": 87,
     "metadata": {},
     "output_type": "execute_result"
    }
   ],
   "source": [
    "df.dropna()  # Eliminar filas con valores faltantes"
   ]
  },
  {
   "cell_type": "code",
   "execution_count": 88,
   "metadata": {},
   "outputs": [
    {
     "data": {
      "text/html": [
       "<div><div id=fdd82645-510b-44ca-8079-47eeebbeadd3 style=\"display:none; background-color:#9D6CFF; color:white; width:200px; height:30px; padding-left:5px; border-radius:4px; flex-direction:row; justify-content:space-around; align-items:center;\" onmouseover=\"this.style.backgroundColor='#BA9BF8'\" onmouseout=\"this.style.backgroundColor='#9D6CFF'\" onclick=\"window.commands?.execute('create-mitosheet-from-dataframe-output');\">See Full Dataframe in Mito</div> <script> if (window.commands?.hasCommand('create-mitosheet-from-dataframe-output')) document.getElementById('fdd82645-510b-44ca-8079-47eeebbeadd3').style.display = 'flex' </script> <table border=\"1\" class=\"dataframe\">\n",
       "  <thead>\n",
       "    <tr style=\"text-align: right;\">\n",
       "      <th></th>\n",
       "      <th>id</th>\n",
       "      <th>producto</th>\n",
       "      <th>fecha</th>\n",
       "      <th>precio</th>\n",
       "    </tr>\n",
       "  </thead>\n",
       "  <tbody>\n",
       "    <tr>\n",
       "      <th>0</th>\n",
       "      <td>1.0</td>\n",
       "      <td>Laptop</td>\n",
       "      <td>2025-01-15</td>\n",
       "      <td>1200.50</td>\n",
       "    </tr>\n",
       "    <tr>\n",
       "      <th>4</th>\n",
       "      <td>5.0</td>\n",
       "      <td>Teclado</td>\n",
       "      <td>2025-05-12</td>\n",
       "      <td>59.99</td>\n",
       "    </tr>\n",
       "    <tr>\n",
       "      <th>5</th>\n",
       "      <td>NaN</td>\n",
       "      <td>Ratón</td>\n",
       "      <td>2025-06-18</td>\n",
       "      <td>30.00</td>\n",
       "    </tr>\n",
       "    <tr>\n",
       "      <th>6</th>\n",
       "      <td>7.0</td>\n",
       "      <td>Impresora</td>\n",
       "      <td>2025-07-22</td>\n",
       "      <td>149.99</td>\n",
       "    </tr>\n",
       "    <tr>\n",
       "      <th>7</th>\n",
       "      <td>8.0</td>\n",
       "      <td>Auriculares</td>\n",
       "      <td>2025-08-30</td>\n",
       "      <td>99.99</td>\n",
       "    </tr>\n",
       "    <tr>\n",
       "      <th>8</th>\n",
       "      <td>9.0</td>\n",
       "      <td>Cámara</td>\n",
       "      <td>2025-09-10</td>\n",
       "      <td>499.99</td>\n",
       "    </tr>\n",
       "    <tr>\n",
       "      <th>9</th>\n",
       "      <td>10.0</td>\n",
       "      <td>Cargador</td>\n",
       "      <td>2025-09-10</td>\n",
       "      <td>199.99</td>\n",
       "    </tr>\n",
       "  </tbody>\n",
       "</table></div>"
      ],
      "text/plain": [
       "     id     producto       fecha   precio\n",
       "0   1.0       Laptop  2025-01-15  1200.50\n",
       "4   5.0      Teclado  2025-05-12    59.99\n",
       "5   NaN        Ratón  2025-06-18    30.00\n",
       "6   7.0    Impresora  2025-07-22   149.99\n",
       "7   8.0  Auriculares  2025-08-30    99.99\n",
       "8   9.0       Cámara  2025-09-10   499.99\n",
       "9  10.0     Cargador  2025-09-10   199.99"
      ]
     },
     "execution_count": 88,
     "metadata": {},
     "output_type": "execute_result"
    }
   ],
   "source": [
    "df.dropna(subset=[\"precio\"])  # Eliminar filas con valores faltantes en determinadas columnas"
   ]
  },
  {
   "cell_type": "code",
   "execution_count": 91,
   "metadata": {},
   "outputs": [
    {
     "data": {
      "text/html": [
       "<div><div id=219e6471-f846-4ddb-9637-97a856a6cc42 style=\"display:none; background-color:#9D6CFF; color:white; width:200px; height:30px; padding-left:5px; border-radius:4px; flex-direction:row; justify-content:space-around; align-items:center;\" onmouseover=\"this.style.backgroundColor='#BA9BF8'\" onmouseout=\"this.style.backgroundColor='#9D6CFF'\" onclick=\"window.commands?.execute('create-mitosheet-from-dataframe-output');\">See Full Dataframe in Mito</div> <script> if (window.commands?.hasCommand('create-mitosheet-from-dataframe-output')) document.getElementById('219e6471-f846-4ddb-9637-97a856a6cc42').style.display = 'flex' </script> <table border=\"1\" class=\"dataframe\">\n",
       "  <thead>\n",
       "    <tr style=\"text-align: right;\">\n",
       "      <th></th>\n",
       "      <th>id</th>\n",
       "      <th>producto</th>\n",
       "      <th>fecha</th>\n",
       "      <th>precio</th>\n",
       "    </tr>\n",
       "  </thead>\n",
       "  <tbody>\n",
       "    <tr>\n",
       "      <th>0</th>\n",
       "      <td>1.0</td>\n",
       "      <td>Laptop</td>\n",
       "      <td>2025-01-15</td>\n",
       "      <td>1200.50</td>\n",
       "    </tr>\n",
       "    <tr>\n",
       "      <th>1</th>\n",
       "      <td>2.0</td>\n",
       "      <td>Teléfono</td>\n",
       "      <td>2025-02-20</td>\n",
       "      <td>0.00</td>\n",
       "    </tr>\n",
       "    <tr>\n",
       "      <th>2</th>\n",
       "      <td>3.0</td>\n",
       "      <td>Tablet</td>\n",
       "      <td>2025-03-10</td>\n",
       "      <td>0.00</td>\n",
       "    </tr>\n",
       "    <tr>\n",
       "      <th>3</th>\n",
       "      <td>4.0</td>\n",
       "      <td>Monitor</td>\n",
       "      <td>2025-04-05</td>\n",
       "      <td>0.00</td>\n",
       "    </tr>\n",
       "    <tr>\n",
       "      <th>4</th>\n",
       "      <td>5.0</td>\n",
       "      <td>Teclado</td>\n",
       "      <td>2025-05-12</td>\n",
       "      <td>59.99</td>\n",
       "    </tr>\n",
       "    <tr>\n",
       "      <th>5</th>\n",
       "      <td>0.0</td>\n",
       "      <td>Ratón</td>\n",
       "      <td>2025-06-18</td>\n",
       "      <td>30.00</td>\n",
       "    </tr>\n",
       "    <tr>\n",
       "      <th>6</th>\n",
       "      <td>7.0</td>\n",
       "      <td>Impresora</td>\n",
       "      <td>2025-07-22</td>\n",
       "      <td>149.99</td>\n",
       "    </tr>\n",
       "    <tr>\n",
       "      <th>7</th>\n",
       "      <td>8.0</td>\n",
       "      <td>Auriculares</td>\n",
       "      <td>2025-08-30</td>\n",
       "      <td>99.99</td>\n",
       "    </tr>\n",
       "    <tr>\n",
       "      <th>8</th>\n",
       "      <td>9.0</td>\n",
       "      <td>Cámara</td>\n",
       "      <td>2025-09-10</td>\n",
       "      <td>499.99</td>\n",
       "    </tr>\n",
       "    <tr>\n",
       "      <th>9</th>\n",
       "      <td>10.0</td>\n",
       "      <td>Cargador</td>\n",
       "      <td>2025-09-10</td>\n",
       "      <td>199.99</td>\n",
       "    </tr>\n",
       "  </tbody>\n",
       "</table></div>"
      ],
      "text/plain": [
       "     id     producto       fecha   precio\n",
       "0   1.0       Laptop  2025-01-15  1200.50\n",
       "1   2.0     Teléfono  2025-02-20     0.00\n",
       "2   3.0       Tablet  2025-03-10     0.00\n",
       "3   4.0      Monitor  2025-04-05     0.00\n",
       "4   5.0      Teclado  2025-05-12    59.99\n",
       "5   0.0        Ratón  2025-06-18    30.00\n",
       "6   7.0    Impresora  2025-07-22   149.99\n",
       "7   8.0  Auriculares  2025-08-30    99.99\n",
       "8   9.0       Cámara  2025-09-10   499.99\n",
       "9  10.0     Cargador  2025-09-10   199.99"
      ]
     },
     "execution_count": 91,
     "metadata": {},
     "output_type": "execute_result"
    }
   ],
   "source": [
    "df.fillna(value=0)  # Rellenar valores faltantes"
   ]
  },
  {
   "cell_type": "code",
   "execution_count": 92,
   "metadata": {
    "scrolled": true
   },
   "outputs": [
    {
     "data": {
      "text/html": [
       "<div><div id=101d8865-be03-47a2-96e4-5f744dad62e7 style=\"display:none; background-color:#9D6CFF; color:white; width:200px; height:30px; padding-left:5px; border-radius:4px; flex-direction:row; justify-content:space-around; align-items:center;\" onmouseover=\"this.style.backgroundColor='#BA9BF8'\" onmouseout=\"this.style.backgroundColor='#9D6CFF'\" onclick=\"window.commands?.execute('create-mitosheet-from-dataframe-output');\">See Full Dataframe in Mito</div> <script> if (window.commands?.hasCommand('create-mitosheet-from-dataframe-output')) document.getElementById('101d8865-be03-47a2-96e4-5f744dad62e7').style.display = 'flex' </script> <table border=\"1\" class=\"dataframe\">\n",
       "  <thead>\n",
       "    <tr style=\"text-align: right;\">\n",
       "      <th></th>\n",
       "      <th>id</th>\n",
       "      <th>producto</th>\n",
       "      <th>fecha</th>\n",
       "      <th>precio</th>\n",
       "    </tr>\n",
       "  </thead>\n",
       "  <tbody>\n",
       "    <tr>\n",
       "      <th>0</th>\n",
       "      <td>1.0</td>\n",
       "      <td>Laptop</td>\n",
       "      <td>2025-01-15</td>\n",
       "      <td>1200.50</td>\n",
       "    </tr>\n",
       "    <tr>\n",
       "      <th>1</th>\n",
       "      <td>2.0</td>\n",
       "      <td>Teléfono</td>\n",
       "      <td>2025-02-20</td>\n",
       "      <td>0.00</td>\n",
       "    </tr>\n",
       "    <tr>\n",
       "      <th>2</th>\n",
       "      <td>3.0</td>\n",
       "      <td>Tablet</td>\n",
       "      <td>2025-03-10</td>\n",
       "      <td>0.00</td>\n",
       "    </tr>\n",
       "    <tr>\n",
       "      <th>3</th>\n",
       "      <td>4.0</td>\n",
       "      <td>Monitor</td>\n",
       "      <td>2025-04-05</td>\n",
       "      <td>0.00</td>\n",
       "    </tr>\n",
       "    <tr>\n",
       "      <th>4</th>\n",
       "      <td>5.0</td>\n",
       "      <td>Teclado</td>\n",
       "      <td>2025-05-12</td>\n",
       "      <td>59.99</td>\n",
       "    </tr>\n",
       "    <tr>\n",
       "      <th>5</th>\n",
       "      <td>NaN</td>\n",
       "      <td>Ratón</td>\n",
       "      <td>2025-06-18</td>\n",
       "      <td>30.00</td>\n",
       "    </tr>\n",
       "    <tr>\n",
       "      <th>6</th>\n",
       "      <td>7.0</td>\n",
       "      <td>Impresora</td>\n",
       "      <td>2025-07-22</td>\n",
       "      <td>149.99</td>\n",
       "    </tr>\n",
       "    <tr>\n",
       "      <th>7</th>\n",
       "      <td>8.0</td>\n",
       "      <td>Auriculares</td>\n",
       "      <td>2025-08-30</td>\n",
       "      <td>99.99</td>\n",
       "    </tr>\n",
       "    <tr>\n",
       "      <th>8</th>\n",
       "      <td>9.0</td>\n",
       "      <td>Cámara</td>\n",
       "      <td>2025-09-10</td>\n",
       "      <td>499.99</td>\n",
       "    </tr>\n",
       "    <tr>\n",
       "      <th>9</th>\n",
       "      <td>10.0</td>\n",
       "      <td>Cargador</td>\n",
       "      <td>2025-09-10</td>\n",
       "      <td>199.99</td>\n",
       "    </tr>\n",
       "  </tbody>\n",
       "</table></div>"
      ],
      "text/plain": [
       "     id     producto       fecha   precio\n",
       "0   1.0       Laptop  2025-01-15  1200.50\n",
       "1   2.0     Teléfono  2025-02-20     0.00\n",
       "2   3.0       Tablet  2025-03-10     0.00\n",
       "3   4.0      Monitor  2025-04-05     0.00\n",
       "4   5.0      Teclado  2025-05-12    59.99\n",
       "5   NaN        Ratón  2025-06-18    30.00\n",
       "6   7.0    Impresora  2025-07-22   149.99\n",
       "7   8.0  Auriculares  2025-08-30    99.99\n",
       "8   9.0       Cámara  2025-09-10   499.99\n",
       "9  10.0     Cargador  2025-09-10   199.99"
      ]
     },
     "execution_count": 92,
     "metadata": {},
     "output_type": "execute_result"
    }
   ],
   "source": [
    "df[\"precio\"]=df[\"precio\"].fillna(value=0)  # Rellenar valores faltantes solo  columnas seleccionadas\n",
    "df"
   ]
  },
  {
   "cell_type": "markdown",
   "metadata": {},
   "source": [
    "**Agrupaciones**"
   ]
  },
  {
   "cell_type": "code",
   "execution_count": 93,
   "metadata": {},
   "outputs": [
    {
     "data": {
      "text/html": [
       "<div><div id=de889e8e-b9e6-4629-a6cb-b4ba19ecdeaa style=\"display:none; background-color:#9D6CFF; color:white; width:200px; height:30px; padding-left:5px; border-radius:4px; flex-direction:row; justify-content:space-around; align-items:center;\" onmouseover=\"this.style.backgroundColor='#BA9BF8'\" onmouseout=\"this.style.backgroundColor='#9D6CFF'\" onclick=\"window.commands?.execute('create-mitosheet-from-dataframe-output');\">See Full Dataframe in Mito</div> <script> if (window.commands?.hasCommand('create-mitosheet-from-dataframe-output')) document.getElementById('de889e8e-b9e6-4629-a6cb-b4ba19ecdeaa').style.display = 'flex' </script> <table border=\"1\" class=\"dataframe\">\n",
       "  <thead>\n",
       "    <tr>\n",
       "      <th></th>\n",
       "      <th colspan=\"8\" halign=\"left\">Fecha</th>\n",
       "      <th colspan=\"5\" halign=\"left\">Valor</th>\n",
       "      <th colspan=\"8\" halign=\"left\">Utilidad</th>\n",
       "    </tr>\n",
       "    <tr>\n",
       "      <th></th>\n",
       "      <th>count</th>\n",
       "      <th>mean</th>\n",
       "      <th>min</th>\n",
       "      <th>25%</th>\n",
       "      <th>50%</th>\n",
       "      <th>75%</th>\n",
       "      <th>max</th>\n",
       "      <th>std</th>\n",
       "      <th>count</th>\n",
       "      <th>mean</th>\n",
       "      <th>...</th>\n",
       "      <th>max</th>\n",
       "      <th>std</th>\n",
       "      <th>count</th>\n",
       "      <th>mean</th>\n",
       "      <th>min</th>\n",
       "      <th>25%</th>\n",
       "      <th>50%</th>\n",
       "      <th>75%</th>\n",
       "      <th>max</th>\n",
       "      <th>std</th>\n",
       "    </tr>\n",
       "    <tr>\n",
       "      <th>Categoria</th>\n",
       "      <th></th>\n",
       "      <th></th>\n",
       "      <th></th>\n",
       "      <th></th>\n",
       "      <th></th>\n",
       "      <th></th>\n",
       "      <th></th>\n",
       "      <th></th>\n",
       "      <th></th>\n",
       "      <th></th>\n",
       "      <th></th>\n",
       "      <th></th>\n",
       "      <th></th>\n",
       "      <th></th>\n",
       "      <th></th>\n",
       "      <th></th>\n",
       "      <th></th>\n",
       "      <th></th>\n",
       "      <th></th>\n",
       "      <th></th>\n",
       "      <th></th>\n",
       "    </tr>\n",
       "  </thead>\n",
       "  <tbody>\n",
       "    <tr>\n",
       "      <th>Accesorios</th>\n",
       "      <td>4</td>\n",
       "      <td>2025-06-08 12:00:00</td>\n",
       "      <td>2025-04-05 00:00:00</td>\n",
       "      <td>2025-05-02 18:00:00</td>\n",
       "      <td>2025-05-30 12:00:00</td>\n",
       "      <td>2025-07-06 06:00:00</td>\n",
       "      <td>2025-08-30 00:00:00</td>\n",
       "      <td>NaN</td>\n",
       "      <td>4.0</td>\n",
       "      <td>108.8675</td>\n",
       "      <td>...</td>\n",
       "      <td>249.99</td>\n",
       "      <td>98.882961</td>\n",
       "      <td>4.0</td>\n",
       "      <td>12.5</td>\n",
       "      <td>5.0</td>\n",
       "      <td>5.0</td>\n",
       "      <td>7.5</td>\n",
       "      <td>15.0</td>\n",
       "      <td>30.0</td>\n",
       "      <td>11.902381</td>\n",
       "    </tr>\n",
       "    <tr>\n",
       "      <th>Computadores</th>\n",
       "      <td>1</td>\n",
       "      <td>2025-01-15 00:00:00</td>\n",
       "      <td>2025-01-15 00:00:00</td>\n",
       "      <td>2025-01-15 00:00:00</td>\n",
       "      <td>2025-01-15 00:00:00</td>\n",
       "      <td>2025-01-15 00:00:00</td>\n",
       "      <td>2025-01-15 00:00:00</td>\n",
       "      <td>NaN</td>\n",
       "      <td>1.0</td>\n",
       "      <td>1200.5000</td>\n",
       "      <td>...</td>\n",
       "      <td>1200.50</td>\n",
       "      <td>NaN</td>\n",
       "      <td>1.0</td>\n",
       "      <td>300.0</td>\n",
       "      <td>300.0</td>\n",
       "      <td>300.0</td>\n",
       "      <td>300.0</td>\n",
       "      <td>300.0</td>\n",
       "      <td>300.0</td>\n",
       "      <td>NaN</td>\n",
       "    </tr>\n",
       "    <tr>\n",
       "      <th>Impresión</th>\n",
       "      <td>1</td>\n",
       "      <td>2025-07-22 00:00:00</td>\n",
       "      <td>2025-07-22 00:00:00</td>\n",
       "      <td>2025-07-22 00:00:00</td>\n",
       "      <td>2025-07-22 00:00:00</td>\n",
       "      <td>2025-07-22 00:00:00</td>\n",
       "      <td>2025-07-22 00:00:00</td>\n",
       "      <td>NaN</td>\n",
       "      <td>1.0</td>\n",
       "      <td>149.9900</td>\n",
       "      <td>...</td>\n",
       "      <td>149.99</td>\n",
       "      <td>NaN</td>\n",
       "      <td>1.0</td>\n",
       "      <td>15.0</td>\n",
       "      <td>15.0</td>\n",
       "      <td>15.0</td>\n",
       "      <td>15.0</td>\n",
       "      <td>15.0</td>\n",
       "      <td>15.0</td>\n",
       "      <td>NaN</td>\n",
       "    </tr>\n",
       "    <tr>\n",
       "      <th>Móviles</th>\n",
       "      <td>2</td>\n",
       "      <td>2025-03-01 00:00:00</td>\n",
       "      <td>2025-02-20 00:00:00</td>\n",
       "      <td>2025-02-24 12:00:00</td>\n",
       "      <td>2025-03-01 00:00:00</td>\n",
       "      <td>2025-03-05 12:00:00</td>\n",
       "      <td>2025-03-10 00:00:00</td>\n",
       "      <td>NaN</td>\n",
       "      <td>2.0</td>\n",
       "      <td>624.9900</td>\n",
       "      <td>...</td>\n",
       "      <td>899.99</td>\n",
       "      <td>388.908730</td>\n",
       "      <td>2.0</td>\n",
       "      <td>60.0</td>\n",
       "      <td>20.0</td>\n",
       "      <td>40.0</td>\n",
       "      <td>60.0</td>\n",
       "      <td>80.0</td>\n",
       "      <td>100.0</td>\n",
       "      <td>56.568542</td>\n",
       "    </tr>\n",
       "  </tbody>\n",
       "</table></div>"
      ],
      "text/plain": [
       "             Fecha                                            \\\n",
       "             count                 mean                  min   \n",
       "Categoria                                                      \n",
       "Accesorios       4  2025-06-08 12:00:00  2025-04-05 00:00:00   \n",
       "Computadores     1  2025-01-15 00:00:00  2025-01-15 00:00:00   \n",
       "Impresión        1  2025-07-22 00:00:00  2025-07-22 00:00:00   \n",
       "Móviles          2  2025-03-01 00:00:00  2025-02-20 00:00:00   \n",
       "\n",
       "                                                                             \\\n",
       "                              25%                  50%                  75%   \n",
       "Categoria                                                                     \n",
       "Accesorios    2025-05-02 18:00:00  2025-05-30 12:00:00  2025-07-06 06:00:00   \n",
       "Computadores  2025-01-15 00:00:00  2025-01-15 00:00:00  2025-01-15 00:00:00   \n",
       "Impresión     2025-07-22 00:00:00  2025-07-22 00:00:00  2025-07-22 00:00:00   \n",
       "Móviles       2025-02-24 12:00:00  2025-03-01 00:00:00  2025-03-05 12:00:00   \n",
       "\n",
       "                                       Valor             ...           \\\n",
       "                              max  std count       mean  ...      max   \n",
       "Categoria                                                ...            \n",
       "Accesorios    2025-08-30 00:00:00  NaN   4.0   108.8675  ...   249.99   \n",
       "Computadores  2025-01-15 00:00:00  NaN   1.0  1200.5000  ...  1200.50   \n",
       "Impresión     2025-07-22 00:00:00  NaN   1.0   149.9900  ...   149.99   \n",
       "Móviles       2025-03-10 00:00:00  NaN   2.0   624.9900  ...   899.99   \n",
       "\n",
       "                         Utilidad                                            \\\n",
       "                     std    count   mean    min    25%    50%    75%    max   \n",
       "Categoria                                                                     \n",
       "Accesorios     98.882961      4.0   12.5    5.0    5.0    7.5   15.0   30.0   \n",
       "Computadores         NaN      1.0  300.0  300.0  300.0  300.0  300.0  300.0   \n",
       "Impresión            NaN      1.0   15.0   15.0   15.0   15.0   15.0   15.0   \n",
       "Móviles       388.908730      2.0   60.0   20.0   40.0   60.0   80.0  100.0   \n",
       "\n",
       "                         \n",
       "                    std  \n",
       "Categoria                \n",
       "Accesorios    11.902381  \n",
       "Computadores        NaN  \n",
       "Impresión           NaN  \n",
       "Móviles       56.568542  \n",
       "\n",
       "[4 rows x 24 columns]"
      ]
     },
     "execution_count": 93,
     "metadata": {},
     "output_type": "execute_result"
    }
   ],
   "source": [
    "# Agrupar por categoría y obtener un resumen completo:\n",
    "dfCategorias.groupby('Categoria').describe()"
   ]
  },
  {
   "cell_type": "code",
   "execution_count": 94,
   "metadata": {},
   "outputs": [
    {
     "data": {
      "text/plain": [
       "Categoria\n",
       "Accesorios       108.8675\n",
       "Computadores    1200.5000\n",
       "Impresión        149.9900\n",
       "Móviles          624.9900\n",
       "Name: Valor, dtype: float64"
      ]
     },
     "execution_count": 94,
     "metadata": {},
     "output_type": "execute_result"
    }
   ],
   "source": [
    "dfCategorias.groupby('Categoria')['Valor'].mean()  # Agrupar y calcular media"
   ]
  },
  {
   "cell_type": "code",
   "execution_count": 96,
   "metadata": {},
   "outputs": [
    {
     "data": {
      "text/html": [
       "<div><div id=b379f545-431e-4b25-95c1-3689bc6eb5dd style=\"display:none; background-color:#9D6CFF; color:white; width:200px; height:30px; padding-left:5px; border-radius:4px; flex-direction:row; justify-content:space-around; align-items:center;\" onmouseover=\"this.style.backgroundColor='#BA9BF8'\" onmouseout=\"this.style.backgroundColor='#9D6CFF'\" onclick=\"window.commands?.execute('create-mitosheet-from-dataframe-output');\">See Full Dataframe in Mito</div> <script> if (window.commands?.hasCommand('create-mitosheet-from-dataframe-output')) document.getElementById('b379f545-431e-4b25-95c1-3689bc6eb5dd').style.display = 'flex' </script> <table border=\"1\" class=\"dataframe\">\n",
       "  <thead>\n",
       "    <tr style=\"text-align: right;\">\n",
       "      <th></th>\n",
       "      <th>Categoria</th>\n",
       "      <th>Valor</th>\n",
       "    </tr>\n",
       "  </thead>\n",
       "  <tbody>\n",
       "    <tr>\n",
       "      <th>0</th>\n",
       "      <td>Accesorios</td>\n",
       "      <td>108.8675</td>\n",
       "    </tr>\n",
       "    <tr>\n",
       "      <th>1</th>\n",
       "      <td>Computadores</td>\n",
       "      <td>1200.5000</td>\n",
       "    </tr>\n",
       "    <tr>\n",
       "      <th>2</th>\n",
       "      <td>Impresión</td>\n",
       "      <td>149.9900</td>\n",
       "    </tr>\n",
       "    <tr>\n",
       "      <th>3</th>\n",
       "      <td>Móviles</td>\n",
       "      <td>624.9900</td>\n",
       "    </tr>\n",
       "  </tbody>\n",
       "</table></div>"
      ],
      "text/plain": [
       "      Categoria      Valor\n",
       "0    Accesorios   108.8675\n",
       "1  Computadores  1200.5000\n",
       "2     Impresión   149.9900\n",
       "3       Móviles   624.9900"
      ]
     },
     "execution_count": 96,
     "metadata": {},
     "output_type": "execute_result"
    }
   ],
   "source": [
    "dfGrupo=dfCategorias.groupby('Categoria')['Valor'].mean().reset_index()  # Agrupar y calcular media resetea índice para obtener un dataframe\n",
    "dfGrupo"
   ]
  },
  {
   "cell_type": "code",
   "execution_count": 97,
   "metadata": {},
   "outputs": [
    {
     "name": "stdout",
     "output_type": "stream",
     "text": [
      "Categoria     Producto   \n",
      "Accesorios    Auriculares      99.99\n",
      "              Monitor         249.99\n",
      "              Ratón            25.50\n",
      "              Teclado          59.99\n",
      "Computadores  Laptop         1200.50\n",
      "Impresión     Impresora       149.99\n",
      "Móviles       Tablet          349.99\n",
      "              Teléfono        899.99\n",
      "Name: Valor, dtype: float64\n",
      "      Categoria     Producto    Valor\n",
      "0    Accesorios  Auriculares    99.99\n",
      "1    Accesorios      Monitor   249.99\n",
      "2    Accesorios        Ratón    25.50\n",
      "3    Accesorios      Teclado    59.99\n",
      "4  Computadores       Laptop  1200.50\n",
      "5     Impresión    Impresora   149.99\n",
      "6       Móviles       Tablet   349.99\n",
      "7       Móviles     Teléfono   899.99\n"
     ]
    }
   ],
   "source": [
    "max_por_categoria_producto = dfCategorias.groupby(['Categoria', 'Producto'])['Valor'].max()\n",
    "print(max_por_categoria_producto)\n",
    "max_por_categoria_producto = dfCategorias.groupby(['Categoria', 'Producto'])['Valor'].max().reset_index()\n",
    "print(max_por_categoria_producto)"
   ]
  },
  {
   "cell_type": "code",
   "execution_count": 98,
   "metadata": {},
   "outputs": [
    {
     "data": {
      "text/html": [
       "<div><div id=9b80fe0c-a178-4142-9e07-edc422e09dcc style=\"display:none; background-color:#9D6CFF; color:white; width:200px; height:30px; padding-left:5px; border-radius:4px; flex-direction:row; justify-content:space-around; align-items:center;\" onmouseover=\"this.style.backgroundColor='#BA9BF8'\" onmouseout=\"this.style.backgroundColor='#9D6CFF'\" onclick=\"window.commands?.execute('create-mitosheet-from-dataframe-output');\">See Full Dataframe in Mito</div> <script> if (window.commands?.hasCommand('create-mitosheet-from-dataframe-output')) document.getElementById('9b80fe0c-a178-4142-9e07-edc422e09dcc').style.display = 'flex' </script> <table border=\"1\" class=\"dataframe\">\n",
       "  <thead>\n",
       "    <tr>\n",
       "      <th></th>\n",
       "      <th colspan=\"2\" halign=\"left\">Valor</th>\n",
       "      <th>Utilidad</th>\n",
       "    </tr>\n",
       "    <tr>\n",
       "      <th></th>\n",
       "      <th>mean</th>\n",
       "      <th>max</th>\n",
       "      <th>sum</th>\n",
       "    </tr>\n",
       "    <tr>\n",
       "      <th>Categoria</th>\n",
       "      <th></th>\n",
       "      <th></th>\n",
       "      <th></th>\n",
       "    </tr>\n",
       "  </thead>\n",
       "  <tbody>\n",
       "    <tr>\n",
       "      <th>Accesorios</th>\n",
       "      <td>108.8675</td>\n",
       "      <td>249.99</td>\n",
       "      <td>50</td>\n",
       "    </tr>\n",
       "    <tr>\n",
       "      <th>Computadores</th>\n",
       "      <td>1200.5000</td>\n",
       "      <td>1200.50</td>\n",
       "      <td>300</td>\n",
       "    </tr>\n",
       "    <tr>\n",
       "      <th>Impresión</th>\n",
       "      <td>149.9900</td>\n",
       "      <td>149.99</td>\n",
       "      <td>15</td>\n",
       "    </tr>\n",
       "    <tr>\n",
       "      <th>Móviles</th>\n",
       "      <td>624.9900</td>\n",
       "      <td>899.99</td>\n",
       "      <td>120</td>\n",
       "    </tr>\n",
       "  </tbody>\n",
       "</table></div>"
      ],
      "text/plain": [
       "                  Valor          Utilidad\n",
       "                   mean      max      sum\n",
       "Categoria                                \n",
       "Accesorios     108.8675   249.99       50\n",
       "Computadores  1200.5000  1200.50      300\n",
       "Impresión      149.9900   149.99       15\n",
       "Móviles        624.9900   899.99      120"
      ]
     },
     "execution_count": 98,
     "metadata": {},
     "output_type": "execute_result"
    }
   ],
   "source": [
    "dfCategorias.groupby('Categoria').agg({'Valor': ['mean', 'max'], 'Utilidad': 'sum'})  # Agregaciones múltiples"
   ]
  },
  {
   "cell_type": "code",
   "execution_count": 100,
   "metadata": {
    "scrolled": true
   },
   "outputs": [
    {
     "data": {
      "text/html": [
       "<div><div id=9e44849f-e4c3-4393-8080-38a84cc3e7e8 style=\"display:none; background-color:#9D6CFF; color:white; width:200px; height:30px; padding-left:5px; border-radius:4px; flex-direction:row; justify-content:space-around; align-items:center;\" onmouseover=\"this.style.backgroundColor='#BA9BF8'\" onmouseout=\"this.style.backgroundColor='#9D6CFF'\" onclick=\"window.commands?.execute('create-mitosheet-from-dataframe-output');\">See Full Dataframe in Mito</div> <script> if (window.commands?.hasCommand('create-mitosheet-from-dataframe-output')) document.getElementById('9e44849f-e4c3-4393-8080-38a84cc3e7e8').style.display = 'flex' </script> <table border=\"1\" class=\"dataframe\">\n",
       "  <thead>\n",
       "    <tr>\n",
       "      <th></th>\n",
       "      <th>Categoria</th>\n",
       "      <th colspan=\"2\" halign=\"left\">Valor</th>\n",
       "      <th>Utilidad</th>\n",
       "    </tr>\n",
       "    <tr>\n",
       "      <th></th>\n",
       "      <th></th>\n",
       "      <th>mean</th>\n",
       "      <th>max</th>\n",
       "      <th>sum</th>\n",
       "    </tr>\n",
       "  </thead>\n",
       "  <tbody>\n",
       "    <tr>\n",
       "      <th>0</th>\n",
       "      <td>Accesorios</td>\n",
       "      <td>108.8675</td>\n",
       "      <td>249.99</td>\n",
       "      <td>50</td>\n",
       "    </tr>\n",
       "    <tr>\n",
       "      <th>1</th>\n",
       "      <td>Computadores</td>\n",
       "      <td>1200.5000</td>\n",
       "      <td>1200.50</td>\n",
       "      <td>300</td>\n",
       "    </tr>\n",
       "    <tr>\n",
       "      <th>2</th>\n",
       "      <td>Impresión</td>\n",
       "      <td>149.9900</td>\n",
       "      <td>149.99</td>\n",
       "      <td>15</td>\n",
       "    </tr>\n",
       "    <tr>\n",
       "      <th>3</th>\n",
       "      <td>Móviles</td>\n",
       "      <td>624.9900</td>\n",
       "      <td>899.99</td>\n",
       "      <td>120</td>\n",
       "    </tr>\n",
       "  </tbody>\n",
       "</table></div>"
      ],
      "text/plain": [
       "      Categoria      Valor          Utilidad\n",
       "                      mean      max      sum\n",
       "0    Accesorios   108.8675   249.99       50\n",
       "1  Computadores  1200.5000  1200.50      300\n",
       "2     Impresión   149.9900   149.99       15\n",
       "3       Móviles   624.9900   899.99      120"
      ]
     },
     "execution_count": 100,
     "metadata": {},
     "output_type": "execute_result"
    }
   ],
   "source": [
    "dfCategorias.groupby('Categoria').agg({'Valor': ['mean', 'max'], 'Utilidad': 'sum'}).reset_index()  # Agregaciones múltiples personalizadas"
   ]
  },
  {
   "cell_type": "code",
   "execution_count": 103,
   "metadata": {},
   "outputs": [
    {
     "name": "stdout",
     "output_type": "stream",
     "text": [
      "               minimo   maximo  cant_productos   rango\n",
      "Categoria                                             \n",
      "Accesorios      25.50   249.99               4  224.49\n",
      "Computadores  1200.50  1200.50               1    0.00\n",
      "Impresión      149.99   149.99               1    0.00\n",
      "Móviles        349.99   899.99               2  550.00\n"
     ]
    }
   ],
   "source": [
    "#Agrupar por categoría y calcular el mínimo, máximo y rango con nombres personalizados\n",
    "agrupacion_rango = dfCategorias.groupby('Categoria')['Valor'].agg(\n",
    "    minimo='min',\n",
    "    maximo='max',\n",
    "    cant_productos = 'count',\n",
    "    rango=lambda x: x.max() - x.min()\n",
    ").rename(columns={'<lambda>': 'rango'})\n",
    "print(agrupacion_rango)"
   ]
  },
  {
   "cell_type": "code",
   "execution_count": 105,
   "metadata": {},
   "outputs": [
    {
     "name": "stdout",
     "output_type": "stream",
     "text": [
      "      Categoria  promedio_valor  total_valor  cantidad_productos\n",
      "0    Accesorios        108.8675       435.47                   4\n",
      "1  Computadores       1200.5000      1200.50                   1\n",
      "2     Impresión        149.9900       149.99                   1\n",
      "3       Móviles        624.9900      1249.98                   2\n"
     ]
    }
   ],
   "source": [
    "# Agrupar por categoría y aplicar múltiples funciones con nombres personalizados:\n",
    "agrupacion_multiple = dfCategorias.groupby('Categoria').agg(\n",
    "    promedio_valor=('Valor', 'mean'),\n",
    "    total_valor=('Valor', 'sum'),\n",
    "    cantidad_productos=('Producto', 'count')\n",
    ").reset_index()\n",
    "print(agrupacion_multiple)"
   ]
  },
  {
   "cell_type": "code",
   "execution_count": 106,
   "metadata": {},
   "outputs": [
    {
     "name": "stdout",
     "output_type": "stream",
     "text": [
      "Categoria\n",
      "Accesorios      224.49\n",
      "Computadores      0.00\n",
      "Impresión         0.00\n",
      "Móviles         550.00\n",
      "Name: Valor, dtype: float64\n"
     ]
    }
   ],
   "source": [
    "# Agrupación con una fórmula personalizada\n",
    "def rango(valores):\n",
    "    return valores.max() - valores.min()\n",
    "\n",
    "rango_por_categoria = dfCategorias.groupby('Categoria')['Valor'].agg(rango)\n",
    "print(rango_por_categoria)"
   ]
  },
  {
   "cell_type": "code",
   "execution_count": 107,
   "metadata": {},
   "outputs": [
    {
     "data": {
      "text/html": [
       "<div><div id=df5f6cd8-ee4f-4aca-9756-172cb492fb1a style=\"display:none; background-color:#9D6CFF; color:white; width:200px; height:30px; padding-left:5px; border-radius:4px; flex-direction:row; justify-content:space-around; align-items:center;\" onmouseover=\"this.style.backgroundColor='#BA9BF8'\" onmouseout=\"this.style.backgroundColor='#9D6CFF'\" onclick=\"window.commands?.execute('create-mitosheet-from-dataframe-output');\">See Full Dataframe in Mito</div> <script> if (window.commands?.hasCommand('create-mitosheet-from-dataframe-output')) document.getElementById('df5f6cd8-ee4f-4aca-9756-172cb492fb1a').style.display = 'flex' </script> <table border=\"1\" class=\"dataframe\">\n",
       "  <thead>\n",
       "    <tr style=\"text-align: right;\">\n",
       "      <th></th>\n",
       "      <th>Categoria</th>\n",
       "      <th>Producto</th>\n",
       "      <th>Fecha</th>\n",
       "      <th>Valor</th>\n",
       "      <th>Utilidad</th>\n",
       "    </tr>\n",
       "  </thead>\n",
       "  <tbody>\n",
       "    <tr>\n",
       "      <th>0</th>\n",
       "      <td>Computadores</td>\n",
       "      <td>Laptop</td>\n",
       "      <td>2025-01-15</td>\n",
       "      <td>1200.50</td>\n",
       "      <td>300</td>\n",
       "    </tr>\n",
       "    <tr>\n",
       "      <th>1</th>\n",
       "      <td>Móviles</td>\n",
       "      <td>Teléfono</td>\n",
       "      <td>2025-02-20</td>\n",
       "      <td>899.99</td>\n",
       "      <td>100</td>\n",
       "    </tr>\n",
       "    <tr>\n",
       "      <th>2</th>\n",
       "      <td>Móviles</td>\n",
       "      <td>Tablet</td>\n",
       "      <td>2025-03-10</td>\n",
       "      <td>349.99</td>\n",
       "      <td>20</td>\n",
       "    </tr>\n",
       "    <tr>\n",
       "      <th>3</th>\n",
       "      <td>Accesorios</td>\n",
       "      <td>Monitor</td>\n",
       "      <td>2025-04-05</td>\n",
       "      <td>249.99</td>\n",
       "      <td>30</td>\n",
       "    </tr>\n",
       "    <tr>\n",
       "      <th>4</th>\n",
       "      <td>Accesorios</td>\n",
       "      <td>Teclado</td>\n",
       "      <td>2025-05-12</td>\n",
       "      <td>59.99</td>\n",
       "      <td>5</td>\n",
       "    </tr>\n",
       "    <tr>\n",
       "      <th>5</th>\n",
       "      <td>Accesorios</td>\n",
       "      <td>Ratón</td>\n",
       "      <td>2025-06-18</td>\n",
       "      <td>25.50</td>\n",
       "      <td>5</td>\n",
       "    </tr>\n",
       "    <tr>\n",
       "      <th>6</th>\n",
       "      <td>Impresión</td>\n",
       "      <td>Impresora</td>\n",
       "      <td>2025-07-22</td>\n",
       "      <td>149.99</td>\n",
       "      <td>15</td>\n",
       "    </tr>\n",
       "    <tr>\n",
       "      <th>7</th>\n",
       "      <td>Accesorios</td>\n",
       "      <td>Auriculares</td>\n",
       "      <td>2025-08-30</td>\n",
       "      <td>99.99</td>\n",
       "      <td>10</td>\n",
       "    </tr>\n",
       "  </tbody>\n",
       "</table></div>"
      ],
      "text/plain": [
       "      Categoria     Producto      Fecha    Valor  Utilidad\n",
       "0  Computadores       Laptop 2025-01-15  1200.50       300\n",
       "1       Móviles     Teléfono 2025-02-20   899.99       100\n",
       "2       Móviles       Tablet 2025-03-10   349.99        20\n",
       "3    Accesorios      Monitor 2025-04-05   249.99        30\n",
       "4    Accesorios      Teclado 2025-05-12    59.99         5\n",
       "5    Accesorios        Ratón 2025-06-18    25.50         5\n",
       "6     Impresión    Impresora 2025-07-22   149.99        15\n",
       "7    Accesorios  Auriculares 2025-08-30    99.99        10"
      ]
     },
     "execution_count": 107,
     "metadata": {},
     "output_type": "execute_result"
    }
   ],
   "source": [
    "dfCategorias"
   ]
  },
  {
   "cell_type": "markdown",
   "metadata": {},
   "source": [
    "**Transformar datos con funciones**"
   ]
  },
  {
   "cell_type": "code",
   "execution_count": 110,
   "metadata": {},
   "outputs": [
    {
     "data": {
      "text/plain": [
       "0    600\n",
       "1    200\n",
       "2     40\n",
       "3     60\n",
       "4     10\n",
       "5     10\n",
       "6     30\n",
       "7     20\n",
       "Name: Utilidad, dtype: int64"
      ]
     },
     "execution_count": 110,
     "metadata": {},
     "output_type": "execute_result"
    }
   ],
   "source": [
    "dfCategorias['Utilidad'].apply(lambda x: x * 2)  # Aplicar función a columna"
   ]
  },
  {
   "cell_type": "code",
   "execution_count": 111,
   "metadata": {
    "scrolled": true
   },
   "outputs": [
    {
     "name": "stdout",
     "output_type": "stream",
     "text": [
      "      Categoria     Producto      Fecha    Valor  Utilidad  porc_utilidad\n",
      "0  Computadores       Laptop 2025-01-15  1200.50       300       0.249896\n",
      "1       Móviles     Teléfono 2025-02-20   899.99       100       0.111112\n",
      "2       Móviles       Tablet 2025-03-10   349.99        20       0.057144\n",
      "3    Accesorios      Monitor 2025-04-05   249.99        30       0.120005\n",
      "4    Accesorios      Teclado 2025-05-12    59.99         5       0.083347\n",
      "5    Accesorios        Ratón 2025-06-18    25.50         5       0.196078\n",
      "6     Impresión    Impresora 2025-07-22   149.99        15       0.100007\n",
      "7    Accesorios  Auriculares 2025-08-30    99.99        10       0.100010\n"
     ]
    }
   ],
   "source": [
    "# Aplicar función a registro con varias columnas\n",
    "def calculaPorcUtilidad(x):\n",
    "    resultado = x[\"Utilidad\"]/x.Valor\n",
    "    return resultado\n",
    "    \n",
    "dfCategorias['porc_utilidad']=dfCategorias.apply(calculaPorcUtilidad,axis=1)  \n",
    "print(dfCategorias)"
   ]
  },
  {
   "cell_type": "code",
   "execution_count": 112,
   "metadata": {},
   "outputs": [
    {
     "data": {
      "text/html": [
       "<div><div id=56ad3411-a205-4252-b84c-8c10a2f8892f style=\"display:none; background-color:#9D6CFF; color:white; width:200px; height:30px; padding-left:5px; border-radius:4px; flex-direction:row; justify-content:space-around; align-items:center;\" onmouseover=\"this.style.backgroundColor='#BA9BF8'\" onmouseout=\"this.style.backgroundColor='#9D6CFF'\" onclick=\"window.commands?.execute('create-mitosheet-from-dataframe-output');\">See Full Dataframe in Mito</div> <script> if (window.commands?.hasCommand('create-mitosheet-from-dataframe-output')) document.getElementById('56ad3411-a205-4252-b84c-8c10a2f8892f').style.display = 'flex' </script> <table border=\"1\" class=\"dataframe\">\n",
       "  <thead>\n",
       "    <tr style=\"text-align: right;\">\n",
       "      <th></th>\n",
       "      <th>Categoria</th>\n",
       "      <th>Producto</th>\n",
       "      <th>Fecha</th>\n",
       "      <th>Valor</th>\n",
       "      <th>Utilidad</th>\n",
       "      <th>porc_utilidad</th>\n",
       "      <th>ClaseUtilidad</th>\n",
       "    </tr>\n",
       "  </thead>\n",
       "  <tbody>\n",
       "    <tr>\n",
       "      <th>0</th>\n",
       "      <td>Computadores</td>\n",
       "      <td>Laptop</td>\n",
       "      <td>2025-01-15</td>\n",
       "      <td>1200.50</td>\n",
       "      <td>300</td>\n",
       "      <td>0.249896</td>\n",
       "      <td>Utilidad Alta</td>\n",
       "    </tr>\n",
       "    <tr>\n",
       "      <th>1</th>\n",
       "      <td>Móviles</td>\n",
       "      <td>Teléfono</td>\n",
       "      <td>2025-02-20</td>\n",
       "      <td>899.99</td>\n",
       "      <td>100</td>\n",
       "      <td>0.111112</td>\n",
       "      <td>Utilidad baja</td>\n",
       "    </tr>\n",
       "    <tr>\n",
       "      <th>2</th>\n",
       "      <td>Móviles</td>\n",
       "      <td>Tablet</td>\n",
       "      <td>2025-03-10</td>\n",
       "      <td>349.99</td>\n",
       "      <td>20</td>\n",
       "      <td>0.057144</td>\n",
       "      <td>Utilidad baja</td>\n",
       "    </tr>\n",
       "    <tr>\n",
       "      <th>3</th>\n",
       "      <td>Accesorios</td>\n",
       "      <td>Monitor</td>\n",
       "      <td>2025-04-05</td>\n",
       "      <td>249.99</td>\n",
       "      <td>30</td>\n",
       "      <td>0.120005</td>\n",
       "      <td>Utilidad baja</td>\n",
       "    </tr>\n",
       "    <tr>\n",
       "      <th>4</th>\n",
       "      <td>Accesorios</td>\n",
       "      <td>Teclado</td>\n",
       "      <td>2025-05-12</td>\n",
       "      <td>59.99</td>\n",
       "      <td>5</td>\n",
       "      <td>0.083347</td>\n",
       "      <td>Utilidad baja</td>\n",
       "    </tr>\n",
       "    <tr>\n",
       "      <th>5</th>\n",
       "      <td>Accesorios</td>\n",
       "      <td>Ratón</td>\n",
       "      <td>2025-06-18</td>\n",
       "      <td>25.50</td>\n",
       "      <td>5</td>\n",
       "      <td>0.196078</td>\n",
       "      <td>Utilidad Alta</td>\n",
       "    </tr>\n",
       "    <tr>\n",
       "      <th>6</th>\n",
       "      <td>Impresión</td>\n",
       "      <td>Impresora</td>\n",
       "      <td>2025-07-22</td>\n",
       "      <td>149.99</td>\n",
       "      <td>15</td>\n",
       "      <td>0.100007</td>\n",
       "      <td>Utilidad baja</td>\n",
       "    </tr>\n",
       "    <tr>\n",
       "      <th>7</th>\n",
       "      <td>Accesorios</td>\n",
       "      <td>Auriculares</td>\n",
       "      <td>2025-08-30</td>\n",
       "      <td>99.99</td>\n",
       "      <td>10</td>\n",
       "      <td>0.100010</td>\n",
       "      <td>Utilidad baja</td>\n",
       "    </tr>\n",
       "  </tbody>\n",
       "</table></div>"
      ],
      "text/plain": [
       "      Categoria     Producto      Fecha    Valor  Utilidad  porc_utilidad  \\\n",
       "0  Computadores       Laptop 2025-01-15  1200.50       300       0.249896   \n",
       "1       Móviles     Teléfono 2025-02-20   899.99       100       0.111112   \n",
       "2       Móviles       Tablet 2025-03-10   349.99        20       0.057144   \n",
       "3    Accesorios      Monitor 2025-04-05   249.99        30       0.120005   \n",
       "4    Accesorios      Teclado 2025-05-12    59.99         5       0.083347   \n",
       "5    Accesorios        Ratón 2025-06-18    25.50         5       0.196078   \n",
       "6     Impresión    Impresora 2025-07-22   149.99        15       0.100007   \n",
       "7    Accesorios  Auriculares 2025-08-30    99.99        10       0.100010   \n",
       "\n",
       "   ClaseUtilidad  \n",
       "0  Utilidad Alta  \n",
       "1  Utilidad baja  \n",
       "2  Utilidad baja  \n",
       "3  Utilidad baja  \n",
       "4  Utilidad baja  \n",
       "5  Utilidad Alta  \n",
       "6  Utilidad baja  \n",
       "7  Utilidad baja  "
      ]
     },
     "execution_count": 112,
     "metadata": {},
     "output_type": "execute_result"
    }
   ],
   "source": [
    "# Aplicar función a registro con varias columnas\n",
    "def clasifica_por_Utilidad(x):\n",
    "    if x[\"porc_utilidad\"]<=0.15:\n",
    "        resultado= \"Utilidad baja\"\n",
    "    else:\n",
    "        resultado= \"Utilidad Alta\"    \n",
    "    return resultado\n",
    "dfCategorias['ClaseUtilidad']=dfCategorias.apply(clasifica_por_Utilidad,axis=1)  \n",
    "dfCategorias"
   ]
  },
  {
   "cell_type": "markdown",
   "metadata": {},
   "source": [
    "**Pivot con datos**"
   ]
  },
  {
   "cell_type": "code",
   "execution_count": 113,
   "metadata": {
    "scrolled": true
   },
   "outputs": [
    {
     "data": {
      "text/html": [
       "<div><div id=ab19d95d-ec35-4c31-aaca-a3e0ef833b6d style=\"display:none; background-color:#9D6CFF; color:white; width:200px; height:30px; padding-left:5px; border-radius:4px; flex-direction:row; justify-content:space-around; align-items:center;\" onmouseover=\"this.style.backgroundColor='#BA9BF8'\" onmouseout=\"this.style.backgroundColor='#9D6CFF'\" onclick=\"window.commands?.execute('create-mitosheet-from-dataframe-output');\">See Full Dataframe in Mito</div> <script> if (window.commands?.hasCommand('create-mitosheet-from-dataframe-output')) document.getElementById('ab19d95d-ec35-4c31-aaca-a3e0ef833b6d').style.display = 'flex' </script> <table border=\"1\" class=\"dataframe\">\n",
       "  <thead>\n",
       "    <tr style=\"text-align: right;\">\n",
       "      <th>ClaseUtilidad</th>\n",
       "      <th>Utilidad Alta</th>\n",
       "      <th>Utilidad baja</th>\n",
       "    </tr>\n",
       "    <tr>\n",
       "      <th>Categoria</th>\n",
       "      <th></th>\n",
       "      <th></th>\n",
       "    </tr>\n",
       "  </thead>\n",
       "  <tbody>\n",
       "    <tr>\n",
       "      <th>Accesorios</th>\n",
       "      <td>1.0</td>\n",
       "      <td>3.0</td>\n",
       "    </tr>\n",
       "    <tr>\n",
       "      <th>Computadores</th>\n",
       "      <td>1.0</td>\n",
       "      <td>NaN</td>\n",
       "    </tr>\n",
       "    <tr>\n",
       "      <th>Impresión</th>\n",
       "      <td>NaN</td>\n",
       "      <td>1.0</td>\n",
       "    </tr>\n",
       "    <tr>\n",
       "      <th>Móviles</th>\n",
       "      <td>NaN</td>\n",
       "      <td>2.0</td>\n",
       "    </tr>\n",
       "  </tbody>\n",
       "</table></div>"
      ],
      "text/plain": [
       "ClaseUtilidad  Utilidad Alta  Utilidad baja\n",
       "Categoria                                  \n",
       "Accesorios               1.0            3.0\n",
       "Computadores             1.0            NaN\n",
       "Impresión                NaN            1.0\n",
       "Móviles                  NaN            2.0"
      ]
     },
     "execution_count": 113,
     "metadata": {},
     "output_type": "execute_result"
    }
   ],
   "source": [
    "dfCategorias.pivot_table(values=\"Producto\",index=\"Categoria\",columns=\"ClaseUtilidad\",aggfunc =\"count\") # Sin resetear índice"
   ]
  },
  {
   "cell_type": "code",
   "execution_count": 114,
   "metadata": {},
   "outputs": [
    {
     "data": {
      "text/html": [
       "<div><div id=7d42b529-85fe-4885-a3c9-c9ee47e61364 style=\"display:none; background-color:#9D6CFF; color:white; width:200px; height:30px; padding-left:5px; border-radius:4px; flex-direction:row; justify-content:space-around; align-items:center;\" onmouseover=\"this.style.backgroundColor='#BA9BF8'\" onmouseout=\"this.style.backgroundColor='#9D6CFF'\" onclick=\"window.commands?.execute('create-mitosheet-from-dataframe-output');\">See Full Dataframe in Mito</div> <script> if (window.commands?.hasCommand('create-mitosheet-from-dataframe-output')) document.getElementById('7d42b529-85fe-4885-a3c9-c9ee47e61364').style.display = 'flex' </script> <table border=\"1\" class=\"dataframe\">\n",
       "  <thead>\n",
       "    <tr style=\"text-align: right;\">\n",
       "      <th>ClaseUtilidad</th>\n",
       "      <th>Categoria</th>\n",
       "      <th>Utilidad Alta</th>\n",
       "      <th>Utilidad baja</th>\n",
       "    </tr>\n",
       "  </thead>\n",
       "  <tbody>\n",
       "    <tr>\n",
       "      <th>0</th>\n",
       "      <td>Accesorios</td>\n",
       "      <td>1.0</td>\n",
       "      <td>3.0</td>\n",
       "    </tr>\n",
       "    <tr>\n",
       "      <th>1</th>\n",
       "      <td>Computadores</td>\n",
       "      <td>1.0</td>\n",
       "      <td>NaN</td>\n",
       "    </tr>\n",
       "    <tr>\n",
       "      <th>2</th>\n",
       "      <td>Impresión</td>\n",
       "      <td>NaN</td>\n",
       "      <td>1.0</td>\n",
       "    </tr>\n",
       "    <tr>\n",
       "      <th>3</th>\n",
       "      <td>Móviles</td>\n",
       "      <td>NaN</td>\n",
       "      <td>2.0</td>\n",
       "    </tr>\n",
       "  </tbody>\n",
       "</table></div>"
      ],
      "text/plain": [
       "ClaseUtilidad     Categoria  Utilidad Alta  Utilidad baja\n",
       "0                Accesorios            1.0            3.0\n",
       "1              Computadores            1.0            NaN\n",
       "2                 Impresión            NaN            1.0\n",
       "3                   Móviles            NaN            2.0"
      ]
     },
     "execution_count": 114,
     "metadata": {},
     "output_type": "execute_result"
    }
   ],
   "source": [
    "dfCategoriasPivot=dfCategorias.pivot_table(values=\"Producto\",index=\"Categoria\",columns=\"ClaseUtilidad\",aggfunc =\"count\").reset_index() # Resetando índice para lograr DataFrame\n",
    "dfCategoriasPivot"
   ]
  },
  {
   "cell_type": "markdown",
   "metadata": {},
   "source": [
    "**Unpivot con datos - Melt**"
   ]
  },
  {
   "cell_type": "code",
   "execution_count": 116,
   "metadata": {},
   "outputs": [
    {
     "data": {
      "text/html": [
       "<div><div id=53c04669-0aa7-481c-8905-c7088bd28744 style=\"display:none; background-color:#9D6CFF; color:white; width:200px; height:30px; padding-left:5px; border-radius:4px; flex-direction:row; justify-content:space-around; align-items:center;\" onmouseover=\"this.style.backgroundColor='#BA9BF8'\" onmouseout=\"this.style.backgroundColor='#9D6CFF'\" onclick=\"window.commands?.execute('create-mitosheet-from-dataframe-output');\">See Full Dataframe in Mito</div> <script> if (window.commands?.hasCommand('create-mitosheet-from-dataframe-output')) document.getElementById('53c04669-0aa7-481c-8905-c7088bd28744').style.display = 'flex' </script> <table border=\"1\" class=\"dataframe\">\n",
       "  <thead>\n",
       "    <tr style=\"text-align: right;\">\n",
       "      <th></th>\n",
       "      <th>Categoria</th>\n",
       "      <th>Clase Utilidad</th>\n",
       "      <th>Cantidad</th>\n",
       "    </tr>\n",
       "  </thead>\n",
       "  <tbody>\n",
       "    <tr>\n",
       "      <th>0</th>\n",
       "      <td>Accesorios</td>\n",
       "      <td>Utilidad Alta</td>\n",
       "      <td>1.0</td>\n",
       "    </tr>\n",
       "    <tr>\n",
       "      <th>1</th>\n",
       "      <td>Computadores</td>\n",
       "      <td>Utilidad Alta</td>\n",
       "      <td>1.0</td>\n",
       "    </tr>\n",
       "    <tr>\n",
       "      <th>2</th>\n",
       "      <td>Impresión</td>\n",
       "      <td>Utilidad Alta</td>\n",
       "      <td>NaN</td>\n",
       "    </tr>\n",
       "    <tr>\n",
       "      <th>3</th>\n",
       "      <td>Móviles</td>\n",
       "      <td>Utilidad Alta</td>\n",
       "      <td>NaN</td>\n",
       "    </tr>\n",
       "    <tr>\n",
       "      <th>4</th>\n",
       "      <td>Accesorios</td>\n",
       "      <td>Utilidad baja</td>\n",
       "      <td>3.0</td>\n",
       "    </tr>\n",
       "    <tr>\n",
       "      <th>5</th>\n",
       "      <td>Computadores</td>\n",
       "      <td>Utilidad baja</td>\n",
       "      <td>NaN</td>\n",
       "    </tr>\n",
       "    <tr>\n",
       "      <th>6</th>\n",
       "      <td>Impresión</td>\n",
       "      <td>Utilidad baja</td>\n",
       "      <td>1.0</td>\n",
       "    </tr>\n",
       "    <tr>\n",
       "      <th>7</th>\n",
       "      <td>Móviles</td>\n",
       "      <td>Utilidad baja</td>\n",
       "      <td>2.0</td>\n",
       "    </tr>\n",
       "  </tbody>\n",
       "</table></div>"
      ],
      "text/plain": [
       "      Categoria Clase Utilidad  Cantidad\n",
       "0    Accesorios  Utilidad Alta       1.0\n",
       "1  Computadores  Utilidad Alta       1.0\n",
       "2     Impresión  Utilidad Alta       NaN\n",
       "3       Móviles  Utilidad Alta       NaN\n",
       "4    Accesorios  Utilidad baja       3.0\n",
       "5  Computadores  Utilidad baja       NaN\n",
       "6     Impresión  Utilidad baja       1.0\n",
       "7       Móviles  Utilidad baja       2.0"
      ]
     },
     "execution_count": 116,
     "metadata": {},
     "output_type": "execute_result"
    }
   ],
   "source": [
    "dfCategoriasPivot.melt(id_vars=\"Categoria\",var_name=\"Clase Utilidad\",value_name=\"Cantidad\")"
   ]
  },
  {
   "cell_type": "markdown",
   "metadata": {},
   "source": [
    "Documentación: [Manipulación de datos](https://pandas.pydata.org/docs/user_guide/basics.html#basics-manipulation), [Aplicación de funciones](https://pandas.pydata.org/docs/user_guide/apply.html), [Agregación](https://pandas.pydata.org/docs/user_guide/groupby.html)."
   ]
  },
  {
   "cell_type": "markdown",
   "metadata": {},
   "source": [
    "### Combinación de DataFrames\n",
    "\n",
    "- **Merge (join)**: Combina DataFrames por una columna común.\n",
    "- **Concat**: Concatena DataFrames a lo largo de filas o columnas.\n",
    "\n",
    "Documentación: [Merge y concat](https://pandas.pydata.org/docs/user_guide/merging.html)."
   ]
  },
  {
   "cell_type": "code",
   "execution_count": 117,
   "metadata": {},
   "outputs": [],
   "source": [
    "df1 = pd.read_excel(\"./productos_ejemplo.xlsx\",sheet_name=\"Productos\")\n",
    "df2 = pd.read_excel(\"./productos_ejemplo.xlsx\",sheet_name=\"Paises\")\n",
    "df3 = pd.read_excel(\"./productos_ejemplo.xlsx\",sheet_name=\"Paises2\")"
   ]
  },
  {
   "cell_type": "markdown",
   "metadata": {},
   "source": [
    "**Inner join = Solo los productos que estén en ambos dataframes**"
   ]
  },
  {
   "cell_type": "code",
   "execution_count": 120,
   "metadata": {},
   "outputs": [
    {
     "data": {
      "text/html": [
       "<div><div id=ecaa4646-7176-424d-821b-6501348827e8 style=\"display:none; background-color:#9D6CFF; color:white; width:200px; height:30px; padding-left:5px; border-radius:4px; flex-direction:row; justify-content:space-around; align-items:center;\" onmouseover=\"this.style.backgroundColor='#BA9BF8'\" onmouseout=\"this.style.backgroundColor='#9D6CFF'\" onclick=\"window.commands?.execute('create-mitosheet-from-dataframe-output');\">See Full Dataframe in Mito</div> <script> if (window.commands?.hasCommand('create-mitosheet-from-dataframe-output')) document.getElementById('ecaa4646-7176-424d-821b-6501348827e8').style.display = 'flex' </script> <table border=\"1\" class=\"dataframe\">\n",
       "  <thead>\n",
       "    <tr style=\"text-align: right;\">\n",
       "      <th></th>\n",
       "      <th>Producto</th>\n",
       "      <th>Fecha</th>\n",
       "      <th>Valor</th>\n",
       "      <th>País</th>\n",
       "    </tr>\n",
       "  </thead>\n",
       "  <tbody>\n",
       "    <tr>\n",
       "      <th>0</th>\n",
       "      <td>Laptop</td>\n",
       "      <td>2025-01-15</td>\n",
       "      <td>1200.50</td>\n",
       "      <td>USA</td>\n",
       "    </tr>\n",
       "    <tr>\n",
       "      <th>1</th>\n",
       "      <td>Teléfono</td>\n",
       "      <td>2025-02-20</td>\n",
       "      <td>899.99</td>\n",
       "      <td>USA</td>\n",
       "    </tr>\n",
       "    <tr>\n",
       "      <th>2</th>\n",
       "      <td>Monitor</td>\n",
       "      <td>2025-04-05</td>\n",
       "      <td>249.99</td>\n",
       "      <td>Corea del sur</td>\n",
       "    </tr>\n",
       "    <tr>\n",
       "      <th>3</th>\n",
       "      <td>Ratón</td>\n",
       "      <td>2025-06-18</td>\n",
       "      <td>25.50</td>\n",
       "      <td>China</td>\n",
       "    </tr>\n",
       "    <tr>\n",
       "      <th>4</th>\n",
       "      <td>Impresora</td>\n",
       "      <td>2025-07-22</td>\n",
       "      <td>149.99</td>\n",
       "      <td>USA</td>\n",
       "    </tr>\n",
       "    <tr>\n",
       "      <th>5</th>\n",
       "      <td>Auriculares</td>\n",
       "      <td>2025-08-30</td>\n",
       "      <td>99.99</td>\n",
       "      <td>China</td>\n",
       "    </tr>\n",
       "  </tbody>\n",
       "</table></div>"
      ],
      "text/plain": [
       "      Producto      Fecha    Valor           País\n",
       "0       Laptop 2025-01-15  1200.50            USA\n",
       "1     Teléfono 2025-02-20   899.99            USA\n",
       "2      Monitor 2025-04-05   249.99  Corea del sur\n",
       "3        Ratón 2025-06-18    25.50          China\n",
       "4    Impresora 2025-07-22   149.99            USA\n",
       "5  Auriculares 2025-08-30    99.99          China"
      ]
     },
     "execution_count": 120,
     "metadata": {},
     "output_type": "execute_result"
    }
   ],
   "source": [
    "# Inner join\n",
    "pd.merge(df1, df2, on='Producto', how='inner')"
   ]
  },
  {
   "cell_type": "markdown",
   "metadata": {},
   "source": [
    "**Left join = Todos los productos de la tabla df1 y solo los que estén en df2**"
   ]
  },
  {
   "cell_type": "code",
   "execution_count": 121,
   "metadata": {
    "scrolled": true
   },
   "outputs": [
    {
     "data": {
      "text/html": [
       "<div><div id=fc70ff67-9df4-441d-aff2-95fc79769801 style=\"display:none; background-color:#9D6CFF; color:white; width:200px; height:30px; padding-left:5px; border-radius:4px; flex-direction:row; justify-content:space-around; align-items:center;\" onmouseover=\"this.style.backgroundColor='#BA9BF8'\" onmouseout=\"this.style.backgroundColor='#9D6CFF'\" onclick=\"window.commands?.execute('create-mitosheet-from-dataframe-output');\">See Full Dataframe in Mito</div> <script> if (window.commands?.hasCommand('create-mitosheet-from-dataframe-output')) document.getElementById('fc70ff67-9df4-441d-aff2-95fc79769801').style.display = 'flex' </script> <table border=\"1\" class=\"dataframe\">\n",
       "  <thead>\n",
       "    <tr style=\"text-align: right;\">\n",
       "      <th></th>\n",
       "      <th>Producto</th>\n",
       "      <th>Fecha</th>\n",
       "      <th>Valor</th>\n",
       "      <th>País</th>\n",
       "    </tr>\n",
       "  </thead>\n",
       "  <tbody>\n",
       "    <tr>\n",
       "      <th>0</th>\n",
       "      <td>Laptop</td>\n",
       "      <td>2025-01-15</td>\n",
       "      <td>1200.50</td>\n",
       "      <td>USA</td>\n",
       "    </tr>\n",
       "    <tr>\n",
       "      <th>1</th>\n",
       "      <td>Teléfono</td>\n",
       "      <td>2025-02-20</td>\n",
       "      <td>899.99</td>\n",
       "      <td>USA</td>\n",
       "    </tr>\n",
       "    <tr>\n",
       "      <th>2</th>\n",
       "      <td>Tablet</td>\n",
       "      <td>2025-03-10</td>\n",
       "      <td>349.99</td>\n",
       "      <td>NaN</td>\n",
       "    </tr>\n",
       "    <tr>\n",
       "      <th>3</th>\n",
       "      <td>Monitor</td>\n",
       "      <td>2025-04-05</td>\n",
       "      <td>249.99</td>\n",
       "      <td>Corea del sur</td>\n",
       "    </tr>\n",
       "    <tr>\n",
       "      <th>4</th>\n",
       "      <td>Teclado</td>\n",
       "      <td>2025-05-12</td>\n",
       "      <td>59.99</td>\n",
       "      <td>NaN</td>\n",
       "    </tr>\n",
       "    <tr>\n",
       "      <th>5</th>\n",
       "      <td>Ratón</td>\n",
       "      <td>2025-06-18</td>\n",
       "      <td>25.50</td>\n",
       "      <td>China</td>\n",
       "    </tr>\n",
       "    <tr>\n",
       "      <th>6</th>\n",
       "      <td>Impresora</td>\n",
       "      <td>2025-07-22</td>\n",
       "      <td>149.99</td>\n",
       "      <td>USA</td>\n",
       "    </tr>\n",
       "    <tr>\n",
       "      <th>7</th>\n",
       "      <td>Auriculares</td>\n",
       "      <td>2025-08-30</td>\n",
       "      <td>99.99</td>\n",
       "      <td>China</td>\n",
       "    </tr>\n",
       "  </tbody>\n",
       "</table></div>"
      ],
      "text/plain": [
       "      Producto      Fecha    Valor           País\n",
       "0       Laptop 2025-01-15  1200.50            USA\n",
       "1     Teléfono 2025-02-20   899.99            USA\n",
       "2       Tablet 2025-03-10   349.99            NaN\n",
       "3      Monitor 2025-04-05   249.99  Corea del sur\n",
       "4      Teclado 2025-05-12    59.99            NaN\n",
       "5        Ratón 2025-06-18    25.50          China\n",
       "6    Impresora 2025-07-22   149.99            USA\n",
       "7  Auriculares 2025-08-30    99.99          China"
      ]
     },
     "execution_count": 121,
     "metadata": {},
     "output_type": "execute_result"
    }
   ],
   "source": [
    "# left join\n",
    "pd.merge(df1, df2, on='Producto', how='left') "
   ]
  },
  {
   "cell_type": "markdown",
   "metadata": {},
   "source": [
    "**Right join = Todos los productos de la tabla df2 y solo los que estén en df1**"
   ]
  },
  {
   "cell_type": "code",
   "execution_count": 122,
   "metadata": {},
   "outputs": [
    {
     "data": {
      "text/html": [
       "<div><div id=2be526d9-94b8-4239-ae6e-e37ace277443 style=\"display:none; background-color:#9D6CFF; color:white; width:200px; height:30px; padding-left:5px; border-radius:4px; flex-direction:row; justify-content:space-around; align-items:center;\" onmouseover=\"this.style.backgroundColor='#BA9BF8'\" onmouseout=\"this.style.backgroundColor='#9D6CFF'\" onclick=\"window.commands?.execute('create-mitosheet-from-dataframe-output');\">See Full Dataframe in Mito</div> <script> if (window.commands?.hasCommand('create-mitosheet-from-dataframe-output')) document.getElementById('2be526d9-94b8-4239-ae6e-e37ace277443').style.display = 'flex' </script> <table border=\"1\" class=\"dataframe\">\n",
       "  <thead>\n",
       "    <tr style=\"text-align: right;\">\n",
       "      <th></th>\n",
       "      <th>Producto</th>\n",
       "      <th>Fecha</th>\n",
       "      <th>Valor</th>\n",
       "      <th>País</th>\n",
       "    </tr>\n",
       "  </thead>\n",
       "  <tbody>\n",
       "    <tr>\n",
       "      <th>0</th>\n",
       "      <td>Laptop</td>\n",
       "      <td>2025-01-15</td>\n",
       "      <td>1200.50</td>\n",
       "      <td>USA</td>\n",
       "    </tr>\n",
       "    <tr>\n",
       "      <th>1</th>\n",
       "      <td>Teléfono</td>\n",
       "      <td>2025-02-20</td>\n",
       "      <td>899.99</td>\n",
       "      <td>USA</td>\n",
       "    </tr>\n",
       "    <tr>\n",
       "      <th>2</th>\n",
       "      <td>Monitor</td>\n",
       "      <td>2025-04-05</td>\n",
       "      <td>249.99</td>\n",
       "      <td>Corea del sur</td>\n",
       "    </tr>\n",
       "    <tr>\n",
       "      <th>3</th>\n",
       "      <td>Ratón</td>\n",
       "      <td>2025-06-18</td>\n",
       "      <td>25.50</td>\n",
       "      <td>China</td>\n",
       "    </tr>\n",
       "    <tr>\n",
       "      <th>4</th>\n",
       "      <td>Impresora</td>\n",
       "      <td>2025-07-22</td>\n",
       "      <td>149.99</td>\n",
       "      <td>USA</td>\n",
       "    </tr>\n",
       "    <tr>\n",
       "      <th>5</th>\n",
       "      <td>Auriculares</td>\n",
       "      <td>2025-08-30</td>\n",
       "      <td>99.99</td>\n",
       "      <td>China</td>\n",
       "    </tr>\n",
       "    <tr>\n",
       "      <th>6</th>\n",
       "      <td>Cargador</td>\n",
       "      <td>NaT</td>\n",
       "      <td>NaN</td>\n",
       "      <td>China</td>\n",
       "    </tr>\n",
       "    <tr>\n",
       "      <th>7</th>\n",
       "      <td>Bateria</td>\n",
       "      <td>NaT</td>\n",
       "      <td>NaN</td>\n",
       "      <td>Corea del sur</td>\n",
       "    </tr>\n",
       "  </tbody>\n",
       "</table></div>"
      ],
      "text/plain": [
       "      Producto      Fecha    Valor           País\n",
       "0       Laptop 2025-01-15  1200.50            USA\n",
       "1     Teléfono 2025-02-20   899.99            USA\n",
       "2      Monitor 2025-04-05   249.99  Corea del sur\n",
       "3        Ratón 2025-06-18    25.50          China\n",
       "4    Impresora 2025-07-22   149.99            USA\n",
       "5  Auriculares 2025-08-30    99.99          China\n",
       "6     Cargador        NaT      NaN          China\n",
       "7      Bateria        NaT      NaN  Corea del sur"
      ]
     },
     "execution_count": 122,
     "metadata": {},
     "output_type": "execute_result"
    }
   ],
   "source": [
    "# left join\n",
    "pd.merge(df1, df2, on='Producto', how='right') "
   ]
  },
  {
   "cell_type": "markdown",
   "metadata": {},
   "source": [
    "**Outer join = Todos los productos de ambos dataframes tanto los que existen en ambas tablas como los que no**"
   ]
  },
  {
   "cell_type": "code",
   "execution_count": 123,
   "metadata": {},
   "outputs": [
    {
     "data": {
      "text/html": [
       "<div><div id=419851f2-1881-469b-bf72-9dc8fd1ebc98 style=\"display:none; background-color:#9D6CFF; color:white; width:200px; height:30px; padding-left:5px; border-radius:4px; flex-direction:row; justify-content:space-around; align-items:center;\" onmouseover=\"this.style.backgroundColor='#BA9BF8'\" onmouseout=\"this.style.backgroundColor='#9D6CFF'\" onclick=\"window.commands?.execute('create-mitosheet-from-dataframe-output');\">See Full Dataframe in Mito</div> <script> if (window.commands?.hasCommand('create-mitosheet-from-dataframe-output')) document.getElementById('419851f2-1881-469b-bf72-9dc8fd1ebc98').style.display = 'flex' </script> <table border=\"1\" class=\"dataframe\">\n",
       "  <thead>\n",
       "    <tr style=\"text-align: right;\">\n",
       "      <th></th>\n",
       "      <th>Producto</th>\n",
       "      <th>Fecha</th>\n",
       "      <th>Valor</th>\n",
       "      <th>País</th>\n",
       "    </tr>\n",
       "  </thead>\n",
       "  <tbody>\n",
       "    <tr>\n",
       "      <th>0</th>\n",
       "      <td>Auriculares</td>\n",
       "      <td>2025-08-30</td>\n",
       "      <td>99.99</td>\n",
       "      <td>China</td>\n",
       "    </tr>\n",
       "    <tr>\n",
       "      <th>1</th>\n",
       "      <td>Bateria</td>\n",
       "      <td>NaT</td>\n",
       "      <td>NaN</td>\n",
       "      <td>Corea del sur</td>\n",
       "    </tr>\n",
       "    <tr>\n",
       "      <th>2</th>\n",
       "      <td>Cargador</td>\n",
       "      <td>NaT</td>\n",
       "      <td>NaN</td>\n",
       "      <td>China</td>\n",
       "    </tr>\n",
       "    <tr>\n",
       "      <th>3</th>\n",
       "      <td>Impresora</td>\n",
       "      <td>2025-07-22</td>\n",
       "      <td>149.99</td>\n",
       "      <td>USA</td>\n",
       "    </tr>\n",
       "    <tr>\n",
       "      <th>4</th>\n",
       "      <td>Laptop</td>\n",
       "      <td>2025-01-15</td>\n",
       "      <td>1200.50</td>\n",
       "      <td>USA</td>\n",
       "    </tr>\n",
       "    <tr>\n",
       "      <th>5</th>\n",
       "      <td>Monitor</td>\n",
       "      <td>2025-04-05</td>\n",
       "      <td>249.99</td>\n",
       "      <td>Corea del sur</td>\n",
       "    </tr>\n",
       "    <tr>\n",
       "      <th>6</th>\n",
       "      <td>Ratón</td>\n",
       "      <td>2025-06-18</td>\n",
       "      <td>25.50</td>\n",
       "      <td>China</td>\n",
       "    </tr>\n",
       "    <tr>\n",
       "      <th>7</th>\n",
       "      <td>Tablet</td>\n",
       "      <td>2025-03-10</td>\n",
       "      <td>349.99</td>\n",
       "      <td>NaN</td>\n",
       "    </tr>\n",
       "    <tr>\n",
       "      <th>8</th>\n",
       "      <td>Teclado</td>\n",
       "      <td>2025-05-12</td>\n",
       "      <td>59.99</td>\n",
       "      <td>NaN</td>\n",
       "    </tr>\n",
       "    <tr>\n",
       "      <th>9</th>\n",
       "      <td>Teléfono</td>\n",
       "      <td>2025-02-20</td>\n",
       "      <td>899.99</td>\n",
       "      <td>USA</td>\n",
       "    </tr>\n",
       "  </tbody>\n",
       "</table></div>"
      ],
      "text/plain": [
       "      Producto      Fecha    Valor           País\n",
       "0  Auriculares 2025-08-30    99.99          China\n",
       "1      Bateria        NaT      NaN  Corea del sur\n",
       "2     Cargador        NaT      NaN          China\n",
       "3    Impresora 2025-07-22   149.99            USA\n",
       "4       Laptop 2025-01-15  1200.50            USA\n",
       "5      Monitor 2025-04-05   249.99  Corea del sur\n",
       "6        Ratón 2025-06-18    25.50          China\n",
       "7       Tablet 2025-03-10   349.99            NaN\n",
       "8      Teclado 2025-05-12    59.99            NaN\n",
       "9     Teléfono 2025-02-20   899.99            USA"
      ]
     },
     "execution_count": 123,
     "metadata": {},
     "output_type": "execute_result"
    }
   ],
   "source": [
    "# left join\n",
    "pd.merge(df1, df2, on='Producto', how='outer') "
   ]
  },
  {
   "cell_type": "markdown",
   "metadata": {},
   "source": [
    "**Cuando el nombre de campo de relación es diferente**"
   ]
  },
  {
   "cell_type": "code",
   "execution_count": 126,
   "metadata": {},
   "outputs": [
    {
     "data": {
      "text/html": [
       "<div><div id=6a5a7c29-ce24-45da-b689-48755dfe92e4 style=\"display:none; background-color:#9D6CFF; color:white; width:200px; height:30px; padding-left:5px; border-radius:4px; flex-direction:row; justify-content:space-around; align-items:center;\" onmouseover=\"this.style.backgroundColor='#BA9BF8'\" onmouseout=\"this.style.backgroundColor='#9D6CFF'\" onclick=\"window.commands?.execute('create-mitosheet-from-dataframe-output');\">See Full Dataframe in Mito</div> <script> if (window.commands?.hasCommand('create-mitosheet-from-dataframe-output')) document.getElementById('6a5a7c29-ce24-45da-b689-48755dfe92e4').style.display = 'flex' </script> <table border=\"1\" class=\"dataframe\">\n",
       "  <thead>\n",
       "    <tr style=\"text-align: right;\">\n",
       "      <th></th>\n",
       "      <th>Producto</th>\n",
       "      <th>Fecha</th>\n",
       "      <th>Valor</th>\n",
       "      <th>NombreProducto</th>\n",
       "      <th>País</th>\n",
       "    </tr>\n",
       "  </thead>\n",
       "  <tbody>\n",
       "    <tr>\n",
       "      <th>0</th>\n",
       "      <td>Laptop</td>\n",
       "      <td>2025-01-15</td>\n",
       "      <td>1200.50</td>\n",
       "      <td>Laptop</td>\n",
       "      <td>USA</td>\n",
       "    </tr>\n",
       "    <tr>\n",
       "      <th>1</th>\n",
       "      <td>Teléfono</td>\n",
       "      <td>2025-02-20</td>\n",
       "      <td>899.99</td>\n",
       "      <td>Teléfono</td>\n",
       "      <td>USA</td>\n",
       "    </tr>\n",
       "    <tr>\n",
       "      <th>2</th>\n",
       "      <td>Monitor</td>\n",
       "      <td>2025-04-05</td>\n",
       "      <td>249.99</td>\n",
       "      <td>Monitor</td>\n",
       "      <td>Corea del sur</td>\n",
       "    </tr>\n",
       "    <tr>\n",
       "      <th>3</th>\n",
       "      <td>Ratón</td>\n",
       "      <td>2025-06-18</td>\n",
       "      <td>25.50</td>\n",
       "      <td>Ratón</td>\n",
       "      <td>China</td>\n",
       "    </tr>\n",
       "    <tr>\n",
       "      <th>4</th>\n",
       "      <td>Impresora</td>\n",
       "      <td>2025-07-22</td>\n",
       "      <td>149.99</td>\n",
       "      <td>Impresora</td>\n",
       "      <td>USA</td>\n",
       "    </tr>\n",
       "    <tr>\n",
       "      <th>5</th>\n",
       "      <td>Auriculares</td>\n",
       "      <td>2025-08-30</td>\n",
       "      <td>99.99</td>\n",
       "      <td>Auriculares</td>\n",
       "      <td>China</td>\n",
       "    </tr>\n",
       "  </tbody>\n",
       "</table></div>"
      ],
      "text/plain": [
       "      Producto      Fecha    Valor NombreProducto           País\n",
       "0       Laptop 2025-01-15  1200.50         Laptop            USA\n",
       "1     Teléfono 2025-02-20   899.99       Teléfono            USA\n",
       "2      Monitor 2025-04-05   249.99        Monitor  Corea del sur\n",
       "3        Ratón 2025-06-18    25.50          Ratón          China\n",
       "4    Impresora 2025-07-22   149.99      Impresora            USA\n",
       "5  Auriculares 2025-08-30    99.99    Auriculares          China"
      ]
     },
     "execution_count": 126,
     "metadata": {},
     "output_type": "execute_result"
    }
   ],
   "source": [
    "pd.merge(df1, df3, left_on='Producto',right_on='NombreProducto', how='inner') "
   ]
  },
  {
   "cell_type": "markdown",
   "metadata": {},
   "source": [
    "**Merge con columnas que existen en ambos dataframes**"
   ]
  },
  {
   "cell_type": "code",
   "execution_count": 127,
   "metadata": {},
   "outputs": [
    {
     "data": {
      "text/html": [
       "<div><div id=588f3225-9b9f-47d9-b3b9-241336c7506e style=\"display:none; background-color:#9D6CFF; color:white; width:200px; height:30px; padding-left:5px; border-radius:4px; flex-direction:row; justify-content:space-around; align-items:center;\" onmouseover=\"this.style.backgroundColor='#BA9BF8'\" onmouseout=\"this.style.backgroundColor='#9D6CFF'\" onclick=\"window.commands?.execute('create-mitosheet-from-dataframe-output');\">See Full Dataframe in Mito</div> <script> if (window.commands?.hasCommand('create-mitosheet-from-dataframe-output')) document.getElementById('588f3225-9b9f-47d9-b3b9-241336c7506e').style.display = 'flex' </script> <table border=\"1\" class=\"dataframe\">\n",
       "  <thead>\n",
       "    <tr style=\"text-align: right;\">\n",
       "      <th></th>\n",
       "      <th>Producto</th>\n",
       "      <th>Fecha</th>\n",
       "      <th>Valor</th>\n",
       "      <th>Tipo_x</th>\n",
       "      <th>País</th>\n",
       "      <th>Tipo_y</th>\n",
       "    </tr>\n",
       "  </thead>\n",
       "  <tbody>\n",
       "    <tr>\n",
       "      <th>0</th>\n",
       "      <td>Auriculares</td>\n",
       "      <td>2025-08-30</td>\n",
       "      <td>99.99</td>\n",
       "      <td>Importado</td>\n",
       "      <td>China</td>\n",
       "      <td>Importado</td>\n",
       "    </tr>\n",
       "    <tr>\n",
       "      <th>1</th>\n",
       "      <td>Bateria</td>\n",
       "      <td>NaT</td>\n",
       "      <td>NaN</td>\n",
       "      <td>NaN</td>\n",
       "      <td>Corea del sur</td>\n",
       "      <td>Importado</td>\n",
       "    </tr>\n",
       "    <tr>\n",
       "      <th>2</th>\n",
       "      <td>Cargador</td>\n",
       "      <td>NaT</td>\n",
       "      <td>NaN</td>\n",
       "      <td>NaN</td>\n",
       "      <td>China</td>\n",
       "      <td>Importado</td>\n",
       "    </tr>\n",
       "    <tr>\n",
       "      <th>3</th>\n",
       "      <td>Impresora</td>\n",
       "      <td>2025-07-22</td>\n",
       "      <td>149.99</td>\n",
       "      <td>Importado</td>\n",
       "      <td>USA</td>\n",
       "      <td>Importado</td>\n",
       "    </tr>\n",
       "    <tr>\n",
       "      <th>4</th>\n",
       "      <td>Laptop</td>\n",
       "      <td>2025-01-15</td>\n",
       "      <td>1200.50</td>\n",
       "      <td>Importado</td>\n",
       "      <td>USA</td>\n",
       "      <td>Importado</td>\n",
       "    </tr>\n",
       "    <tr>\n",
       "      <th>5</th>\n",
       "      <td>Monitor</td>\n",
       "      <td>2025-04-05</td>\n",
       "      <td>249.99</td>\n",
       "      <td>Importado</td>\n",
       "      <td>Corea del sur</td>\n",
       "      <td>Importado</td>\n",
       "    </tr>\n",
       "    <tr>\n",
       "      <th>6</th>\n",
       "      <td>Ratón</td>\n",
       "      <td>2025-06-18</td>\n",
       "      <td>25.50</td>\n",
       "      <td>Importado</td>\n",
       "      <td>China</td>\n",
       "      <td>Importado</td>\n",
       "    </tr>\n",
       "    <tr>\n",
       "      <th>7</th>\n",
       "      <td>Tablet</td>\n",
       "      <td>2025-03-10</td>\n",
       "      <td>349.99</td>\n",
       "      <td>Importado</td>\n",
       "      <td>NaN</td>\n",
       "      <td>NaN</td>\n",
       "    </tr>\n",
       "    <tr>\n",
       "      <th>8</th>\n",
       "      <td>Teclado</td>\n",
       "      <td>2025-05-12</td>\n",
       "      <td>59.99</td>\n",
       "      <td>Importado</td>\n",
       "      <td>NaN</td>\n",
       "      <td>NaN</td>\n",
       "    </tr>\n",
       "    <tr>\n",
       "      <th>9</th>\n",
       "      <td>Teléfono</td>\n",
       "      <td>2025-02-20</td>\n",
       "      <td>899.99</td>\n",
       "      <td>Importado</td>\n",
       "      <td>USA</td>\n",
       "      <td>Importado</td>\n",
       "    </tr>\n",
       "  </tbody>\n",
       "</table></div>"
      ],
      "text/plain": [
       "      Producto      Fecha    Valor     Tipo_x           País     Tipo_y\n",
       "0  Auriculares 2025-08-30    99.99  Importado          China  Importado\n",
       "1      Bateria        NaT      NaN        NaN  Corea del sur  Importado\n",
       "2     Cargador        NaT      NaN        NaN          China  Importado\n",
       "3    Impresora 2025-07-22   149.99  Importado            USA  Importado\n",
       "4       Laptop 2025-01-15  1200.50  Importado            USA  Importado\n",
       "5      Monitor 2025-04-05   249.99  Importado  Corea del sur  Importado\n",
       "6        Ratón 2025-06-18    25.50  Importado          China  Importado\n",
       "7       Tablet 2025-03-10   349.99  Importado            NaN        NaN\n",
       "8      Teclado 2025-05-12    59.99  Importado            NaN        NaN\n",
       "9     Teléfono 2025-02-20   899.99  Importado            USA  Importado"
      ]
     },
     "execution_count": 127,
     "metadata": {},
     "output_type": "execute_result"
    }
   ],
   "source": [
    "df1[\"Tipo\"]=\"Importado\"\n",
    "df2[\"Tipo\"]=\"Importado\"\n",
    "pd.merge(df1, df2, on='Producto', how='outer') "
   ]
  },
  {
   "cell_type": "code",
   "execution_count": 128,
   "metadata": {},
   "outputs": [
    {
     "data": {
      "text/html": [
       "<div><div id=8faa2089-528d-4d8c-8843-925ea41ab418 style=\"display:none; background-color:#9D6CFF; color:white; width:200px; height:30px; padding-left:5px; border-radius:4px; flex-direction:row; justify-content:space-around; align-items:center;\" onmouseover=\"this.style.backgroundColor='#BA9BF8'\" onmouseout=\"this.style.backgroundColor='#9D6CFF'\" onclick=\"window.commands?.execute('create-mitosheet-from-dataframe-output');\">See Full Dataframe in Mito</div> <script> if (window.commands?.hasCommand('create-mitosheet-from-dataframe-output')) document.getElementById('8faa2089-528d-4d8c-8843-925ea41ab418').style.display = 'flex' </script> <table border=\"1\" class=\"dataframe\">\n",
       "  <thead>\n",
       "    <tr style=\"text-align: right;\">\n",
       "      <th></th>\n",
       "      <th>Producto</th>\n",
       "      <th>Fecha</th>\n",
       "      <th>Valor</th>\n",
       "      <th>Tipo_ventas</th>\n",
       "      <th>País</th>\n",
       "      <th>Tipo_maestro</th>\n",
       "    </tr>\n",
       "  </thead>\n",
       "  <tbody>\n",
       "    <tr>\n",
       "      <th>0</th>\n",
       "      <td>Auriculares</td>\n",
       "      <td>2025-08-30</td>\n",
       "      <td>99.99</td>\n",
       "      <td>Importado</td>\n",
       "      <td>China</td>\n",
       "      <td>Importado</td>\n",
       "    </tr>\n",
       "    <tr>\n",
       "      <th>1</th>\n",
       "      <td>Bateria</td>\n",
       "      <td>NaT</td>\n",
       "      <td>NaN</td>\n",
       "      <td>NaN</td>\n",
       "      <td>Corea del sur</td>\n",
       "      <td>Importado</td>\n",
       "    </tr>\n",
       "    <tr>\n",
       "      <th>2</th>\n",
       "      <td>Cargador</td>\n",
       "      <td>NaT</td>\n",
       "      <td>NaN</td>\n",
       "      <td>NaN</td>\n",
       "      <td>China</td>\n",
       "      <td>Importado</td>\n",
       "    </tr>\n",
       "    <tr>\n",
       "      <th>3</th>\n",
       "      <td>Impresora</td>\n",
       "      <td>2025-07-22</td>\n",
       "      <td>149.99</td>\n",
       "      <td>Importado</td>\n",
       "      <td>USA</td>\n",
       "      <td>Importado</td>\n",
       "    </tr>\n",
       "    <tr>\n",
       "      <th>4</th>\n",
       "      <td>Laptop</td>\n",
       "      <td>2025-01-15</td>\n",
       "      <td>1200.50</td>\n",
       "      <td>Importado</td>\n",
       "      <td>USA</td>\n",
       "      <td>Importado</td>\n",
       "    </tr>\n",
       "    <tr>\n",
       "      <th>5</th>\n",
       "      <td>Monitor</td>\n",
       "      <td>2025-04-05</td>\n",
       "      <td>249.99</td>\n",
       "      <td>Importado</td>\n",
       "      <td>Corea del sur</td>\n",
       "      <td>Importado</td>\n",
       "    </tr>\n",
       "    <tr>\n",
       "      <th>6</th>\n",
       "      <td>Ratón</td>\n",
       "      <td>2025-06-18</td>\n",
       "      <td>25.50</td>\n",
       "      <td>Importado</td>\n",
       "      <td>China</td>\n",
       "      <td>Importado</td>\n",
       "    </tr>\n",
       "    <tr>\n",
       "      <th>7</th>\n",
       "      <td>Tablet</td>\n",
       "      <td>2025-03-10</td>\n",
       "      <td>349.99</td>\n",
       "      <td>Importado</td>\n",
       "      <td>NaN</td>\n",
       "      <td>NaN</td>\n",
       "    </tr>\n",
       "    <tr>\n",
       "      <th>8</th>\n",
       "      <td>Teclado</td>\n",
       "      <td>2025-05-12</td>\n",
       "      <td>59.99</td>\n",
       "      <td>Importado</td>\n",
       "      <td>NaN</td>\n",
       "      <td>NaN</td>\n",
       "    </tr>\n",
       "    <tr>\n",
       "      <th>9</th>\n",
       "      <td>Teléfono</td>\n",
       "      <td>2025-02-20</td>\n",
       "      <td>899.99</td>\n",
       "      <td>Importado</td>\n",
       "      <td>USA</td>\n",
       "      <td>Importado</td>\n",
       "    </tr>\n",
       "  </tbody>\n",
       "</table></div>"
      ],
      "text/plain": [
       "      Producto      Fecha    Valor Tipo_ventas           País Tipo_maestro\n",
       "0  Auriculares 2025-08-30    99.99   Importado          China    Importado\n",
       "1      Bateria        NaT      NaN         NaN  Corea del sur    Importado\n",
       "2     Cargador        NaT      NaN         NaN          China    Importado\n",
       "3    Impresora 2025-07-22   149.99   Importado            USA    Importado\n",
       "4       Laptop 2025-01-15  1200.50   Importado            USA    Importado\n",
       "5      Monitor 2025-04-05   249.99   Importado  Corea del sur    Importado\n",
       "6        Ratón 2025-06-18    25.50   Importado          China    Importado\n",
       "7       Tablet 2025-03-10   349.99   Importado            NaN          NaN\n",
       "8      Teclado 2025-05-12    59.99   Importado            NaN          NaN\n",
       "9     Teléfono 2025-02-20   899.99   Importado            USA    Importado"
      ]
     },
     "execution_count": 128,
     "metadata": {},
     "output_type": "execute_result"
    }
   ],
   "source": [
    "pd.merge(df1, df2, on='Producto', how='outer',suffixes=[\"_ventas\",\"_maestro\"]) "
   ]
  },
  {
   "cell_type": "markdown",
   "metadata": {},
   "source": [
    "**Concatenando dataframes**"
   ]
  },
  {
   "cell_type": "code",
   "execution_count": 129,
   "metadata": {},
   "outputs": [
    {
     "data": {
      "text/html": [
       "<div><div id=83879396-1f42-47f4-8836-e724e60a4d9f style=\"display:none; background-color:#9D6CFF; color:white; width:200px; height:30px; padding-left:5px; border-radius:4px; flex-direction:row; justify-content:space-around; align-items:center;\" onmouseover=\"this.style.backgroundColor='#BA9BF8'\" onmouseout=\"this.style.backgroundColor='#9D6CFF'\" onclick=\"window.commands?.execute('create-mitosheet-from-dataframe-output');\">See Full Dataframe in Mito</div> <script> if (window.commands?.hasCommand('create-mitosheet-from-dataframe-output')) document.getElementById('83879396-1f42-47f4-8836-e724e60a4d9f').style.display = 'flex' </script> <table border=\"1\" class=\"dataframe\">\n",
       "  <thead>\n",
       "    <tr style=\"text-align: right;\">\n",
       "      <th></th>\n",
       "      <th>Producto</th>\n",
       "      <th>Fecha</th>\n",
       "      <th>Valor</th>\n",
       "      <th>Tipo</th>\n",
       "      <th>País</th>\n",
       "    </tr>\n",
       "  </thead>\n",
       "  <tbody>\n",
       "    <tr>\n",
       "      <th>0</th>\n",
       "      <td>Laptop</td>\n",
       "      <td>2025-01-15</td>\n",
       "      <td>1200.50</td>\n",
       "      <td>Importado</td>\n",
       "      <td>NaN</td>\n",
       "    </tr>\n",
       "    <tr>\n",
       "      <th>1</th>\n",
       "      <td>Teléfono</td>\n",
       "      <td>2025-02-20</td>\n",
       "      <td>899.99</td>\n",
       "      <td>Importado</td>\n",
       "      <td>NaN</td>\n",
       "    </tr>\n",
       "    <tr>\n",
       "      <th>2</th>\n",
       "      <td>Tablet</td>\n",
       "      <td>2025-03-10</td>\n",
       "      <td>349.99</td>\n",
       "      <td>Importado</td>\n",
       "      <td>NaN</td>\n",
       "    </tr>\n",
       "    <tr>\n",
       "      <th>3</th>\n",
       "      <td>Monitor</td>\n",
       "      <td>2025-04-05</td>\n",
       "      <td>249.99</td>\n",
       "      <td>Importado</td>\n",
       "      <td>NaN</td>\n",
       "    </tr>\n",
       "    <tr>\n",
       "      <th>4</th>\n",
       "      <td>Teclado</td>\n",
       "      <td>2025-05-12</td>\n",
       "      <td>59.99</td>\n",
       "      <td>Importado</td>\n",
       "      <td>NaN</td>\n",
       "    </tr>\n",
       "    <tr>\n",
       "      <th>...</th>\n",
       "      <td>...</td>\n",
       "      <td>...</td>\n",
       "      <td>...</td>\n",
       "      <td>...</td>\n",
       "      <td>...</td>\n",
       "    </tr>\n",
       "    <tr>\n",
       "      <th>3</th>\n",
       "      <td>Ratón</td>\n",
       "      <td>NaT</td>\n",
       "      <td>NaN</td>\n",
       "      <td>Importado</td>\n",
       "      <td>China</td>\n",
       "    </tr>\n",
       "    <tr>\n",
       "      <th>4</th>\n",
       "      <td>Impresora</td>\n",
       "      <td>NaT</td>\n",
       "      <td>NaN</td>\n",
       "      <td>Importado</td>\n",
       "      <td>USA</td>\n",
       "    </tr>\n",
       "    <tr>\n",
       "      <th>5</th>\n",
       "      <td>Auriculares</td>\n",
       "      <td>NaT</td>\n",
       "      <td>NaN</td>\n",
       "      <td>Importado</td>\n",
       "      <td>China</td>\n",
       "    </tr>\n",
       "    <tr>\n",
       "      <th>6</th>\n",
       "      <td>Cargador</td>\n",
       "      <td>NaT</td>\n",
       "      <td>NaN</td>\n",
       "      <td>Importado</td>\n",
       "      <td>China</td>\n",
       "    </tr>\n",
       "    <tr>\n",
       "      <th>7</th>\n",
       "      <td>Bateria</td>\n",
       "      <td>NaT</td>\n",
       "      <td>NaN</td>\n",
       "      <td>Importado</td>\n",
       "      <td>Corea del sur</td>\n",
       "    </tr>\n",
       "  </tbody>\n",
       "</table></div>"
      ],
      "text/plain": [
       "      Producto      Fecha    Valor       Tipo           País\n",
       "0       Laptop 2025-01-15  1200.50  Importado            NaN\n",
       "1     Teléfono 2025-02-20   899.99  Importado            NaN\n",
       "2       Tablet 2025-03-10   349.99  Importado            NaN\n",
       "3      Monitor 2025-04-05   249.99  Importado            NaN\n",
       "4      Teclado 2025-05-12    59.99  Importado            NaN\n",
       "5        Ratón 2025-06-18    25.50  Importado            NaN\n",
       "6    Impresora 2025-07-22   149.99  Importado            NaN\n",
       "7  Auriculares 2025-08-30    99.99  Importado            NaN\n",
       "0       Laptop        NaT      NaN  Importado            USA\n",
       "1     Teléfono        NaT      NaN  Importado            USA\n",
       "2      Monitor        NaT      NaN  Importado  Corea del sur\n",
       "3        Ratón        NaT      NaN  Importado          China\n",
       "4    Impresora        NaT      NaN  Importado            USA\n",
       "5  Auriculares        NaT      NaN  Importado          China\n",
       "6     Cargador        NaT      NaN  Importado          China\n",
       "7      Bateria        NaT      NaN  Importado  Corea del sur"
      ]
     },
     "execution_count": 129,
     "metadata": {},
     "output_type": "execute_result"
    }
   ],
   "source": [
    "pd.concat([df1, df2], axis=0)  # Concatena filas"
   ]
  },
  {
   "cell_type": "code",
   "execution_count": 132,
   "metadata": {},
   "outputs": [
    {
     "data": {
      "text/html": [
       "<div><div id=59ba7b46-f884-4965-b65a-11dbe5db3ab9 style=\"display:none; background-color:#9D6CFF; color:white; width:200px; height:30px; padding-left:5px; border-radius:4px; flex-direction:row; justify-content:space-around; align-items:center;\" onmouseover=\"this.style.backgroundColor='#BA9BF8'\" onmouseout=\"this.style.backgroundColor='#9D6CFF'\" onclick=\"window.commands?.execute('create-mitosheet-from-dataframe-output');\">See Full Dataframe in Mito</div> <script> if (window.commands?.hasCommand('create-mitosheet-from-dataframe-output')) document.getElementById('59ba7b46-f884-4965-b65a-11dbe5db3ab9').style.display = 'flex' </script> <table border=\"1\" class=\"dataframe\">\n",
       "  <thead>\n",
       "    <tr style=\"text-align: right;\">\n",
       "      <th></th>\n",
       "      <th>Producto</th>\n",
       "      <th>Fecha</th>\n",
       "      <th>Valor</th>\n",
       "      <th>Tipo</th>\n",
       "      <th>Producto</th>\n",
       "      <th>País</th>\n",
       "      <th>Tipo</th>\n",
       "    </tr>\n",
       "  </thead>\n",
       "  <tbody>\n",
       "    <tr>\n",
       "      <th>0</th>\n",
       "      <td>Laptop</td>\n",
       "      <td>2025-01-15</td>\n",
       "      <td>1200.50</td>\n",
       "      <td>Importado</td>\n",
       "      <td>Laptop</td>\n",
       "      <td>USA</td>\n",
       "      <td>Importado</td>\n",
       "    </tr>\n",
       "    <tr>\n",
       "      <th>1</th>\n",
       "      <td>Teléfono</td>\n",
       "      <td>2025-02-20</td>\n",
       "      <td>899.99</td>\n",
       "      <td>Importado</td>\n",
       "      <td>Teléfono</td>\n",
       "      <td>USA</td>\n",
       "      <td>Importado</td>\n",
       "    </tr>\n",
       "    <tr>\n",
       "      <th>2</th>\n",
       "      <td>Tablet</td>\n",
       "      <td>2025-03-10</td>\n",
       "      <td>349.99</td>\n",
       "      <td>Importado</td>\n",
       "      <td>Monitor</td>\n",
       "      <td>Corea del sur</td>\n",
       "      <td>Importado</td>\n",
       "    </tr>\n",
       "    <tr>\n",
       "      <th>3</th>\n",
       "      <td>Monitor</td>\n",
       "      <td>2025-04-05</td>\n",
       "      <td>249.99</td>\n",
       "      <td>Importado</td>\n",
       "      <td>Ratón</td>\n",
       "      <td>China</td>\n",
       "      <td>Importado</td>\n",
       "    </tr>\n",
       "    <tr>\n",
       "      <th>4</th>\n",
       "      <td>Teclado</td>\n",
       "      <td>2025-05-12</td>\n",
       "      <td>59.99</td>\n",
       "      <td>Importado</td>\n",
       "      <td>Impresora</td>\n",
       "      <td>USA</td>\n",
       "      <td>Importado</td>\n",
       "    </tr>\n",
       "    <tr>\n",
       "      <th>5</th>\n",
       "      <td>Ratón</td>\n",
       "      <td>2025-06-18</td>\n",
       "      <td>25.50</td>\n",
       "      <td>Importado</td>\n",
       "      <td>Auriculares</td>\n",
       "      <td>China</td>\n",
       "      <td>Importado</td>\n",
       "    </tr>\n",
       "    <tr>\n",
       "      <th>6</th>\n",
       "      <td>Impresora</td>\n",
       "      <td>2025-07-22</td>\n",
       "      <td>149.99</td>\n",
       "      <td>Importado</td>\n",
       "      <td>Cargador</td>\n",
       "      <td>China</td>\n",
       "      <td>Importado</td>\n",
       "    </tr>\n",
       "    <tr>\n",
       "      <th>7</th>\n",
       "      <td>Auriculares</td>\n",
       "      <td>2025-08-30</td>\n",
       "      <td>99.99</td>\n",
       "      <td>Importado</td>\n",
       "      <td>Bateria</td>\n",
       "      <td>Corea del sur</td>\n",
       "      <td>Importado</td>\n",
       "    </tr>\n",
       "  </tbody>\n",
       "</table></div>"
      ],
      "text/plain": [
       "      Producto      Fecha    Valor       Tipo     Producto           País  \\\n",
       "0       Laptop 2025-01-15  1200.50  Importado       Laptop            USA   \n",
       "1     Teléfono 2025-02-20   899.99  Importado     Teléfono            USA   \n",
       "2       Tablet 2025-03-10   349.99  Importado      Monitor  Corea del sur   \n",
       "3      Monitor 2025-04-05   249.99  Importado        Ratón          China   \n",
       "4      Teclado 2025-05-12    59.99  Importado    Impresora            USA   \n",
       "5        Ratón 2025-06-18    25.50  Importado  Auriculares          China   \n",
       "6    Impresora 2025-07-22   149.99  Importado     Cargador          China   \n",
       "7  Auriculares 2025-08-30    99.99  Importado      Bateria  Corea del sur   \n",
       "\n",
       "        Tipo  \n",
       "0  Importado  \n",
       "1  Importado  \n",
       "2  Importado  \n",
       "3  Importado  \n",
       "4  Importado  \n",
       "5  Importado  \n",
       "6  Importado  \n",
       "7  Importado  "
      ]
     },
     "execution_count": 132,
     "metadata": {},
     "output_type": "execute_result"
    }
   ],
   "source": [
    "pd.concat([df1, df2], axis=1)  # Concatena columnas"
   ]
  },
  {
   "cell_type": "markdown",
   "metadata": {},
   "source": [
    "### Operaciones con fechas\n",
    "\n",
    "- Convertir columna a datetime:\n",
    "- Extraer año, mes, día:\n",
    "\n",
    "Documentación: [Manejo de fechas](https://pandas.pydata.org/docs/user_guide/timeseries.html)."
   ]
  },
  {
   "cell_type": "code",
   "execution_count": 133,
   "metadata": {},
   "outputs": [],
   "source": [
    "df['fecha'] = pd.to_datetime(df['fecha'])"
   ]
  },
  {
   "cell_type": "code",
   "execution_count": 134,
   "metadata": {},
   "outputs": [],
   "source": [
    "df['año'] = df['fecha'].dt.year\n",
    "df['mes'] = df['fecha'].dt.month\n",
    "df['dia'] = df['fecha'].dt.day"
   ]
  },
  {
   "cell_type": "code",
   "execution_count": 135,
   "metadata": {},
   "outputs": [
    {
     "data": {
      "text/html": [
       "<div><div id=0a23280d-df3c-4d2f-9ddb-2d1350791e35 style=\"display:none; background-color:#9D6CFF; color:white; width:200px; height:30px; padding-left:5px; border-radius:4px; flex-direction:row; justify-content:space-around; align-items:center;\" onmouseover=\"this.style.backgroundColor='#BA9BF8'\" onmouseout=\"this.style.backgroundColor='#9D6CFF'\" onclick=\"window.commands?.execute('create-mitosheet-from-dataframe-output');\">See Full Dataframe in Mito</div> <script> if (window.commands?.hasCommand('create-mitosheet-from-dataframe-output')) document.getElementById('0a23280d-df3c-4d2f-9ddb-2d1350791e35').style.display = 'flex' </script> <table border=\"1\" class=\"dataframe\">\n",
       "  <thead>\n",
       "    <tr style=\"text-align: right;\">\n",
       "      <th></th>\n",
       "      <th>id</th>\n",
       "      <th>producto</th>\n",
       "      <th>fecha</th>\n",
       "      <th>precio</th>\n",
       "      <th>año</th>\n",
       "      <th>mes</th>\n",
       "      <th>dia</th>\n",
       "    </tr>\n",
       "  </thead>\n",
       "  <tbody>\n",
       "    <tr>\n",
       "      <th>0</th>\n",
       "      <td>1.0</td>\n",
       "      <td>Laptop</td>\n",
       "      <td>2025-01-15</td>\n",
       "      <td>1200.50</td>\n",
       "      <td>2025</td>\n",
       "      <td>1</td>\n",
       "      <td>15</td>\n",
       "    </tr>\n",
       "    <tr>\n",
       "      <th>1</th>\n",
       "      <td>2.0</td>\n",
       "      <td>Teléfono</td>\n",
       "      <td>2025-02-20</td>\n",
       "      <td>0.00</td>\n",
       "      <td>2025</td>\n",
       "      <td>2</td>\n",
       "      <td>20</td>\n",
       "    </tr>\n",
       "    <tr>\n",
       "      <th>2</th>\n",
       "      <td>3.0</td>\n",
       "      <td>Tablet</td>\n",
       "      <td>2025-03-10</td>\n",
       "      <td>0.00</td>\n",
       "      <td>2025</td>\n",
       "      <td>3</td>\n",
       "      <td>10</td>\n",
       "    </tr>\n",
       "    <tr>\n",
       "      <th>3</th>\n",
       "      <td>4.0</td>\n",
       "      <td>Monitor</td>\n",
       "      <td>2025-04-05</td>\n",
       "      <td>0.00</td>\n",
       "      <td>2025</td>\n",
       "      <td>4</td>\n",
       "      <td>5</td>\n",
       "    </tr>\n",
       "    <tr>\n",
       "      <th>4</th>\n",
       "      <td>5.0</td>\n",
       "      <td>Teclado</td>\n",
       "      <td>2025-05-12</td>\n",
       "      <td>59.99</td>\n",
       "      <td>2025</td>\n",
       "      <td>5</td>\n",
       "      <td>12</td>\n",
       "    </tr>\n",
       "    <tr>\n",
       "      <th>5</th>\n",
       "      <td>NaN</td>\n",
       "      <td>Ratón</td>\n",
       "      <td>2025-06-18</td>\n",
       "      <td>30.00</td>\n",
       "      <td>2025</td>\n",
       "      <td>6</td>\n",
       "      <td>18</td>\n",
       "    </tr>\n",
       "    <tr>\n",
       "      <th>6</th>\n",
       "      <td>7.0</td>\n",
       "      <td>Impresora</td>\n",
       "      <td>2025-07-22</td>\n",
       "      <td>149.99</td>\n",
       "      <td>2025</td>\n",
       "      <td>7</td>\n",
       "      <td>22</td>\n",
       "    </tr>\n",
       "    <tr>\n",
       "      <th>7</th>\n",
       "      <td>8.0</td>\n",
       "      <td>Auriculares</td>\n",
       "      <td>2025-08-30</td>\n",
       "      <td>99.99</td>\n",
       "      <td>2025</td>\n",
       "      <td>8</td>\n",
       "      <td>30</td>\n",
       "    </tr>\n",
       "    <tr>\n",
       "      <th>8</th>\n",
       "      <td>9.0</td>\n",
       "      <td>Cámara</td>\n",
       "      <td>2025-09-10</td>\n",
       "      <td>499.99</td>\n",
       "      <td>2025</td>\n",
       "      <td>9</td>\n",
       "      <td>10</td>\n",
       "    </tr>\n",
       "    <tr>\n",
       "      <th>9</th>\n",
       "      <td>10.0</td>\n",
       "      <td>Cargador</td>\n",
       "      <td>2025-09-10</td>\n",
       "      <td>199.99</td>\n",
       "      <td>2025</td>\n",
       "      <td>9</td>\n",
       "      <td>10</td>\n",
       "    </tr>\n",
       "  </tbody>\n",
       "</table></div>"
      ],
      "text/plain": [
       "     id     producto      fecha   precio   año  mes  dia\n",
       "0   1.0       Laptop 2025-01-15  1200.50  2025    1   15\n",
       "1   2.0     Teléfono 2025-02-20     0.00  2025    2   20\n",
       "2   3.0       Tablet 2025-03-10     0.00  2025    3   10\n",
       "3   4.0      Monitor 2025-04-05     0.00  2025    4    5\n",
       "4   5.0      Teclado 2025-05-12    59.99  2025    5   12\n",
       "5   NaN        Ratón 2025-06-18    30.00  2025    6   18\n",
       "6   7.0    Impresora 2025-07-22   149.99  2025    7   22\n",
       "7   8.0  Auriculares 2025-08-30    99.99  2025    8   30\n",
       "8   9.0       Cámara 2025-09-10   499.99  2025    9   10\n",
       "9  10.0     Cargador 2025-09-10   199.99  2025    9   10"
      ]
     },
     "execution_count": 135,
     "metadata": {},
     "output_type": "execute_result"
    }
   ],
   "source": [
    "df"
   ]
  },
  {
   "cell_type": "markdown",
   "metadata": {},
   "source": [
    "## Conclusión\n",
    "\n",
    "Pandas es una librería poderosa y versátil que facilita la manipulación y análisis de datos en Python. Sus estructuras principales, DataFrame y Series, permiten manejar datos tabulares de manera eficiente. Las operaciones básicas cubren la creación, lectura, inspección, selección, manipulación, combinación y visualización de datos.\n",
    "\n",
    "Para seguir aprendiendo, se recomienda explorar la [documentación oficial de Pandas](https://pandas.pydata.org/docs/), realizar ejercicios prácticos y consultar tutoriales en plataformas como Kaggle, W3Schools y libros especializados como \"Python for Data Analysis\" de Wes McKinney."
   ]
  }
 ],
 "metadata": {
  "kernelspec": {
   "display_name": "Python 3 (ipykernel)",
   "language": "python",
   "name": "python3"
  },
  "language_info": {
   "codemirror_mode": {
    "name": "ipython",
    "version": 3
   },
   "file_extension": ".py",
   "mimetype": "text/x-python",
   "name": "python",
   "nbconvert_exporter": "python",
   "pygments_lexer": "ipython3",
   "version": "3.11.1"
  }
 },
 "nbformat": 4,
 "nbformat_minor": 4
}
